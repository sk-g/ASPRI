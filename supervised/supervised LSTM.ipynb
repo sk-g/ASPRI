{
 "cells": [
  {
   "cell_type": "code",
   "execution_count": 99,
   "metadata": {},
   "outputs": [],
   "source": [
    "import tensorflow as tf\n",
    "from tensorflow.contrib import rnn\n",
    "import os,re,time\n",
    "import numpy as np\n",
    "import pandas as pd\n",
    "os.environ['TF_CPP_MIN_LOG_LEVEL'] = '3'\n",
    "from keras import backend as K\n",
    "from keras.preprocessing.text import one_hot\n",
    "from keras.preprocessing.sequence import pad_sequences\n",
    "from keras.models import Sequential\n",
    "from keras.layers import Dense\n",
    "from keras.layers import Flatten\n",
    "from keras.layers.embeddings import Embedding\n",
    "import matplotlib.pyplot as plt\n",
    "import seaborn as sns\n",
    "%matplotlib inline\n",
    "from sklearn.model_selection import train_test_split as split"
   ]
  },
  {
   "cell_type": "code",
   "execution_count": 4,
   "metadata": {},
   "outputs": [],
   "source": [
    "paths = pd.read_csv('11012018.csv',sep='\\t',low_memory = False,index_col = False)"
   ]
  },
  {
   "cell_type": "code",
   "execution_count": 5,
   "metadata": {},
   "outputs": [
    {
     "data": {
      "text/html": [
       "<div>\n",
       "<style scoped>\n",
       "    .dataframe tbody tr th:only-of-type {\n",
       "        vertical-align: middle;\n",
       "    }\n",
       "\n",
       "    .dataframe tbody tr th {\n",
       "        vertical-align: top;\n",
       "    }\n",
       "\n",
       "    .dataframe thead th {\n",
       "        text-align: right;\n",
       "    }\n",
       "</style>\n",
       "<table border=\"1\" class=\"dataframe\">\n",
       "  <thead>\n",
       "    <tr style=\"text-align: right;\">\n",
       "      <th></th>\n",
       "      <th>Unnamed: 0</th>\n",
       "      <th>Paths</th>\n",
       "      <th>Fake</th>\n",
       "    </tr>\n",
       "  </thead>\n",
       "  <tbody>\n",
       "    <tr>\n",
       "      <th>0</th>\n",
       "      <td>0</td>\n",
       "      <td>6939 4826 38803 56203</td>\n",
       "      <td>0.0</td>\n",
       "    </tr>\n",
       "    <tr>\n",
       "      <th>1</th>\n",
       "      <td>1</td>\n",
       "      <td>6939 4826 38803 56203</td>\n",
       "      <td>0.0</td>\n",
       "    </tr>\n",
       "    <tr>\n",
       "      <th>2</th>\n",
       "      <td>2</td>\n",
       "      <td>6939 4826 38803 56203</td>\n",
       "      <td>0.0</td>\n",
       "    </tr>\n",
       "    <tr>\n",
       "      <th>3</th>\n",
       "      <td>3</td>\n",
       "      <td>6939 4826 38803 56203</td>\n",
       "      <td>0.0</td>\n",
       "    </tr>\n",
       "    <tr>\n",
       "      <th>4</th>\n",
       "      <td>4</td>\n",
       "      <td>6939 4826 38803 56203</td>\n",
       "      <td>0.0</td>\n",
       "    </tr>\n",
       "  </tbody>\n",
       "</table>\n",
       "</div>"
      ],
      "text/plain": [
       "   Unnamed: 0                  Paths  Fake\n",
       "0           0  6939 4826 38803 56203   0.0\n",
       "1           1  6939 4826 38803 56203   0.0\n",
       "2           2  6939 4826 38803 56203   0.0\n",
       "3           3  6939 4826 38803 56203   0.0\n",
       "4           4  6939 4826 38803 56203   0.0"
      ]
     },
     "execution_count": 5,
     "metadata": {},
     "output_type": "execute_result"
    }
   ],
   "source": [
    "paths.head()"
   ]
  },
  {
   "cell_type": "code",
   "execution_count": 6,
   "metadata": {},
   "outputs": [],
   "source": [
    "del paths['Unnamed: 0']"
   ]
  },
  {
   "cell_type": "code",
   "execution_count": 9,
   "metadata": {},
   "outputs": [],
   "source": [
    "train,test = split(paths,test_size = 0.2)"
   ]
  },
  {
   "cell_type": "code",
   "execution_count": 85,
   "metadata": {},
   "outputs": [
    {
     "data": {
      "text/plain": [
       "<matplotlib.axes._subplots.AxesSubplot at 0x7f2959358ef0>"
      ]
     },
     "execution_count": 85,
     "metadata": {},
     "output_type": "execute_result"
    },
    {
     "data": {
      "image/png": "[encoded data removed]",
      "text/plain": [
       "<matplotlib.figure.Figure at 0x7f2959358550>"
      ]
     },
     "metadata": {},
     "output_type": "display_data"
    }
   ],
   "source": [
    "sns.countplot(x = 'Fake',data = train)"
   ]
  },
  {
   "cell_type": "code",
   "execution_count": 89,
   "metadata": {},
   "outputs": [
    {
     "data": {
      "text/plain": [
       "0.0    197072\n",
       "1.0     53164\n",
       "Name: Fake, dtype: int64"
      ]
     },
     "execution_count": 89,
     "metadata": {},
     "output_type": "execute_result"
    }
   ],
   "source": [
    "train.Fake.value_counts()"
   ]
  },
  {
   "cell_type": "code",
   "execution_count": 90,
   "metadata": {},
   "outputs": [
    {
     "data": {
      "text/plain": [
       "0.0    49258\n",
       "1.0    13301\n",
       "Name: Fake, dtype: int64"
      ]
     },
     "execution_count": 90,
     "metadata": {},
     "output_type": "execute_result"
    }
   ],
   "source": [
    "test.Fake.value_counts()"
   ]
  },
  {
   "cell_type": "code",
   "execution_count": 10,
   "metadata": {},
   "outputs": [],
   "source": [
    "max_length = 30\n",
    "vocab_size = 24612 #unique tokens for this file\n",
    "encoded_train = [one_hot(d,vocab_size) for d in train['Paths']]\n",
    "encoded_test = [one_hot(d,vocab_size) for d in test['Paths']]\n",
    "train_lengths = [len(t) for t in encoded_train] #array of lengths so we can pad zeros later\n",
    "test_lengths= [len(t) for t in encoded_test] #array of lengths for test set to be padded later"
   ]
  },
  {
   "cell_type": "code",
   "execution_count": 60,
   "metadata": {},
   "outputs": [],
   "source": [
    "class SimpleDataIterator():\n",
    "    def __init__(self, df):\n",
    "        self.df = df\n",
    "        self.size = len(self.df)\n",
    "        self.epochs = 0\n",
    "        self.shuffle()\n",
    "\n",
    "    def shuffle(self):\n",
    "        self.df = self.df.sample(frac=1).reset_index(drop=True)\n",
    "        self.cursor = 0\n",
    "\n",
    "    def next_batch(self, n):\n",
    "        if self.cursor+n-1 > self.size:\n",
    "            self.epochs += 1\n",
    "            self.shuffle()\n",
    "        res = self.df.ix[self.cursor:self.cursor+n-1]\n",
    "        self.cursor += n\n",
    "        return res['data'], res['labels'], res['length']\n",
    "\n",
    "class PaddedDataIterator(SimpleDataIterator):\n",
    "    def next_batch(self, n):\n",
    "        if self.cursor+n > self.size:\n",
    "            self.epochs += 1\n",
    "            self.shuffle()\n",
    "        res = self.df.ix[self.cursor:self.cursor+n-1]\n",
    "        self.cursor += n\n",
    "\n",
    "        # Pad sequences with 0s so they are all the same length\n",
    "        maxlen = max(res['length'])\n",
    "        x = np.zeros([n, maxlen], dtype=np.int32)\n",
    "        for i, x_i in enumerate(x):\n",
    "            x_i[:res['length'].values[i]] = res['data'].values[i]\n",
    "\n",
    "        return x, res['labels'], res['length']"
   ]
  },
  {
   "cell_type": "code",
   "execution_count": 67,
   "metadata": {},
   "outputs": [
    {
     "name": "stdout",
     "output_type": "stream",
     "text": [
      "Input sequences\n",
      " 0                         [7745, 19040]\n",
      "1    [2722, 18620, 16826, 16826, 16826]\n",
      "2                      [2169, 91, 7745]\n",
      "Name: data, dtype: object\n",
      "\n",
      "Target values\n",
      " 0    0.0\n",
      "1    0.0\n",
      "2    1.0\n",
      "Name: labels, dtype: float64\n",
      "\n",
      "Sequence lengths\n",
      " 0    2\n",
      "1    5\n",
      "2    3\n",
      "Name: length, dtype: int64\n"
     ]
    },
    {
     "name": "stderr",
     "output_type": "stream",
     "text": [
      "/usr/local/lib/python3.5/dist-packages/ipykernel_launcher.py:16: DeprecationWarning: \n",
      ".ix is deprecated. Please use\n",
      ".loc for label based indexing or\n",
      ".iloc for positional indexing\n",
      "\n",
      "See the documentation here:\n",
      "http://pandas.pydata.org/pandas-docs/stable/indexing.html#ix-indexer-is-deprecated\n",
      "  app.launch_new_instance()\n"
     ]
    }
   ],
   "source": [
    "labels_train = train['Fake']\n",
    "train_dic={}\n",
    "train_dic[\"data\"] = encoded_train\n",
    "train_dic[\"labels\"] = labels_train#labels_train[0].ravel().tolist()\n",
    "train_dic[\"length\"] = train_lengths\n",
    "train_len = len(train)\n",
    "test_len = len(test)\n",
    "\n",
    "train_ = pd.DataFrame.from_dict(data=train_dic, orient='columns', dtype=None)\n",
    "\n",
    "\n",
    "\n",
    "test_dic={}\n",
    "test_dic[\"data\"] = encoded_test\n",
    "test_dic[\"length\"] = test_lengths\n",
    "test_dic[\"labels\"] = test['Fake']\n",
    "test_ = pd.DataFrame.from_dict(data=test_dic, orient='columns', dtype=None)\n",
    "\n",
    "test_input = test.values\n",
    "\n",
    "data = SimpleDataIterator(train_)\n",
    "d = data.next_batch(3)\n",
    "print('Input sequences\\n', d[0], end='\\n\\n')\n",
    "print('Target values\\n', d[1], end='\\n\\n')\n",
    "print('Sequence lengths\\n', d[2])"
   ]
  },
  {
   "cell_type": "code",
   "execution_count": 62,
   "metadata": {},
   "outputs": [
    {
     "name": "stdout",
     "output_type": "stream",
     "text": [
      "Input sequences\n",
      " [[ 7745  7042 20472]\n",
      " [21989 24051 19301]\n",
      " [12039     0     0]]\n",
      "\n"
     ]
    },
    {
     "name": "stderr",
     "output_type": "stream",
     "text": [
      "/usr/local/lib/python3.5/dist-packages/ipykernel_launcher.py:25: DeprecationWarning: \n",
      ".ix is deprecated. Please use\n",
      ".loc for label based indexing or\n",
      ".iloc for positional indexing\n",
      "\n",
      "See the documentation here:\n",
      "http://pandas.pydata.org/pandas-docs/stable/indexing.html#ix-indexer-is-deprecated\n"
     ]
    }
   ],
   "source": [
    "data = PaddedDataIterator(train_)\n",
    "train_data = PaddedDataIterator(test_)\n",
    "d = data.next_batch(3)\n",
    "print('Input sequences\\n', d[0], end='\\n\\n')"
   ]
  },
  {
   "cell_type": "code",
   "execution_count": 75,
   "metadata": {},
   "outputs": [],
   "source": [
    "def reset_graph():\n",
    "    if 'sess' in globals() and sess:\n",
    "        sess.close()\n",
    "    tf.reset_default_graph()"
   ]
  },
  {
   "cell_type": "code",
   "execution_count": 102,
   "metadata": {},
   "outputs": [],
   "source": [
    "def build_graph(\n",
    "    vocab_size = vocab_size,\n",
    "    state_size = 24,\n",
    "    batch_size = 189,\n",
    "    num_classes = 2):\n",
    "\n",
    "    reset_graph()\n",
    "\n",
    "    # Placeholders\n",
    "    x = tf.placeholder(tf.int32, [batch_size, None]) # [batch_size, num_steps]\n",
    "    seqlen = tf.placeholder(tf.int32, [batch_size])\n",
    "    y = tf.placeholder(tf.int32, [batch_size])\n",
    "    keep_prob = tf.placeholder_with_default(1.0, [])\n",
    "\n",
    "    # Embedding layer\n",
    "    embeddings = tf.get_variable('embedding_matrix', [vocab_size, state_size])\n",
    "    rnn_inputs = tf.nn.embedding_lookup(embeddings, x)\n",
    "\n",
    "    # RNN\n",
    "    cell = tf.contrib.rnn.GRUCell(state_size)\n",
    "    #cell = tf.nn.rnn_cell.BasicLSTMCell(state_size,forget_bias = 1)\n",
    "    #cell = tf.contrib.rnn.LSTMCell(state_size,forget_bias = 1)\n",
    "    init_state = tf.get_variable('init_state', [1, state_size],\n",
    "                                 initializer=tf.constant_initializer(0.0))\n",
    "    init_state = tf.tile(init_state, [batch_size, 1])\n",
    "    rnn_outputs, final_state = tf.nn.dynamic_rnn(cell, rnn_inputs,dtype=tf.float32)#, sequence_length=seqlen,initial_state=init_state)\n",
    "\n",
    "    # Add dropout, as the model otherwise quickly overfits\n",
    "    rnn_outputs = tf.nn.dropout(rnn_outputs, keep_prob)\n",
    "\n",
    "    \"\"\"\n",
    "    Obtain the last relevant output. The best approach in the future will be to use:\n",
    "\n",
    "        last_rnn_output = tf.gather_nd(rnn_outputs, tf.pack([tf.range(batch_size), seqlen-1], axis=1))\n",
    "\n",
    "    which is the Tensorflow equivalent of numpy's rnn_outputs[range(30), seqlen-1, :], but the\n",
    "    gradient for this op has not been implemented as of this writing.\n",
    "\n",
    "    The below solution works, but throws a UserWarning re: the gradient.\n",
    "    \"\"\"\n",
    "    idx = tf.range(batch_size)*tf.shape(rnn_outputs)[1] + (seqlen - 1)\n",
    "    last_rnn_output = tf.gather(tf.reshape(rnn_outputs, [-1, state_size]), idx)\n",
    "\n",
    "    # Softmax layer\n",
    "    with tf.variable_scope('softmax'):\n",
    "        W = tf.get_variable('W', [state_size, num_classes])\n",
    "        b = tf.get_variable('b', [num_classes], initializer=tf.constant_initializer(0.0))\n",
    "    logits = tf.matmul(last_rnn_output, W) + b\n",
    "    preds = tf.nn.softmax(logits)\n",
    "    correct = tf.equal(tf.cast(tf.argmax(preds,1),tf.int32), y)\n",
    "    accuracy = tf.reduce_mean(tf.cast(correct, tf.float32))\n",
    "    \n",
    "    #decayed learning rate\n",
    "    global_step = tf.Variable(0, trainable=False)\n",
    "    starter_learning_rate = 0.1\n",
    "    learning_rate = tf.train.natural_exp_decay(starter_learning_rate, global_step,20, 0.8, staircase=False)\n",
    "    loss = tf.reduce_mean(tf.nn.sparse_softmax_cross_entropy_with_logits(logits = logits, labels = y))\n",
    "    train_step = (tf.train.AdamOptimizer(learning_rate).minimize(loss,global_step = global_step))\n",
    "    lr_print = tf.Print(learning_rate,[learning_rate])\n",
    "    return {\n",
    "        'x': x,\n",
    "        'seqlen': seqlen,\n",
    "        'y': y,\n",
    "        'dropout': keep_prob,\n",
    "        'loss': loss,\n",
    "        'ts': train_step,\n",
    "        'preds': preds,\n",
    "        'accuracy': accuracy,\n",
    "        'lr_print': lr_print\n",
    "    }"
   ]
  },
  {
   "cell_type": "code",
   "execution_count": 103,
   "metadata": {},
   "outputs": [],
   "source": [
    "def train_graph(graph, sess, batch_size = 1024, num_epochs = 100, iterator = PaddedDataIterator):\n",
    "\n",
    "    start = time.time()\n",
    "    sess.run(tf.global_variables_initializer())\n",
    "    tr = iterator(train_)\n",
    "    te = iterator(test_)\n",
    "\n",
    "    step, accuracy = 0, 0\n",
    "    tr_losses, te_losses = [], []\n",
    "    current_epoch = 0\n",
    "    while current_epoch < num_epochs:\n",
    "        step += 1\n",
    "        batch = tr.next_batch(batch_size)\n",
    "        feed = {g['x']: batch[0], g['y']: batch[1], g['seqlen']: batch[2], g['dropout']: 0.8}\n",
    "        accuracy_, _,l_r = sess.run([g['accuracy'], g['ts'],g['lr_print']], feed_dict=feed)\n",
    "        accuracy += accuracy_\n",
    "        #if step >1 and accuracy/step >= 0.97:\n",
    "        #    print(\"Accuracy after epoch\", current_epoch, \" - tr:\", accuracy / step)\n",
    "        #    break;\n",
    "\n",
    "        if tr.epochs > current_epoch:\n",
    "            current_epoch += 1\n",
    "            tr_losses.append(accuracy / step)\n",
    "            step, accuracy = 0, 0\n",
    "            #eval test set\n",
    "            \n",
    "            te_epoch = te.epochs\n",
    "            while te.epochs == te_epoch:\n",
    "                step += 1\n",
    "                batch = te.next_batch(batch_size)\n",
    "                feed = {g['x']: batch[0], g['y']: batch[1], g['seqlen']: batch[2]}\n",
    "                accuracy_ = sess.run([g['accuracy'],g['loss']], feed_dict=feed)[0]\n",
    "                accuracy += accuracy_\n",
    "            te_losses.append(accuracy / step)\n",
    "            step, accuracy = 0,0\n",
    "            \n",
    "            if current_epoch%5 == 0:\n",
    "                print(\" - learning rate:\", l_r,\" Accuracy after epoch\", current_epoch, \" - tr:\", tr_losses[-1], \"- te:\", te_losses[-1])\n",
    "    end = time.time()\n",
    "    seconds = end - start\n",
    "    minutes = seconds//60\n",
    "    seconds = seconds % 60\n",
    "    hours = 0\n",
    "    if minutes > 60:\n",
    "        hours = minutes//60\n",
    "        minutes = minutes%60\n",
    "    print(\"time taken for training: {0} hours, {1} minutes and {2} seconds\".format(hours,minutes,seconds))\n",
    "    return tr_losses, te_losses"
   ]
  },
  {
   "cell_type": "code",
   "execution_count": 104,
   "metadata": {},
   "outputs": [
    {
     "name": "stderr",
     "output_type": "stream",
     "text": [
      "/usr/local/lib/python3.5/dist-packages/tensorflow/python/ops/gradients_impl.py:97: UserWarning: Converting sparse IndexedSlices to a dense Tensor of unknown shape. This may consume a large amount of memory.\n",
      "  \"Converting sparse IndexedSlices to a dense Tensor of unknown shape. \"\n",
      "/usr/local/lib/python3.5/dist-packages/ipykernel_launcher.py:25: DeprecationWarning: \n",
      ".ix is deprecated. Please use\n",
      ".loc for label based indexing or\n",
      ".iloc for positional indexing\n",
      "\n",
      "See the documentation here:\n",
      "http://pandas.pydata.org/pandas-docs/stable/indexing.html#ix-indexer-is-deprecated\n"
     ]
    },
    {
     "name": "stdout",
     "output_type": "stream",
     "text": [
      " - learning rate: 6.40368e-23  Accuracy after epoch 5  - tr: 0.9596687692110656 - te: 0.9600569928278688\n",
      " - learning rate: 0.0  Accuracy after epoch 10  - tr: 0.959564709272541 - te: 0.9599769467213115\n",
      " - learning rate: 0.0  Accuracy after epoch 15  - tr: 0.9596687692110656 - te: 0.9601210297131147\n",
      " - learning rate: 0.0  Accuracy after epoch 20  - tr: 0.9598208568135246 - te: 0.9602491034836066\n",
      " - learning rate: 0.0  Accuracy after epoch 25  - tr: 0.9595967277151639 - te: 0.9602010758196722\n",
      " - learning rate: 0.0  Accuracy after epoch 30  - tr: 0.9597528176229508 - te: 0.9600730020491803\n",
      " - learning rate: 0.0  Accuracy after epoch 35  - tr: 0.9596047323258197 - te: 0.9603291495901639\n",
      " - learning rate: 0.0  Accuracy after epoch 40  - tr: 0.9597328060963115 - te: 0.9604892418032787\n",
      " - learning rate: 0.0  Accuracy after epoch 45  - tr: 0.9596927830430327 - te: 0.9603131403688525\n",
      " - learning rate: 0.0  Accuracy after epoch 50  - tr: 0.9597047899590164 - te: 0.9601850665983607\n",
      " - learning rate: 0.0  Accuracy after epoch 55  - tr: 0.9596967853483607 - te: 0.9602170850409836\n",
      " - learning rate: 0.0  Accuracy after epoch 60  - tr: 0.9596967853483607 - te: 0.9599929559426229\n",
      " - learning rate: 0.0  Accuracy after epoch 65  - tr: 0.9596647669057377 - te: 0.9601690573770492\n",
      " - learning rate: 0.0  Accuracy after epoch 70  - tr: 0.9597007876536885 - te: 0.9601850665983607\n",
      " - learning rate: 0.0  Accuracy after epoch 75  - tr: 0.9597408107069673 - te: 0.9600890112704918\n",
      " - learning rate: 0.0  Accuracy after epoch 80  - tr: 0.9596607646004098 - te: 0.9603291495901639\n",
      " - learning rate: 0.0  Accuracy after epoch 85  - tr: 0.9598608798668032 - te: 0.9603771772540983\n",
      " - learning rate: 0.0  Accuracy after epoch 90  - tr: 0.9597087922643442 - te: 0.9602170850409836\n",
      " - learning rate: 0.0  Accuracy after epoch 95  - tr: 0.9596647669057377 - te: 0.9599929559426229\n",
      " - learning rate: 0.0  Accuracy after epoch 100  - tr: 0.9596487576844263 - te: 0.9602010758196722\n",
      "time taken for training: 0 hours, 12.0 minutes and 9.762250900268555 seconds\n"
     ]
    }
   ],
   "source": [
    "g = build_graph(batch_size = 1024)\n",
    "#tr_losses, te_losses = train_graph(g)\n",
    "sess = tf.Session()\n",
    "tr_losses,te_losses = train_graph(g, sess)"
   ]
  },
  {
   "cell_type": "code",
   "execution_count": 108,
   "metadata": {},
   "outputs": [
    {
     "data": {
      "text/plain": [
       "<matplotlib.legend.Legend at 0x7f2865ad4cf8>"
      ]
     },
     "execution_count": 108,
     "metadata": {},
     "output_type": "execute_result"
    },
    {
     "data": {
      "image/png": "[encoded data removed]",
      "text/plain": [
       "<matplotlib.figure.Figure at 0x7f286420d908>"
      ]
     },
     "metadata": {},
     "output_type": "display_data"
    }
   ],
   "source": [
    "plt.figure(figsize = (10,6))\n",
    "plt.plot(tr_losses,label = 'training accuracy')\n",
    "plt.plot(te_losses,label = 'testing accuracy')\n",
    "plt.legend()"
   ]
  },
  {
   "cell_type": "code",
   "execution_count": null,
   "metadata": {},
   "outputs": [],
   "source": []
  }
 ],
 "metadata": {
  "kernelspec": {
   "display_name": "Python 3",
   "language": "python",
   "name": "python3"
  },
  "language_info": {
   "codemirror_mode": {
    "name": "ipython",
    "version": 3
   },
   "file_extension": ".py",
   "mimetype": "text/x-python",
   "name": "python",
   "nbconvert_exporter": "python",
   "pygments_lexer": "ipython3",
   "version": "3.5.2"
  }
 },
 "nbformat": 4,
 "nbformat_minor": 2
}
