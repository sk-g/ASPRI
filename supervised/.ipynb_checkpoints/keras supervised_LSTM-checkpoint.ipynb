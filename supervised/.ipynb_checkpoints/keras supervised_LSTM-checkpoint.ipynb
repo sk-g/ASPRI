{
 "cells": [
  {
   "cell_type": "code",
   "execution_count": 1,
   "metadata": {},
   "outputs": [
    {
     "name": "stderr",
     "output_type": "stream",
     "text": [
      "Using TensorFlow backend.\n"
     ]
    }
   ],
   "source": [
    "from __future__ import print_function\n",
    "import os,re,time,sys,os,math,random,time,pickle,keras\n",
    "os.environ['TF_CPP_MIN_LOG_LEVEL'] = '3'\n",
    "import tensorflow as tf\n",
    "from tensorflow.contrib import rnn\n",
    "import numpy as np\n",
    "import pandas as pd\n",
    "from keras import backend as K\n",
    "from keras.preprocessing.text import one_hot\n",
    "from keras.preprocessing.sequence import pad_sequences\n",
    "from keras.models import Sequential\n",
    "from keras.layers import LSTM,Flatten,Dense,Embedding\n",
    "from keras.layers.embeddings import Embedding\n",
    "from keras.preprocessing import sequence\n",
    "import matplotlib.pyplot as plt\n",
    "import seaborn as sns\n",
    "import pylab as pl\n",
    "%matplotlib inline\n",
    "from sklearn.model_selection import train_test_split as split\n",
    "start = time.time()"
   ]
  },
  {
   "cell_type": "code",
   "execution_count": 2,
   "metadata": {},
   "outputs": [],
   "source": [
    "if os.name != 'posix':\n",
    "    f = open(r'M:\\Course stuff\\ASPRI\\data\\PCH\\paths\\11012018.txt','r')\n",
    "else:\n",
    "    f = open('../data/PCH/paths/11012018.txt','r')\n",
    "lines = f.readlines()\n",
    "lines = [i.strip() for i in lines]"
   ]
  },
  {
   "cell_type": "code",
   "execution_count": 3,
   "metadata": {},
   "outputs": [
    {
     "name": "stdout",
     "output_type": "stream",
     "text": [
      "<class 'numpy.ndarray'> <class 'dict'> <class 'dict'> <class 'list'>\n"
     ]
    }
   ],
   "source": [
    "if os.name != 'posix':\n",
    "    final_embeddings = pickle.load(open(r'M:\\Course stuff\\ASPRI\\supervised\\loal_FE','rb'))\n",
    "    dictionary = pickle.load(open(r'M:\\Course stuff\\ASPRI\\supervised\\dictionary','rb'))\n",
    "    reverse_dictionary = pickle.load(open(r'M:\\Course stuff\\ASPRI\\supervised\\reverse_dictionary','rb'))\n",
    "    count = pickle.load(open(r'M:\\Course stuff\\ASPRI\\supervised\\count','rb'))\n",
    "else:\n",
    "    final_embeddings = pickle.load(open('loal_FE','rb'))\n",
    "    dictionary = pickle.load(open('dictionary','rb'))\n",
    "    reverse_dictionary = pickle.load(open('reverse_dictionary','rb'))\n",
    "    count = pickle.load(open('count','rb'))\n",
    "print(type(final_embeddings),type(dictionary),type(reverse_dictionary),type(count))"
   ]
  },
  {
   "cell_type": "code",
   "execution_count": 4,
   "metadata": {},
   "outputs": [],
   "source": [
    "nd_array = []\n",
    "for i in range(30):\n",
    "    nd_array.append(np.zeros(shape = (32,1)))"
   ]
  },
  {
   "cell_type": "code",
   "execution_count": 5,
   "metadata": {},
   "outputs": [
    {
     "data": {
      "text/plain": [
       "30"
      ]
     },
     "execution_count": 5,
     "metadata": {},
     "output_type": "execute_result"
    }
   ],
   "source": [
    "len(nd_array)"
   ]
  },
  {
   "cell_type": "code",
   "execution_count": 6,
   "metadata": {},
   "outputs": [],
   "source": [
    "new_array = []\n",
    "for i in range(len(lines)):\n",
    "    new_array.append(nd_array)\n",
    "new_array = np.asarray(new_array)"
   ]
  },
  {
   "cell_type": "code",
   "execution_count": 7,
   "metadata": {},
   "outputs": [],
   "source": [
    "for i in range(len(lines)):\n",
    "    splits = lines[i].split(' ')\n",
    "    for j in range(len(splits)):\n",
    "        #print(new_array[i][j])\n",
    "        new_array[i,j] = final_embeddings[dictionary[str(splits[j])]-1].reshape(32,1)"
   ]
  },
  {
   "cell_type": "code",
   "execution_count": 8,
   "metadata": {},
   "outputs": [
    {
     "data": {
      "text/plain": [
       "(32, 1)"
      ]
     },
     "execution_count": 8,
     "metadata": {},
     "output_type": "execute_result"
    }
   ],
   "source": [
    "new_array[0][0].shape"
   ]
  },
  {
   "cell_type": "code",
   "execution_count": 9,
   "metadata": {},
   "outputs": [
    {
     "data": {
      "text/html": [
       "<div>\n",
       "<style scoped>\n",
       "    .dataframe tbody tr th:only-of-type {\n",
       "        vertical-align: middle;\n",
       "    }\n",
       "\n",
       "    .dataframe tbody tr th {\n",
       "        vertical-align: top;\n",
       "    }\n",
       "\n",
       "    .dataframe thead th {\n",
       "        text-align: right;\n",
       "    }\n",
       "</style>\n",
       "<table border=\"1\" class=\"dataframe\">\n",
       "  <thead>\n",
       "    <tr style=\"text-align: right;\">\n",
       "      <th></th>\n",
       "      <th>Paths</th>\n",
       "      <th>Fake</th>\n",
       "    </tr>\n",
       "  </thead>\n",
       "  <tbody>\n",
       "    <tr>\n",
       "      <th>0</th>\n",
       "      <td>6939 4826 38803 56203</td>\n",
       "      <td>0.0</td>\n",
       "    </tr>\n",
       "    <tr>\n",
       "      <th>1</th>\n",
       "      <td>6939 4826 38803 56203</td>\n",
       "      <td>0.0</td>\n",
       "    </tr>\n",
       "    <tr>\n",
       "      <th>2</th>\n",
       "      <td>6939 4826 38803 56203</td>\n",
       "      <td>0.0</td>\n",
       "    </tr>\n",
       "    <tr>\n",
       "      <th>3</th>\n",
       "      <td>6939 4826 38803 56203</td>\n",
       "      <td>0.0</td>\n",
       "    </tr>\n",
       "    <tr>\n",
       "      <th>4</th>\n",
       "      <td>6939 4826 38803 56203</td>\n",
       "      <td>0.0</td>\n",
       "    </tr>\n",
       "  </tbody>\n",
       "</table>\n",
       "</div>"
      ],
      "text/plain": [
       "                   Paths  Fake\n",
       "0  6939 4826 38803 56203   0.0\n",
       "1  6939 4826 38803 56203   0.0\n",
       "2  6939 4826 38803 56203   0.0\n",
       "3  6939 4826 38803 56203   0.0\n",
       "4  6939 4826 38803 56203   0.0"
      ]
     },
     "execution_count": 9,
     "metadata": {},
     "output_type": "execute_result"
    }
   ],
   "source": [
    "if os.name != 'posix':\n",
    "    paths = pd.read_csv(r'M:\\Course stuff\\ASPRI\\supervised\\11012018.csv',sep='\\t',low_memory = False,index_col = False)\n",
    "else:\n",
    "    paths = pd.read_csv('11012018.csv',sep='\\t',low_memory = False,index_col = False)\n",
    "    del paths['Unnamed: 0']\n",
    "paths.head()"
   ]
  },
  {
   "cell_type": "code",
   "execution_count": 10,
   "metadata": {},
   "outputs": [],
   "source": [
    "train,test = split(paths,test_size = 0.3)"
   ]
  },
  {
   "cell_type": "code",
   "execution_count": 11,
   "metadata": {},
   "outputs": [
    {
     "data": {
      "text/plain": [
       "<matplotlib.axes._subplots.AxesSubplot at 0x7f1be5d92710>"
      ]
     },
     "execution_count": 11,
     "metadata": {},
     "output_type": "execute_result"
    },
    {
     "data": {
      "image/png": "[encoded data removed]",
      "text/plain": [
       "<matplotlib.figure.Figure at 0x7f1c7ef57e10>"
      ]
     },
     "metadata": {},
     "output_type": "display_data"
    }
   ],
   "source": [
    "sns.countplot(x = 'Fake',data = train)"
   ]
  },
  {
   "cell_type": "code",
   "execution_count": 12,
   "metadata": {},
   "outputs": [
    {
     "data": {
      "text/plain": [
       "0.0    172526\n",
       "1.0     46430\n",
       "Name: Fake, dtype: int64"
      ]
     },
     "execution_count": 12,
     "metadata": {},
     "output_type": "execute_result"
    }
   ],
   "source": [
    "train.Fake.value_counts()"
   ]
  },
  {
   "cell_type": "code",
   "execution_count": 13,
   "metadata": {},
   "outputs": [
    {
     "data": {
      "text/plain": [
       "0.0    73804\n",
       "1.0    20035\n",
       "Name: Fake, dtype: int64"
      ]
     },
     "execution_count": 13,
     "metadata": {},
     "output_type": "execute_result"
    }
   ],
   "source": [
    "test.Fake.value_counts()"
   ]
  },
  {
   "cell_type": "code",
   "execution_count": 14,
   "metadata": {},
   "outputs": [],
   "source": [
    "max_length = 30\n",
    "vocab_size = 24612 #unique tokens for this file\n",
    "#encoded_train = [one_hot(d,vocab_size) for d in train['Paths']]\n",
    "#encoded_test = [one_hot(d,vocab_size) for d in test['Paths']]"
   ]
  },
  {
   "cell_type": "code",
   "execution_count": 15,
   "metadata": {},
   "outputs": [],
   "source": [
    "def encode_lines(arr):\n",
    "    # function works on df\n",
    "    # iterate over lines in df\n",
    "    # iterate over splits of line\n",
    "    # convert split word to embedding vector (32,1)\n",
    "    # pad with (32,1) zeros\n",
    "    \n",
    "    \n",
    "    new_array = []\n",
    "    for i in range(len(arr)):\n",
    "        new_array.append(nd_array)\n",
    "    new_array = np.asarray(new_array)\n",
    "    c = 0\n",
    "    for i in arr['Paths']:\n",
    "        splits = i.split(' ')\n",
    "        for j in range(len(splits)):\n",
    "            #print(new_array[i][j])\n",
    "            new_array[c,j] = final_embeddings[dictionary[str(splits[j])]-1].reshape(32,1)\n",
    "        c += 1\n",
    "    assert(len(new_array) == len(arr))\n",
    "    assert(len(new_array[0]) == 30)\n",
    "    return new_array\n",
    "encoded_train = encode_lines(train)"
   ]
  },
  {
   "cell_type": "code",
   "execution_count": 16,
   "metadata": {},
   "outputs": [
    {
     "data": {
      "text/plain": [
       "218956"
      ]
     },
     "execution_count": 16,
     "metadata": {},
     "output_type": "execute_result"
    }
   ],
   "source": [
    "len(encoded_train)"
   ]
  },
  {
   "cell_type": "code",
   "execution_count": 17,
   "metadata": {},
   "outputs": [],
   "source": [
    "encoded_test = encode_lines(test)"
   ]
  },
  {
   "cell_type": "code",
   "execution_count": 18,
   "metadata": {},
   "outputs": [],
   "source": [
    "train_lengths = [len(t) for t in encoded_train] #array of lengths so we can pad zeros later\n",
    "test_lengths= [len(t) for t in encoded_test] #array of lengths for test set to be padded later"
   ]
  },
  {
   "cell_type": "code",
   "execution_count": 19,
   "metadata": {},
   "outputs": [],
   "source": [
    "y_test,y_train = test['Fake'],train['Fake']"
   ]
  },
  {
   "cell_type": "code",
   "execution_count": 20,
   "metadata": {},
   "outputs": [],
   "source": [
    "x_train = encode_lines(train)#['Paths'])\n",
    "x_test = encode_lines(test)#['Paths'])"
   ]
  },
  {
   "cell_type": "code",
   "execution_count": 21,
   "metadata": {},
   "outputs": [],
   "source": [
    "max_length = 30\n",
    "vocab_size = 24612 #unique tokens for this file\n",
    "encoded_train = [one_hot(d,vocab_size) for d in train['Paths']]\n",
    "encoded_test = [one_hot(d,vocab_size) for d in test['Paths']]\n",
    "train_lengths = [len(t) for t in encoded_train] #array of lengths so we can pad zeros later\n",
    "test_lengths= [len(t) for t in encoded_test] #array of lengths for test set to be padded later"
   ]
  },
  {
   "cell_type": "code",
   "execution_count": 22,
   "metadata": {},
   "outputs": [],
   "source": [
    "labels_train = train['Fake']\n",
    "train_dic={}\n",
    "train_dic[\"data\"] = encoded_train\n",
    "train_dic[\"labels\"] = labels_train#labels_train[0].ravel().tolist()\n",
    "train_dic[\"length\"] = train_lengths\n",
    "train_len = len(train)\n",
    "test_len = len(test)\n",
    "\n",
    "train_ = pd.DataFrame.from_dict(data=train_dic, orient='columns', dtype=None)\n",
    "\n",
    "\n",
    "\n",
    "test_dic={}\n",
    "test_dic[\"data\"] = encoded_test\n",
    "test_dic[\"length\"] = test_lengths\n",
    "test_dic[\"labels\"] = test['Fake']\n",
    "test_ = pd.DataFrame.from_dict(data=test_dic, orient='columns', dtype=None)\n",
    "\n",
    "test_input = test.values"
   ]
  },
  {
   "cell_type": "code",
   "execution_count": 23,
   "metadata": {},
   "outputs": [],
   "source": [
    "x_train, x_test = train_[\"data\"],test_[\"data\"]\n",
    "y_train,y_test = train['Fake'],test['Fake']"
   ]
  },
  {
   "cell_type": "code",
   "execution_count": 24,
   "metadata": {},
   "outputs": [
    {
     "name": "stdout",
     "output_type": "stream",
     "text": [
      "218956 train sequences\n",
      "93839 test sequences\n",
      "Pad sequences (samples x time)\n",
      "x_train shape: (218956, 30)\n",
      "x_test shape: (93839, 30)\n"
     ]
    }
   ],
   "source": [
    "max_features = vocab_size\n",
    "maxlen = 30  # cut texts after this number of words (among top max_features most common words)\n",
    "batch_size = 1024\n",
    "epochs = 10 #training steps\n",
    "print(len(x_train), 'train sequences')\n",
    "print(len(x_test), 'test sequences')\n",
    "print('Pad sequences (samples x time)')\n",
    "x_train = sequence.pad_sequences(x_train, maxlen=maxlen)\n",
    "x_test = sequence.pad_sequences(x_test, maxlen=maxlen)\n",
    "print('x_train shape:', x_train.shape)\n",
    "print('x_test shape:', x_test.shape)"
   ]
  },
  {
   "cell_type": "code",
   "execution_count": 25,
   "metadata": {},
   "outputs": [
    {
     "name": "stdout",
     "output_type": "stream",
     "text": [
      "Build model...\n",
      "_________________________________________________________________\n",
      "Layer (type)                 Output Shape              Param #   \n",
      "=================================================================\n",
      "embedding_1 (Embedding)      (None, None, 128)         3150336   \n",
      "_________________________________________________________________\n",
      "lstm_1 (LSTM)                (None, 128)               131584    \n",
      "_________________________________________________________________\n",
      "dense_1 (Dense)              (None, 1)                 129       \n",
      "=================================================================\n",
      "Total params: 3,282,049\n",
      "Trainable params: 3,282,049\n",
      "Non-trainable params: 0\n",
      "_________________________________________________________________\n",
      "Train...\n",
      "Train on 218956 samples, validate on 93839 samples\n",
      "Epoch 1/10\n",
      "218956/218956 [==============================] - 12s 54us/step - loss: 0.3419 - acc: 0.8747 - val_loss: 0.1759 - val_acc: 0.9507\n",
      "Epoch 2/10\n",
      "218956/218956 [==============================] - 10s 48us/step - loss: 0.1527 - acc: 0.9586 - val_loss: 0.1459 - val_acc: 0.9610\n",
      "Epoch 3/10\n",
      "218956/218956 [==============================] - 10s 48us/step - loss: 0.1340 - acc: 0.9633 - val_loss: 0.1439 - val_acc: 0.9620\n",
      "Epoch 4/10\n",
      "218956/218956 [==============================] - 10s 47us/step - loss: 0.1278 - acc: 0.9643 - val_loss: 0.1448 - val_acc: 0.9619\n",
      "Epoch 5/10\n",
      "218956/218956 [==============================] - 10s 48us/step - loss: 0.1244 - acc: 0.9649 - val_loss: 0.1477 - val_acc: 0.9624\n",
      "Epoch 6/10\n",
      "218956/218956 [==============================] - 11s 48us/step - loss: 0.1213 - acc: 0.9653 - val_loss: 0.1503 - val_acc: 0.9619\n",
      "Epoch 7/10\n",
      "218956/218956 [==============================] - 11s 48us/step - loss: 0.1195 - acc: 0.9654 - val_loss: 0.1513 - val_acc: 0.9623\n",
      "Epoch 8/10\n",
      "218956/218956 [==============================] - 11s 48us/step - loss: 0.1179 - acc: 0.9656 - val_loss: 0.1532 - val_acc: 0.9622\n",
      "Epoch 9/10\n",
      "218956/218956 [==============================] - 11s 48us/step - loss: 0.1171 - acc: 0.9656 - val_loss: 0.1568 - val_acc: 0.9623\n",
      "Epoch 10/10\n",
      "218956/218956 [==============================] - 11s 48us/step - loss: 0.1160 - acc: 0.9657 - val_loss: 0.1577 - val_acc: 0.9623\n",
      "93839/93839 [==============================] - 1s 10us/step\n",
      "Test score: 0.15767994796969725\n",
      "Test accuracy: 0.9622651562058959\n"
     ]
    }
   ],
   "source": [
    "\n",
    "print('Build model...')\n",
    "model = Sequential()\n",
    "model.add(Embedding(max_features, 128))\n",
    "model.add(LSTM(128, dropout=0.2, recurrent_dropout=0.2))\n",
    "model.add(Dense(1, activation='sigmoid'))\n",
    "# try using different optimizers and different optimizer configs\n",
    "model.compile(loss='binary_crossentropy',\n",
    "              optimizer='adam',\n",
    "              metrics=['accuracy'])\n",
    "model.summary()\n",
    "keras.utils.plot_model(model, to_file='lstm_sigmoid_FC.png', show_shapes=False, show_layer_names=True, rankdir='TB')\n",
    "print('Train...')\n",
    "model.fit(x_train, y_train,\n",
    "          batch_size=batch_size,\n",
    "          epochs=epochs,\n",
    "          validation_data=(x_test, y_test))\n",
    "score_lstm_sigmoid_FC, acc_lstm_sigmoid_FC = model.evaluate(x_test, y_test,\n",
    "                            batch_size=batch_size)\n",
    "print('Test score:', score_lstm_sigmoid_FC)\n",
    "print('Test accuracy:', acc_lstm_sigmoid_FC)"
   ]
  },
  {
   "cell_type": "code",
   "execution_count": 26,
   "metadata": {},
   "outputs": [
    {
     "name": "stdout",
     "output_type": "stream",
     "text": [
      "Build model...\n",
      "_________________________________________________________________\n",
      "Layer (type)                 Output Shape              Param #   \n",
      "=================================================================\n",
      "embedding_2 (Embedding)      (None, None, 128)         3150336   \n",
      "_________________________________________________________________\n",
      "gru_1 (GRU)                  (None, 128)               98688     \n",
      "_________________________________________________________________\n",
      "dense_2 (Dense)              (None, 1)                 129       \n",
      "=================================================================\n",
      "Total params: 3,249,153\n",
      "Trainable params: 3,249,153\n",
      "Non-trainable params: 0\n",
      "_________________________________________________________________\n",
      "Train...\n",
      "Train on 218956 samples, validate on 93839 samples\n",
      "Epoch 1/10\n",
      "218956/218956 [==============================] - 9s 42us/step - loss: 0.2882 - acc: 0.9023 - val_loss: 0.1596 - val_acc: 0.9583\n",
      "Epoch 2/10\n",
      "218956/218956 [==============================] - 9s 40us/step - loss: 0.1461 - acc: 0.9613 - val_loss: 0.1470 - val_acc: 0.9618\n",
      "Epoch 3/10\n",
      "218956/218956 [==============================] - 9s 40us/step - loss: 0.1338 - acc: 0.9637 - val_loss: 0.1449 - val_acc: 0.9616\n",
      "Epoch 4/10\n",
      "218956/218956 [==============================] - 9s 40us/step - loss: 0.1287 - acc: 0.9643 - val_loss: 0.1457 - val_acc: 0.9618\n",
      "Epoch 5/10\n",
      "218956/218956 [==============================] - 9s 41us/step - loss: 0.1251 - acc: 0.9648 - val_loss: 0.1477 - val_acc: 0.9618\n",
      "Epoch 6/10\n",
      "218956/218956 [==============================] - 9s 40us/step - loss: 0.1228 - acc: 0.9650 - val_loss: 0.1507 - val_acc: 0.9621\n",
      "Epoch 7/10\n",
      "218956/218956 [==============================] - 9s 40us/step - loss: 0.1202 - acc: 0.9652 - val_loss: 0.1518 - val_acc: 0.9619\n",
      "Epoch 8/10\n",
      "218956/218956 [==============================] - 9s 41us/step - loss: 0.1185 - acc: 0.9654 - val_loss: 0.1553 - val_acc: 0.9620\n",
      "Epoch 9/10\n",
      "218956/218956 [==============================] - 9s 40us/step - loss: 0.1171 - acc: 0.9655 - val_loss: 0.1563 - val_acc: 0.9620\n",
      "Epoch 10/10\n",
      "218956/218956 [==============================] - 9s 40us/step - loss: 0.1162 - acc: 0.9656 - val_loss: 0.1580 - val_acc: 0.9619\n",
      "93839/93839 [==============================] - 1s 8us/step\n",
      "Test score: 0.15799660177659403\n",
      "Test accuracy: 0.961945459675223\n"
     ]
    }
   ],
   "source": [
    "print('Build model...')\n",
    "model = Sequential()\n",
    "model.add(Embedding(max_features, 128))\n",
    "model.add(keras.layers.GRU(128, dropout=0.2, recurrent_dropout=0.2))\n",
    "model.add(Dense(1, activation='sigmoid'))\n",
    "# try using different optimizers and different optimizer configs\n",
    "model.compile(loss='binary_crossentropy',\n",
    "              optimizer='adam',\n",
    "              metrics=['accuracy'])\n",
    "model.summary()\n",
    "keras.utils.plot_model(model, to_file='gru_sigmoid_FC.png', show_shapes=False, show_layer_names=True, rankdir='TB')\n",
    "print('Train...')\n",
    "model.fit(x_train, y_train,\n",
    "          batch_size=batch_size,\n",
    "          epochs=epochs,\n",
    "          validation_data=(x_test, y_test))\n",
    "score_gru_sigmoid_FC, acc_gru_sigmoid_FC = model.evaluate(x_test, y_test,\n",
    "                            batch_size=batch_size)\n",
    "print('Test score:', score_gru_sigmoid_FC)\n",
    "print('Test accuracy:', acc_gru_sigmoid_FC)"
   ]
  },
  {
   "cell_type": "code",
   "execution_count": 27,
   "metadata": {},
   "outputs": [
    {
     "name": "stdout",
     "output_type": "stream",
     "text": [
      "Build model...\n",
      "_________________________________________________________________\n",
      "Layer (type)                 Output Shape              Param #   \n",
      "=================================================================\n",
      "embedding_3 (Embedding)      (None, None, 128)         3150336   \n",
      "_________________________________________________________________\n",
      "lstm_2 (LSTM)                (None, 128)               131584    \n",
      "_________________________________________________________________\n",
      "dense_3 (Dense)              (None, 1)                 129       \n",
      "=================================================================\n",
      "Total params: 3,282,049\n",
      "Trainable params: 3,282,049\n",
      "Non-trainable params: 0\n",
      "_________________________________________________________________\n",
      "Train...\n",
      "Train on 218956 samples, validate on 93839 samples\n",
      "Epoch 1/10\n",
      "218956/218956 [==============================] - 12s 53us/step - loss: 0.4277 - acc: 0.8428 - val_loss: 0.3311 - val_acc: 0.8881\n",
      "Epoch 2/10\n",
      "218956/218956 [==============================] - 11s 49us/step - loss: 0.3084 - acc: 0.8957 - val_loss: 0.2970 - val_acc: 0.9013\n",
      "Epoch 3/10\n",
      "218956/218956 [==============================] - 11s 49us/step - loss: 0.2618 - acc: 0.9178 - val_loss: 0.2686 - val_acc: 0.9224\n",
      "Epoch 4/10\n",
      "218956/218956 [==============================] - 11s 49us/step - loss: 0.2411 - acc: 0.9336 - val_loss: 0.2580 - val_acc: 0.9361\n",
      "Epoch 5/10\n",
      "218956/218956 [==============================] - 11s 49us/step - loss: 0.2246 - acc: 0.9392 - val_loss: 0.2544 - val_acc: 0.9413\n",
      "Epoch 6/10\n",
      "218956/218956 [==============================] - 11s 49us/step - loss: 0.1964 - acc: 0.9495 - val_loss: 0.2524 - val_acc: 0.9426\n",
      "Epoch 7/10\n",
      "218956/218956 [==============================] - 11s 49us/step - loss: 0.1746 - acc: 0.9544 - val_loss: 0.2574 - val_acc: 0.9509\n",
      "Epoch 8/10\n",
      "218956/218956 [==============================] - 11s 49us/step - loss: 0.1711 - acc: 0.9570 - val_loss: 0.2644 - val_acc: 0.9528\n",
      "Epoch 9/10\n",
      "218956/218956 [==============================] - 11s 49us/step - loss: 0.2346 - acc: 0.9293 - val_loss: 0.2701 - val_acc: 0.9401\n",
      "Epoch 10/10\n",
      "218956/218956 [==============================] - 11s 50us/step - loss: 0.1804 - acc: 0.9516 - val_loss: 0.2715 - val_acc: 0.9461\n",
      "93839/93839 [==============================] - 1s 10us/step\n",
      "Test score: 0.2714830798256673\n",
      "Test accuracy: 0.9461311396954506\n"
     ]
    }
   ],
   "source": [
    "print('Build model...')\n",
    "model = Sequential()\n",
    "model.add(Embedding(max_features, 128))\n",
    "model.add(LSTM(128, dropout=0.2, recurrent_dropout=0.2))\n",
    "model.add(Dense(1, activation='tanh'))\n",
    "# try using different optimizers and different optimizer configs\n",
    "model.compile(loss='binary_crossentropy',\n",
    "              optimizer='adam',\n",
    "              metrics=['accuracy'])\n",
    "model.summary()\n",
    "keras.utils.plot_model(model, to_file='lstm_tanh_FC.png', show_shapes=False, show_layer_names=True, rankdir='TB')\n",
    "print('Train...')\n",
    "model.fit(x_train, y_train,\n",
    "          batch_size = batch_size,\n",
    "          epochs = epochs,\n",
    "          validation_data = (x_test, y_test))\n",
    "score_lstm_tanh_FC, acc_lstm_tanh_FC = model.evaluate(x_test, y_test,\n",
    "                            batch_size=batch_size)\n",
    "print('Test score:', score_lstm_tanh_FC)\n",
    "print('Test accuracy:', acc_lstm_tanh_FC)"
   ]
  },
  {
   "cell_type": "code",
   "execution_count": 28,
   "metadata": {},
   "outputs": [
    {
     "name": "stdout",
     "output_type": "stream",
     "text": [
      "Build model...\n",
      "_________________________________________________________________\n",
      "Layer (type)                 Output Shape              Param #   \n",
      "=================================================================\n",
      "embedding_4 (Embedding)      (None, None, 128)         3150336   \n",
      "_________________________________________________________________\n",
      "lstm_3 (LSTM)                (None, 128)               131584    \n",
      "_________________________________________________________________\n",
      "dense_4 (Dense)              (None, 1)                 129       \n",
      "=================================================================\n",
      "Total params: 3,282,049\n",
      "Trainable params: 3,282,049\n",
      "Non-trainable params: 0\n",
      "_________________________________________________________________\n",
      "Train...\n",
      "Train on 218956 samples, validate on 93839 samples\n",
      "Epoch 1/10\n",
      "218956/218956 [==============================] - 12s 54us/step - loss: 0.4206 - acc: 0.8468 - val_loss: 0.3576 - val_acc: 0.8919\n",
      "Epoch 2/10\n",
      "218956/218956 [==============================] - 11s 49us/step - loss: 0.2874 - acc: 0.8848 - val_loss: 0.2664 - val_acc: 0.8616\n",
      "Epoch 3/10\n",
      "218956/218956 [==============================] - 11s 49us/step - loss: 0.2481 - acc: 0.8506 - val_loss: 0.2666 - val_acc: 0.8434\n",
      "Epoch 4/10\n",
      "218956/218956 [==============================] - 11s 49us/step - loss: 0.2113 - acc: 0.8407 - val_loss: 0.2217 - val_acc: 0.8317\n",
      "Epoch 5/10\n",
      "218956/218956 [==============================] - 11s 49us/step - loss: 0.1726 - acc: 0.8314 - val_loss: 0.2362 - val_acc: 0.8274\n",
      "Epoch 6/10\n",
      "218956/218956 [==============================] - 11s 49us/step - loss: 0.1951 - acc: 0.8398 - val_loss: 0.2517 - val_acc: 0.8304\n",
      "Epoch 7/10\n",
      "218956/218956 [==============================] - 11s 49us/step - loss: 0.1685 - acc: 0.8337 - val_loss: 0.2618 - val_acc: 0.8312\n",
      "Epoch 8/10\n",
      "218956/218956 [==============================] - 11s 49us/step - loss: 0.1485 - acc: 0.8279 - val_loss: 0.2463 - val_acc: 0.8186\n",
      "Epoch 9/10\n",
      "218956/218956 [==============================] - 11s 49us/step - loss: 0.1886 - acc: 0.8467 - val_loss: 0.2457 - val_acc: 0.8406\n",
      "Epoch 10/10\n",
      "218956/218956 [==============================] - 11s 49us/step - loss: 0.1629 - acc: 0.8307 - val_loss: 0.2435 - val_acc: 0.8314\n",
      "93839/93839 [==============================] - 1s 10us/step\n",
      "Test score: 0.24354788354957568\n",
      "Test accuracy: 0.8313600955436657\n"
     ]
    }
   ],
   "source": [
    "print('Build model...')\n",
    "model = Sequential()\n",
    "model.add(Embedding(max_features, 128))\n",
    "model.add(LSTM(128, dropout=0.2, recurrent_dropout=0.2))\n",
    "model.add(Dense(1, activation='relu'))\n",
    "# try using different optimizers and different optimizer configs\n",
    "model.compile(loss='binary_crossentropy',\n",
    "              optimizer='adam',\n",
    "              metrics=['accuracy'])\n",
    "model.summary()\n",
    "keras.utils.plot_model(model, to_file='lstm_relu_FC.png', show_shapes=False, show_layer_names=True, rankdir='TB')\n",
    "print('Train...')\n",
    "model.fit(x_train, y_train,\n",
    "          batch_size=batch_size,\n",
    "          epochs=epochs,\n",
    "          validation_data=(x_test, y_test))\n",
    "score_lstm_relu_FC, acc_lstm_relu_FC = model.evaluate(x_test, y_test,\n",
    "                            batch_size=batch_size)\n",
    "print('Test score:', score_lstm_relu_FC)\n",
    "print('Test accuracy:', acc_lstm_relu_FC)"
   ]
  },
  {
   "cell_type": "code",
   "execution_count": 29,
   "metadata": {},
   "outputs": [
    {
     "name": "stdout",
     "output_type": "stream",
     "text": [
      "Build model...\n",
      "_________________________________________________________________\n",
      "Layer (type)                 Output Shape              Param #   \n",
      "=================================================================\n",
      "embedding_5 (Embedding)      (None, None, 128)         3150336   \n",
      "_________________________________________________________________\n",
      "lstm_4 (LSTM)                (None, 128)               131584    \n",
      "_________________________________________________________________\n",
      "dense_5 (Dense)              (None, 1)                 129       \n",
      "=================================================================\n",
      "Total params: 3,282,049\n",
      "Trainable params: 3,282,049\n",
      "Non-trainable params: 0\n",
      "_________________________________________________________________\n",
      "Train...\n",
      "Train on 218956 samples, validate on 93839 samples\n",
      "Epoch 1/10\n",
      "218956/218956 [==============================] - 12s 54us/step - loss: 0.4198 - acc: 0.8493 - val_loss: 0.3074 - val_acc: 0.8904\n",
      "Epoch 2/10\n",
      "218956/218956 [==============================] - 11s 49us/step - loss: 0.2851 - acc: 0.8825 - val_loss: 0.2723 - val_acc: 0.8696\n",
      "Epoch 3/10\n",
      "218956/218956 [==============================] - 11s 49us/step - loss: 0.2352 - acc: 0.8661 - val_loss: 0.2532 - val_acc: 0.8632\n",
      "Epoch 4/10\n",
      "218956/218956 [==============================] - 11s 49us/step - loss: 0.2049 - acc: 0.8390 - val_loss: 0.2981 - val_acc: 0.8517\n",
      "Epoch 5/10\n",
      "218956/218956 [==============================] - 11s 49us/step - loss: 0.2305 - acc: 0.8312 - val_loss: 0.2817 - val_acc: 0.8432\n",
      "Epoch 6/10\n",
      "218956/218956 [==============================] - 11s 49us/step - loss: 0.1943 - acc: 0.8363 - val_loss: 0.2271 - val_acc: 0.8315\n",
      "Epoch 7/10\n",
      "218956/218956 [==============================] - 11s 49us/step - loss: 0.1620 - acc: 0.8305 - val_loss: 0.2477 - val_acc: 0.8196\n",
      "Epoch 8/10\n",
      "218956/218956 [==============================] - 11s 49us/step - loss: 0.1546 - acc: 0.8225 - val_loss: 0.2444 - val_acc: 0.8143\n",
      "Epoch 9/10\n",
      "218956/218956 [==============================] - 11s 49us/step - loss: 0.1470 - acc: 0.8223 - val_loss: 0.2561 - val_acc: 0.8162\n",
      "Epoch 10/10\n",
      "218956/218956 [==============================] - 11s 49us/step - loss: 0.1433 - acc: 0.8180 - val_loss: 0.2560 - val_acc: 0.8156\n",
      "93839/93839 [==============================] - 1s 10us/step\n",
      "Test score: 0.25599067808715653\n",
      "Test accuracy: 0.8155777446811229\n"
     ]
    }
   ],
   "source": [
    "print('Build model...')\n",
    "model = Sequential()\n",
    "model.add(Embedding(max_features, 128))\n",
    "model.add(LSTM(128, dropout=0.2, recurrent_dropout=0.2))\n",
    "model.add(Dense(1, activation='elu'))\n",
    "# try using different optimizers and different optimizer configs\n",
    "model.compile(loss='binary_crossentropy',\n",
    "              optimizer='adam',\n",
    "              metrics=['accuracy'])\n",
    "model.summary()\n",
    "keras.utils.plot_model(model, to_file='lstm_elu_FC.png', show_shapes=False, show_layer_names=True, rankdir='TB')\n",
    "print('Train...')\n",
    "model.fit(x_train, y_train,\n",
    "          batch_size=batch_size,\n",
    "          epochs=epochs,\n",
    "          validation_data=(x_test, y_test))\n",
    "score_lstm_elu_FC, acc_lstm_elu_FC = model.evaluate(x_test, y_test,\n",
    "                            batch_size=batch_size)\n",
    "print('Test score:', score_lstm_elu_FC)\n",
    "print('Test accuracy:', acc_lstm_elu_FC)"
   ]
  },
  {
   "cell_type": "code",
   "execution_count": 30,
   "metadata": {},
   "outputs": [
    {
     "name": "stdout",
     "output_type": "stream",
     "text": [
      "Build model...\n",
      "_________________________________________________________________\n",
      "Layer (type)                 Output Shape              Param #   \n",
      "=================================================================\n",
      "embedding_6 (Embedding)      (None, None, 128)         3150336   \n",
      "_________________________________________________________________\n",
      "lstm_5 (LSTM)                (None, 128)               131584    \n",
      "_________________________________________________________________\n",
      "dense_6 (Dense)              (None, 1)                 129       \n",
      "_________________________________________________________________\n",
      "dense_7 (Dense)              (None, 1)                 2         \n",
      "_________________________________________________________________\n",
      "dense_8 (Dense)              (None, 1)                 2         \n",
      "=================================================================\n",
      "Total params: 3,282,053\n",
      "Trainable params: 3,282,053\n",
      "Non-trainable params: 0\n",
      "_________________________________________________________________\n",
      "Train...\n",
      "Train on 218956 samples, validate on 93839 samples\n",
      "Epoch 1/10\n",
      "218956/218956 [==============================] - 12s 55us/step - loss: 0.6652 - acc: 0.7874 - val_loss: 0.6396 - val_acc: 0.7865\n",
      "Epoch 2/10\n",
      "218956/218956 [==============================] - 11s 49us/step - loss: 0.6185 - acc: 0.7879 - val_loss: 0.6002 - val_acc: 0.7865\n",
      "Epoch 3/10\n",
      "218956/218956 [==============================] - 11s 50us/step - loss: 0.5370 - acc: 0.8370 - val_loss: 0.5008 - val_acc: 0.8534\n",
      "Epoch 4/10\n",
      "218956/218956 [==============================] - 11s 50us/step - loss: 0.4813 - acc: 0.8576 - val_loss: 0.4635 - val_acc: 0.8604\n",
      "Epoch 5/10\n",
      "218956/218956 [==============================] - 11s 50us/step - loss: 0.4126 - acc: 0.8932 - val_loss: 0.3196 - val_acc: 0.9560\n",
      "Epoch 6/10\n",
      "218956/218956 [==============================] - 11s 49us/step - loss: 0.2963 - acc: 0.9597 - val_loss: 0.2784 - val_acc: 0.9599\n",
      "Epoch 7/10\n",
      "218956/218956 [==============================] - 11s 49us/step - loss: 0.2612 - acc: 0.9623 - val_loss: 0.2490 - val_acc: 0.9621\n",
      "Epoch 8/10\n",
      "218956/218956 [==============================] - 11s 49us/step - loss: 0.2361 - acc: 0.9633 - val_loss: 0.2277 - val_acc: 0.9626\n",
      "Epoch 9/10\n",
      "218956/218956 [==============================] - 11s 49us/step - loss: 0.2173 - acc: 0.9638 - val_loss: 0.2120 - val_acc: 0.9624\n",
      "Epoch 10/10\n",
      "218956/218956 [==============================] - 11s 49us/step - loss: 0.2027 - acc: 0.9640 - val_loss: 0.2001 - val_acc: 0.9621\n",
      "93839/93839 [==============================] - 1s 10us/step\n",
      "Test score: 0.2000622218713633\n",
      "Test accuracy: 0.9621372775468776\n"
     ]
    }
   ],
   "source": [
    "print('Build model...')\n",
    "model = Sequential()\n",
    "model.add(Embedding(max_features, 128))\n",
    "model.add(LSTM(128, dropout=0.2, recurrent_dropout=0.2))\n",
    "#model.add(LSTM(32, dropout=0.2, recurrent_dropout=0.2))\n",
    "model.add(Dense(1, activation='relu'))\n",
    "model.add(Dense(1, activation='relu'))\n",
    "model.add(Dense(1, activation='sigmoid'))\n",
    "# try using different optimizers and different optimizer configs\n",
    "model.compile(loss='binary_crossentropy',\n",
    "              optimizer='adam',\n",
    "              metrics=['accuracy'])\n",
    "model.summary()\n",
    "keras.utils.plot_model(model, to_file='lstm_3FC_0.2dropout.png', show_shapes=False, show_layer_names=True, rankdir='TB')\n",
    "print('Train...')\n",
    "model.fit(x_train, y_train,\n",
    "          batch_size=batch_size,\n",
    "          epochs=epochs,\n",
    "          validation_data=(x_test, y_test))\n",
    "score_lstm_3FC_02dropout, acc_lstm_3FC_02dropout = model.evaluate(x_test, y_test,\n",
    "                            batch_size=batch_size)\n",
    "print('Test score:', score_lstm_3FC_02dropout)\n",
    "print('Test accuracy:', acc_lstm_3FC_02dropout)"
   ]
  },
  {
   "cell_type": "code",
   "execution_count": 31,
   "metadata": {},
   "outputs": [
    {
     "name": "stdout",
     "output_type": "stream",
     "text": [
      "Build model...\n",
      "_________________________________________________________________\n",
      "Layer (type)                 Output Shape              Param #   \n",
      "=================================================================\n",
      "embedding_7 (Embedding)      (None, None, 128)         3150336   \n",
      "_________________________________________________________________\n",
      "lstm_6 (LSTM)                (None, 128)               131584    \n",
      "_________________________________________________________________\n",
      "dense_9 (Dense)              (None, 1)                 129       \n",
      "_________________________________________________________________\n",
      "dense_10 (Dense)             (None, 1)                 2         \n",
      "_________________________________________________________________\n",
      "dense_11 (Dense)             (None, 1)                 2         \n",
      "=================================================================\n",
      "Total params: 3,282,053\n",
      "Trainable params: 3,282,053\n",
      "Non-trainable params: 0\n",
      "_________________________________________________________________\n",
      "Train...\n",
      "Train on 218956 samples, validate on 93839 samples\n",
      "Epoch 1/10\n",
      "218956/218956 [==============================] - 12s 56us/step - loss: 0.4166 - acc: 0.8404 - val_loss: 0.2933 - val_acc: 0.9368\n",
      "Epoch 2/10\n",
      "218956/218956 [==============================] - 11s 49us/step - loss: 0.2658 - acc: 0.9486 - val_loss: 0.2440 - val_acc: 0.9574\n",
      "Epoch 3/10\n",
      "218956/218956 [==============================] - 11s 50us/step - loss: 0.2305 - acc: 0.9586 - val_loss: 0.2242 - val_acc: 0.9610\n",
      "Epoch 4/10\n",
      "218956/218956 [==============================] - 11s 50us/step - loss: 0.2111 - acc: 0.9614 - val_loss: 0.2113 - val_acc: 0.9615\n",
      "Epoch 5/10\n",
      "218956/218956 [==============================] - 11s 50us/step - loss: 0.1959 - acc: 0.9628 - val_loss: 0.2016 - val_acc: 0.9617\n",
      "Epoch 6/10\n",
      "218956/218956 [==============================] - 11s 50us/step - loss: 0.1843 - acc: 0.9635 - val_loss: 0.1952 - val_acc: 0.9618\n",
      "Epoch 7/10\n",
      "218956/218956 [==============================] - 11s 50us/step - loss: 0.1742 - acc: 0.9639 - val_loss: 0.1886 - val_acc: 0.9621\n",
      "Epoch 8/10\n",
      "218956/218956 [==============================] - 11s 50us/step - loss: 0.1660 - acc: 0.9642 - val_loss: 0.1865 - val_acc: 0.9621\n",
      "Epoch 9/10\n",
      "218956/218956 [==============================] - 11s 50us/step - loss: 0.1594 - acc: 0.9644 - val_loss: 0.1830 - val_acc: 0.9618\n",
      "Epoch 10/10\n",
      "218956/218956 [==============================] - 11s 50us/step - loss: 0.1537 - acc: 0.9646 - val_loss: 0.1791 - val_acc: 0.9620\n",
      "93839/93839 [==============================] - 1s 10us/step\n",
      "Test score: 0.17912586970885652\n",
      "Test accuracy: 0.962009398975514\n"
     ]
    }
   ],
   "source": [
    "print('Build model...')\n",
    "model = Sequential()\n",
    "model.add(Embedding(max_features, 128))\n",
    "model.add(LSTM(128, dropout=0.8, recurrent_dropout=0.2))\n",
    "model.add(Dense(1, activation='relu'))\n",
    "model.add(Dense(1, activation='relu'))\n",
    "model.add(Dense(1, activation='sigmoid'))\n",
    "# try using different optimizers and different optimizer configs\n",
    "model.compile(loss='binary_crossentropy',\n",
    "              optimizer='adam',\n",
    "              metrics=['accuracy'])\n",
    "model.summary()\n",
    "keras.utils.plot_model(model, to_file='lstm_3FC.png', show_shapes=False, show_layer_names=True, rankdir='TB')\n",
    "print('Train...')\n",
    "model.fit(x_train, y_train,\n",
    "          batch_size=batch_size,\n",
    "          epochs= epochs,\n",
    "          validation_data=(x_test, y_test))\n",
    "score_lstm_3FC, acc_lstm_3FC = model.evaluate(x_test, y_test,\n",
    "                            batch_size=batch_size)\n",
    "print('Test score:', score_lstm_3FC)\n",
    "print('Test accuracy:', acc_lstm_3FC)"
   ]
  },
  {
   "cell_type": "code",
   "execution_count": 32,
   "metadata": {},
   "outputs": [
    {
     "name": "stdout",
     "output_type": "stream",
     "text": [
      "Build model...\n",
      "_________________________________________________________________\n",
      "Layer (type)                 Output Shape              Param #   \n",
      "=================================================================\n",
      "embedding_8 (Embedding)      (None, None, 128)         3150336   \n",
      "_________________________________________________________________\n",
      "lstm_7 (LSTM)                (None, 128)               131584    \n",
      "_________________________________________________________________\n",
      "dense_12 (Dense)             (None, 1)                 129       \n",
      "_________________________________________________________________\n",
      "batch_normalization_1 (Batch (None, 1)                 4         \n",
      "_________________________________________________________________\n",
      "dense_13 (Dense)             (None, 1)                 2         \n",
      "_________________________________________________________________\n",
      "batch_normalization_2 (Batch (None, 1)                 4         \n",
      "_________________________________________________________________\n",
      "dense_14 (Dense)             (None, 1)                 2         \n",
      "=================================================================\n",
      "Total params: 3,282,061\n",
      "Trainable params: 3,282,057\n",
      "Non-trainable params: 4\n",
      "_________________________________________________________________\n",
      "Train...\n",
      "Train on 218956 samples, validate on 93839 samples\n",
      "Epoch 1/10\n",
      "218956/218956 [==============================] - 13s 61us/step - loss: 0.6531 - acc: 0.7838 - val_loss: 0.6119 - val_acc: 0.7865\n",
      "Epoch 2/10\n",
      "218956/218956 [==============================] - 11s 51us/step - loss: 0.5762 - acc: 0.7879 - val_loss: 0.5479 - val_acc: 0.7865\n",
      "Epoch 3/10\n",
      "218956/218956 [==============================] - 11s 52us/step - loss: 0.5315 - acc: 0.7879 - val_loss: 0.5232 - val_acc: 0.7865\n",
      "Epoch 4/10\n",
      "218956/218956 [==============================] - 11s 52us/step - loss: 0.5186 - acc: 0.7879 - val_loss: 0.5189 - val_acc: 0.7865\n",
      "Epoch 5/10\n",
      "218956/218956 [==============================] - 11s 52us/step - loss: 0.5168 - acc: 0.7879 - val_loss: 0.5186 - val_acc: 0.7865\n",
      "Epoch 6/10\n",
      "218956/218956 [==============================] - 11s 51us/step - loss: 0.5167 - acc: 0.7879 - val_loss: 0.5186 - val_acc: 0.7865\n",
      "Epoch 7/10\n",
      "218956/218956 [==============================] - 11s 52us/step - loss: 0.5167 - acc: 0.7879 - val_loss: 0.5186 - val_acc: 0.7865\n",
      "Epoch 8/10\n",
      "218956/218956 [==============================] - 11s 52us/step - loss: 0.5167 - acc: 0.7879 - val_loss: 0.5186 - val_acc: 0.7865\n",
      "Epoch 9/10\n",
      "218956/218956 [==============================] - 11s 52us/step - loss: 0.5167 - acc: 0.7879 - val_loss: 0.5186 - val_acc: 0.7865\n",
      "Epoch 10/10\n",
      "218956/218956 [==============================] - 11s 52us/step - loss: 0.5167 - acc: 0.7879 - val_loss: 0.5186 - val_acc: 0.7865\n",
      "93839/93839 [==============================] - 1s 11us/step\n",
      "Test score: 0.5185656376416223\n",
      "Test accuracy: 0.7864960196502505\n"
     ]
    }
   ],
   "source": [
    "print('Build model...')\n",
    "model = Sequential()\n",
    "model.add(Embedding(max_features, 128))\n",
    "model.add(LSTM(128, dropout=0.2, recurrent_dropout=0.2))\n",
    "model.add(Dense(1, activation='relu'))\n",
    "model.add(keras.layers.BatchNormalization())\n",
    "model.add(Dense(1, activation='relu'))\n",
    "model.add(keras.layers.BatchNormalization())\n",
    "model.add(Dense(1, activation='sigmoid'))\n",
    "# try using different optimizers and different optimizer configs\n",
    "model.compile(loss='binary_crossentropy',\n",
    "              optimizer='adam',\n",
    "              metrics=['accuracy'])\n",
    "model.summary()\n",
    "keras.utils.plot_model(model, to_file='lstm_0.2dropout_batchnorm_3FC.png', show_shapes=False, show_layer_names=True, rankdir='TB')\n",
    "print('Train...')\n",
    "model.fit(x_train, y_train,\n",
    "          batch_size=batch_size,\n",
    "          epochs = epochs,\n",
    "          validation_data=(x_test, y_test))\n",
    "score_lstm_3FC_bn, acc_lstm_3FC_bn = model.evaluate(x_test, y_test,\n",
    "                            batch_size=batch_size)\n",
    "print('Test score:', score_lstm_3FC_bn)\n",
    "print('Test accuracy:', acc_lstm_3FC_bn)"
   ]
  },
  {
   "cell_type": "code",
   "execution_count": 35,
   "metadata": {},
   "outputs": [
    {
     "name": "stdout",
     "output_type": "stream",
     "text": [
      "Build model...\n",
      "_________________________________________________________________\n",
      "Layer (type)                 Output Shape              Param #   \n",
      "=================================================================\n",
      "embedding_10 (Embedding)     (None, None, 128)         3150336   \n",
      "_________________________________________________________________\n",
      "gru_3 (GRU)                  (None, 128)               98688     \n",
      "_________________________________________________________________\n",
      "dense_18 (Dense)             (None, 1)                 129       \n",
      "_________________________________________________________________\n",
      "batch_normalization_5 (Batch (None, 1)                 4         \n",
      "_________________________________________________________________\n",
      "dense_19 (Dense)             (None, 1)                 2         \n",
      "_________________________________________________________________\n",
      "batch_normalization_6 (Batch (None, 1)                 4         \n",
      "_________________________________________________________________\n",
      "dense_20 (Dense)             (None, 1)                 2         \n",
      "=================================================================\n",
      "Total params: 3,249,165\n",
      "Trainable params: 3,249,161\n",
      "Non-trainable params: 4\n",
      "_________________________________________________________________\n",
      "Train...\n",
      "Train on 218956 samples, validate on 93839 samples\n",
      "Epoch 1/10\n",
      "218956/218956 [==============================] - 11s 51us/step - loss: 0.6344 - acc: 0.7737 - val_loss: 0.5856 - val_acc: 0.7865\n",
      "Epoch 2/10\n",
      "218956/218956 [==============================] - 9s 41us/step - loss: 0.5520 - acc: 0.7879 - val_loss: 0.5324 - val_acc: 0.7865\n",
      "Epoch 3/10\n",
      "218956/218956 [==============================] - 9s 41us/step - loss: 0.5228 - acc: 0.7879 - val_loss: 0.5200 - val_acc: 0.7865\n",
      "Epoch 4/10\n",
      "218956/218956 [==============================] - 9s 41us/step - loss: 0.5172 - acc: 0.7879 - val_loss: 0.5186 - val_acc: 0.7865\n",
      "Epoch 5/10\n",
      "218956/218956 [==============================] - 9s 42us/step - loss: 0.5167 - acc: 0.7879 - val_loss: 0.5186 - val_acc: 0.7865\n",
      "Epoch 6/10\n",
      "218956/218956 [==============================] - 9s 41us/step - loss: 0.5167 - acc: 0.7879 - val_loss: 0.5186 - val_acc: 0.7865\n",
      "Epoch 7/10\n",
      "218956/218956 [==============================] - 9s 41us/step - loss: 0.5167 - acc: 0.7879 - val_loss: 0.5186 - val_acc: 0.7865\n",
      "Epoch 8/10\n",
      "218956/218956 [==============================] - 9s 41us/step - loss: 0.5167 - acc: 0.7879 - val_loss: 0.5186 - val_acc: 0.7865\n",
      "Epoch 9/10\n",
      "218956/218956 [==============================] - 9s 41us/step - loss: 0.5167 - acc: 0.7879 - val_loss: 0.5186 - val_acc: 0.7865\n",
      "Epoch 10/10\n",
      "218956/218956 [==============================] - 9s 41us/step - loss: 0.5167 - acc: 0.7879 - val_loss: 0.5186 - val_acc: 0.7865\n",
      "93839/93839 [==============================] - 1s 9us/step\n",
      "Test score: 0.5185679408051382\n",
      "Test accuracy: 0.7864960196502505\n"
     ]
    }
   ],
   "source": [
    "print('Build model...')\n",
    "model = Sequential()\n",
    "model.add(Embedding(max_features, 128))\n",
    "model.add(keras.layers.GRU(128, dropout=0.2, recurrent_dropout=0.2))\n",
    "model.add(Dense(1, activation='relu'))\n",
    "model.add(keras.layers.BatchNormalization())\n",
    "model.add(Dense(1, activation='relu'))\n",
    "model.add(keras.layers.BatchNormalization())\n",
    "model.add(Dense(1, activation='sigmoid'))\n",
    "# try using different optimizers and different optimizer configs\n",
    "model.compile(loss='binary_crossentropy',\n",
    "              optimizer='adam',\n",
    "              metrics=['accuracy'])\n",
    "model.summary()\n",
    "keras.utils.plot_model(model, to_file='gru_batchnorm_3FC.png', show_shapes=False, show_layer_names=True, rankdir='TB')\n",
    "print('Train...')\n",
    "model.fit(x_train, y_train,\n",
    "          batch_size=batch_size,\n",
    "          epochs = epochs,\n",
    "          validation_data=(x_test, y_test))\n",
    "score_gru_3FC_bn, acc_gru_3FC_bn = model.evaluate(x_test, y_test,\n",
    "                            batch_size=batch_size)\n",
    "print('Test score:', score_gru_3FC_bn)\n",
    "print('Test accuracy:', acc_gru_3FC_bn)"
   ]
  },
  {
   "cell_type": "code",
   "execution_count": 36,
   "metadata": {},
   "outputs": [
    {
     "name": "stdout",
     "output_type": "stream",
     "text": [
      "LSTM with sigmoid FC  =  0.9622651562058959 \n",
      "\n",
      "GRU with sigmoid FC  =  0.961945459675223 \n",
      "\n",
      "LSTM with tanh FC  =  0.9461311396954506 \n",
      "\n",
      "LSTM with relu FC  =  0.8313600955436657 \n",
      "\n",
      "LSTM with elu FC  =  0.8155777446811229 \n",
      "\n",
      "Denser LSTM with 0.2 dropout  =  0.9621372775468776 \n",
      "\n",
      "Denser LSTM with 0.8 dropout  =  0.962009398975514 \n",
      "\n",
      "Denser LSTM with 0.8 dropout and batchnorm  =  0.7864960196502505 \n",
      "\n",
      "Denser GRU with 0.8 dropout and batchnorm  =  0.7864960196502505 \n",
      "\n"
     ]
    },
    {
     "data": {
      "image/png": "[encoded data removed]",
      "text/plain": [
       "<matplotlib.figure.Figure at 0x7f1a749a2e80>"
      ]
     },
     "metadata": {},
     "output_type": "display_data"
    },
    {
     "name": "stdout",
     "output_type": "stream",
     "text": [
      "time taken for running the notebook:\n",
      " 0 hours, 19.0 minutes and 16.528918504714966 seconds\n"
     ]
    }
   ],
   "source": [
    "#acc_gru_3FC_bn = 0.966\n",
    "names = ['LSTM with sigmoid FC',\n",
    "         'GRU with sigmoid FC',\n",
    "         'LSTM with tanh FC',\n",
    "         'LSTM with relu FC', \n",
    "         'LSTM with elu FC',\n",
    "         'Denser LSTM with 0.2 dropout',\n",
    "         'Denser LSTM with 0.8 dropout',\n",
    "         'Denser LSTM with 0.2 dropout and batchnorm',\n",
    "        'Denser GRU with 0.2 dropout and batchnorm']\n",
    "accs = [acc_lstm_sigmoid_FC,\n",
    "        acc_gru_sigmoid_FC,\n",
    "        acc_lstm_tanh_FC,\n",
    "        acc_lstm_relu_FC,\n",
    "        acc_lstm_elu_FC,\n",
    "        acc_lstm_3FC_02dropout,\n",
    "        acc_lstm_3FC,\n",
    "        acc_lstm_3FC_bn,\n",
    "       acc_gru_3FC_bn]\n",
    "for i in range(len(names)):\n",
    "    print(names[i],\" = \", accs[i],\"\\n\" )\n",
    "x = [i for i in range(len(names))]\n",
    "plt.figure(figsize=(12,8))\n",
    "pl.xticks(x, names)\n",
    "pl.xticks(range(len(names)), names, rotation=60) #writes strings with 45 degree angle\n",
    "pl.plot(x,accs,'*')\n",
    "pl.show()\n",
    "end = time.time()\n",
    "seconds = end - start\n",
    "minutes = seconds//60\n",
    "seconds = seconds % 60\n",
    "hours = 0\n",
    "if minutes > 60:\n",
    "    hours = minutes//60\n",
    "    minutes = minutes%60\n",
    "print(\"time taken for running the notebook:\\n {0} hours, {1} minutes and {2} seconds\".format(hours,minutes,seconds))"
   ]
  },
  {
   "cell_type": "code",
   "execution_count": null,
   "metadata": {},
   "outputs": [],
   "source": []
  }
 ],
 "metadata": {
  "kernelspec": {
   "display_name": "Python 3",
   "language": "python",
   "name": "python3"
  },
  "language_info": {
   "codemirror_mode": {
    "name": "ipython",
    "version": 3
   },
   "file_extension": ".py",
   "mimetype": "text/x-python",
   "name": "python",
   "nbconvert_exporter": "python",
   "pygments_lexer": "ipython3",
   "version": "3.5.2"
  }
 },
 "nbformat": 4,
 "nbformat_minor": 2
}
