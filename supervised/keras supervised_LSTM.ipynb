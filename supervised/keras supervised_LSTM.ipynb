{
 "cells": [
  {
   "cell_type": "code",
   "execution_count": 1,
   "metadata": {},
   "outputs": [
    {
     "name": "stderr",
     "output_type": "stream",
     "text": [
      "c:\\program files\\python36\\lib\\site-packages\\h5py\\__init__.py:36: FutureWarning: Conversion of the second argument of issubdtype from `float` to `np.floating` is deprecated. In future, it will be treated as `np.float64 == np.dtype(float).type`.\n",
      "  from ._conv import register_converters as _register_converters\n",
      "Using TensorFlow backend.\n"
     ]
    }
   ],
   "source": [
    "from __future__ import print_function\n",
    "import os,re,time,sys,os,math,random,time,pickle,keras,graphviz\n",
    "import pydot_ng as pydot\n",
    "import pydot\n",
    "os.environ['TF_CPP_MIN_LOG_LEVEL'] = '3'\n",
    "import tensorflow as tf\n",
    "from tensorflow.contrib import rnn\n",
    "import numpy as np\n",
    "import pandas as pd\n",
    "from keras import backend as K\n",
    "from keras.preprocessing.text import one_hot\n",
    "from keras.preprocessing.sequence import pad_sequences\n",
    "from keras.models import Sequential\n",
    "from keras.layers import LSTM,Flatten,Dense,Embedding\n",
    "from keras.layers.embeddings import Embedding\n",
    "from keras.preprocessing import sequence\n",
    "import matplotlib.pyplot as plt\n",
    "import seaborn as sns\n",
    "import pylab as pl\n",
    "%matplotlib inline\n",
    "from sklearn.model_selection import train_test_split as split\n",
    "start = time.time()"
   ]
  },
  {
   "cell_type": "code",
   "execution_count": 2,
   "metadata": {},
   "outputs": [],
   "source": [
    "if os.name != 'posix':\n",
    "    f = open(r'M:\\Course stuff\\ASPRI\\data\\PCH\\paths\\11012018.txt','r')\n",
    "else:\n",
    "    f = open('../data/PCH/paths/11012018.txt','r')\n",
    "lines = f.readlines()\n",
    "lines = [i.strip() for i in lines]"
   ]
  },
  {
   "cell_type": "code",
   "execution_count": 3,
   "metadata": {},
   "outputs": [
    {
     "name": "stdout",
     "output_type": "stream",
     "text": [
      "<class 'numpy.ndarray'> <class 'dict'> <class 'dict'> <class 'list'>\n"
     ]
    }
   ],
   "source": [
    "if os.name != 'posix':\n",
    "    final_embeddings = pickle.load(open(r'M:\\Course stuff\\ASPRI\\supervised\\loal_FE','rb'))\n",
    "    dictionary = pickle.load(open(r'M:\\Course stuff\\ASPRI\\supervised\\dictionary','rb'))\n",
    "    reverse_dictionary = pickle.load(open(r'M:\\Course stuff\\ASPRI\\supervised\\reverse_dictionary','rb'))\n",
    "    count = pickle.load(open(r'M:\\Course stuff\\ASPRI\\supervised\\count','rb'))\n",
    "else:\n",
    "    final_embeddings = pickle.load(open('loal_FE','rb'))\n",
    "    dictionary = pickle.load(open('dictionary','rb'))\n",
    "    reverse_dictionary = pickle.load(open('reverse_dictionary','rb'))\n",
    "    count = pickle.load(open('count','rb'))\n",
    "print(type(final_embeddings),type(dictionary),type(reverse_dictionary),type(count))"
   ]
  },
  {
   "cell_type": "code",
   "execution_count": 4,
   "metadata": {},
   "outputs": [],
   "source": [
    "nd_array = []\n",
    "for i in range(30):\n",
    "    nd_array.append(np.zeros(shape = (32,1)))"
   ]
  },
  {
   "cell_type": "code",
   "execution_count": 5,
   "metadata": {},
   "outputs": [
    {
     "data": {
      "text/plain": [
       "30"
      ]
     },
     "execution_count": 5,
     "metadata": {},
     "output_type": "execute_result"
    }
   ],
   "source": [
    "len(nd_array)"
   ]
  },
  {
   "cell_type": "code",
   "execution_count": 6,
   "metadata": {},
   "outputs": [],
   "source": [
    "new_array = []\n",
    "for i in range(len(lines)):\n",
    "    new_array.append(nd_array)\n",
    "new_array = np.asarray(new_array)"
   ]
  },
  {
   "cell_type": "code",
   "execution_count": 7,
   "metadata": {},
   "outputs": [],
   "source": [
    "for i in range(len(lines)):\n",
    "    splits = lines[i].split(' ')\n",
    "    for j in range(len(splits)):\n",
    "        #print(new_array[i][j])\n",
    "        new_array[i,j] = final_embeddings[dictionary[str(splits[j])]-1].reshape(32,1)"
   ]
  },
  {
   "cell_type": "code",
   "execution_count": 8,
   "metadata": {},
   "outputs": [
    {
     "data": {
      "text/plain": [
       "(32, 1)"
      ]
     },
     "execution_count": 8,
     "metadata": {},
     "output_type": "execute_result"
    }
   ],
   "source": [
    "new_array[0][0].shape"
   ]
  },
  {
   "cell_type": "code",
   "execution_count": 9,
   "metadata": {},
   "outputs": [
    {
     "data": {
      "text/html": [
       "<div>\n",
       "<style>\n",
       "    .dataframe thead tr:only-child th {\n",
       "        text-align: right;\n",
       "    }\n",
       "\n",
       "    .dataframe thead th {\n",
       "        text-align: left;\n",
       "    }\n",
       "\n",
       "    .dataframe tbody tr th {\n",
       "        vertical-align: top;\n",
       "    }\n",
       "</style>\n",
       "<table border=\"1\" class=\"dataframe\">\n",
       "  <thead>\n",
       "    <tr style=\"text-align: right;\">\n",
       "      <th></th>\n",
       "      <th>Unnamed: 0</th>\n",
       "      <th>Paths</th>\n",
       "      <th>Fake</th>\n",
       "    </tr>\n",
       "  </thead>\n",
       "  <tbody>\n",
       "    <tr>\n",
       "      <th>0</th>\n",
       "      <td>0</td>\n",
       "      <td>6939 4826 38803 56203</td>\n",
       "      <td>0.0</td>\n",
       "    </tr>\n",
       "    <tr>\n",
       "      <th>1</th>\n",
       "      <td>1</td>\n",
       "      <td>6939 4826 38803 56203</td>\n",
       "      <td>0.0</td>\n",
       "    </tr>\n",
       "    <tr>\n",
       "      <th>2</th>\n",
       "      <td>2</td>\n",
       "      <td>6939 4826 38803 56203</td>\n",
       "      <td>0.0</td>\n",
       "    </tr>\n",
       "    <tr>\n",
       "      <th>3</th>\n",
       "      <td>3</td>\n",
       "      <td>6939 4826 38803 56203</td>\n",
       "      <td>0.0</td>\n",
       "    </tr>\n",
       "    <tr>\n",
       "      <th>4</th>\n",
       "      <td>4</td>\n",
       "      <td>6939 4826 38803 56203</td>\n",
       "      <td>0.0</td>\n",
       "    </tr>\n",
       "  </tbody>\n",
       "</table>\n",
       "</div>"
      ],
      "text/plain": [
       "   Unnamed: 0                  Paths  Fake\n",
       "0           0  6939 4826 38803 56203   0.0\n",
       "1           1  6939 4826 38803 56203   0.0\n",
       "2           2  6939 4826 38803 56203   0.0\n",
       "3           3  6939 4826 38803 56203   0.0\n",
       "4           4  6939 4826 38803 56203   0.0"
      ]
     },
     "execution_count": 9,
     "metadata": {},
     "output_type": "execute_result"
    }
   ],
   "source": [
    "if os.name != 'posix':\n",
    "    paths = pd.read_csv(r'M:\\Course stuff\\ASPRI\\supervised\\11012018.csv',sep='\\t',low_memory = False,index_col = False)\n",
    "else:\n",
    "    paths = pd.read_csv('11012018.csv',sep='\\t',low_memory = False,index_col = False)\n",
    "    del paths['Unnamed: 0']\n",
    "paths.head()"
   ]
  },
  {
   "cell_type": "code",
   "execution_count": 10,
   "metadata": {},
   "outputs": [],
   "source": [
    "train,test = split(paths,test_size = 0.3)"
   ]
  },
  {
   "cell_type": "code",
   "execution_count": 11,
   "metadata": {},
   "outputs": [
    {
     "data": {
      "text/plain": [
       "<matplotlib.axes._subplots.AxesSubplot at 0x1900a5b6f60>"
      ]
     },
     "execution_count": 11,
     "metadata": {},
     "output_type": "execute_result"
    },
    {
     "data": {
      "image/png": "[encoded data removed]",
      "text/plain": [
       "<matplotlib.figure.Figure at 0x1900a519080>"
      ]
     },
     "metadata": {},
     "output_type": "display_data"
    }
   ],
   "source": [
    "sns.countplot(x = 'Fake',data = train)"
   ]
  },
  {
   "cell_type": "code",
   "execution_count": 12,
   "metadata": {},
   "outputs": [
    {
     "data": {
      "text/plain": [
       "0.0    172666\n",
       "1.0     46290\n",
       "Name: Fake, dtype: int64"
      ]
     },
     "execution_count": 12,
     "metadata": {},
     "output_type": "execute_result"
    }
   ],
   "source": [
    "train.Fake.value_counts()"
   ]
  },
  {
   "cell_type": "code",
   "execution_count": 13,
   "metadata": {},
   "outputs": [
    {
     "data": {
      "text/plain": [
       "0.0    73664\n",
       "1.0    20175\n",
       "Name: Fake, dtype: int64"
      ]
     },
     "execution_count": 13,
     "metadata": {},
     "output_type": "execute_result"
    }
   ],
   "source": [
    "test.Fake.value_counts()"
   ]
  },
  {
   "cell_type": "code",
   "execution_count": 14,
   "metadata": {},
   "outputs": [],
   "source": [
    "max_length = 30\n",
    "vocab_size = 24612 #unique tokens for this file\n",
    "#encoded_train = [one_hot(d,vocab_size) for d in train['Paths']]\n",
    "#encoded_test = [one_hot(d,vocab_size) for d in test['Paths']]"
   ]
  },
  {
   "cell_type": "code",
   "execution_count": 15,
   "metadata": {},
   "outputs": [],
   "source": [
    "def encode_lines(arr):\n",
    "    # function works on df\n",
    "    # iterate over lines in df\n",
    "    # iterate over splits of line\n",
    "    # convert split word to embedding vector (32,1)\n",
    "    # pad with (32,1) zeros\n",
    "    \n",
    "    \n",
    "    new_array = []\n",
    "    for i in range(len(arr)):\n",
    "        new_array.append(nd_array)\n",
    "    new_array = np.asarray(new_array)\n",
    "    c = 0\n",
    "    for i in arr['Paths']:\n",
    "        splits = i.split(' ')\n",
    "        for j in range(len(splits)):\n",
    "            #print(new_array[i][j])\n",
    "            new_array[c,j] = final_embeddings[dictionary[str(splits[j])]-1].reshape(32,1)\n",
    "        c += 1\n",
    "    assert(len(new_array) == len(arr))\n",
    "    assert(len(new_array[0]) == 30)\n",
    "    return new_array\n",
    "encoded_train = encode_lines(train)"
   ]
  },
  {
   "cell_type": "code",
   "execution_count": 16,
   "metadata": {},
   "outputs": [
    {
     "data": {
      "text/plain": [
       "218956"
      ]
     },
     "execution_count": 16,
     "metadata": {},
     "output_type": "execute_result"
    }
   ],
   "source": [
    "len(encoded_train)"
   ]
  },
  {
   "cell_type": "code",
   "execution_count": 17,
   "metadata": {},
   "outputs": [],
   "source": [
    "encoded_test = encode_lines(test)"
   ]
  },
  {
   "cell_type": "code",
   "execution_count": 18,
   "metadata": {},
   "outputs": [],
   "source": [
    "train_lengths = [len(t) for t in encoded_train] #array of lengths so we can pad zeros later\n",
    "test_lengths= [len(t) for t in encoded_test] #array of lengths for test set to be padded later"
   ]
  },
  {
   "cell_type": "code",
   "execution_count": 19,
   "metadata": {},
   "outputs": [],
   "source": [
    "y_test,y_train = test['Fake'],train['Fake']"
   ]
  },
  {
   "cell_type": "code",
   "execution_count": 20,
   "metadata": {},
   "outputs": [],
   "source": [
    "x_train = encode_lines(train)#['Paths'])\n",
    "x_test = encode_lines(test)#['Paths'])"
   ]
  },
  {
   "cell_type": "code",
   "execution_count": 21,
   "metadata": {},
   "outputs": [],
   "source": [
    "max_length = 30\n",
    "vocab_size = 24612 #unique tokens for this file\n",
    "encoded_train = [one_hot(d,vocab_size) for d in train['Paths']]\n",
    "encoded_test = [one_hot(d,vocab_size) for d in test['Paths']]\n",
    "train_lengths = [len(t) for t in encoded_train] #array of lengths so we can pad zeros later\n",
    "test_lengths= [len(t) for t in encoded_test] #array of lengths for test set to be padded later"
   ]
  },
  {
   "cell_type": "code",
   "execution_count": 22,
   "metadata": {},
   "outputs": [],
   "source": [
    "labels_train = train['Fake']\n",
    "train_dic={}\n",
    "train_dic[\"data\"] = encoded_train\n",
    "train_dic[\"labels\"] = labels_train#labels_train[0].ravel().tolist()\n",
    "train_dic[\"length\"] = train_lengths\n",
    "train_len = len(train)\n",
    "test_len = len(test)\n",
    "\n",
    "train_ = pd.DataFrame.from_dict(data=train_dic, orient='columns', dtype=None)\n",
    "\n",
    "\n",
    "\n",
    "test_dic={}\n",
    "test_dic[\"data\"] = encoded_test\n",
    "test_dic[\"length\"] = test_lengths\n",
    "test_dic[\"labels\"] = test['Fake']\n",
    "test_ = pd.DataFrame.from_dict(data=test_dic, orient='columns', dtype=None)\n",
    "\n",
    "test_input = test.values"
   ]
  },
  {
   "cell_type": "code",
   "execution_count": 23,
   "metadata": {},
   "outputs": [],
   "source": [
    "x_train, x_test = train_[\"data\"],test_[\"data\"]\n",
    "y_train,y_test = train['Fake'],test['Fake']"
   ]
  },
  {
   "cell_type": "code",
   "execution_count": 24,
   "metadata": {},
   "outputs": [
    {
     "name": "stdout",
     "output_type": "stream",
     "text": [
      "218956 train sequences\n",
      "93839 test sequences\n",
      "Pad sequences (samples x time)\n",
      "x_train shape: (218956, 30)\n",
      "x_test shape: (93839, 30)\n"
     ]
    }
   ],
   "source": [
    "max_features = vocab_size\n",
    "maxlen = 30  # cut texts after this number of words (among top max_features most common words)\n",
    "batch_size = 128\n",
    "epochs = 5 #training steps\n",
    "print(len(x_train), 'train sequences')\n",
    "print(len(x_test), 'test sequences')\n",
    "print('Pad sequences (samples x time)')\n",
    "x_train = sequence.pad_sequences(x_train, maxlen=maxlen)\n",
    "x_test = sequence.pad_sequences(x_test, maxlen=maxlen)\n",
    "print('x_train shape:', x_train.shape)\n",
    "print('x_test shape:', x_test.shape)"
   ]
  },
  {
   "cell_type": "code",
   "execution_count": 25,
   "metadata": {},
   "outputs": [
    {
     "name": "stdout",
     "output_type": "stream",
     "text": [
      "Build model...\n",
      "WARNING:tensorflow:From c:\\program files\\python36\\lib\\site-packages\\keras\\backend\\tensorflow_backend.py:1188: calling reduce_sum (from tensorflow.python.ops.math_ops) with keep_dims is deprecated and will be removed in a future version.\n",
      "Instructions for updating:\n",
      "keep_dims is deprecated, use keepdims instead\n",
      "WARNING:tensorflow:From c:\\program files\\python36\\lib\\site-packages\\keras\\backend\\tensorflow_backend.py:1290: calling reduce_mean (from tensorflow.python.ops.math_ops) with keep_dims is deprecated and will be removed in a future version.\n",
      "Instructions for updating:\n",
      "keep_dims is deprecated, use keepdims instead\n",
      "_________________________________________________________________\n",
      "Layer (type)                 Output Shape              Param #   \n",
      "=================================================================\n",
      "embedding_1 (Embedding)      (None, None, 32)          787584    \n",
      "_________________________________________________________________\n",
      "lstm_1 (LSTM)                (None, 30)                7560      \n",
      "_________________________________________________________________\n",
      "dense_1 (Dense)              (None, 1)                 31        \n",
      "=================================================================\n",
      "Total params: 795,175\n",
      "Trainable params: 795,175\n",
      "Non-trainable params: 0\n",
      "_________________________________________________________________\n",
      "Train...\n",
      "Train on 218956 samples, validate on 93839 samples\n",
      "Epoch 1/5\n",
      "218956/218956 [==============================] - 145s - loss: 0.2426 - acc: 0.9218 - val_loss: 0.1476 - val_acc: 0.9605\n",
      "Epoch 2/5\n",
      "218956/218956 [==============================] - 141s - loss: 0.1401 - acc: 0.9623 - val_loss: 0.1414 - val_acc: 0.9624\n",
      "Epoch 3/5\n",
      "218956/218956 [==============================] - 146s - loss: 0.1305 - acc: 0.9641 - val_loss: 0.1452 - val_acc: 0.9621\n",
      "Epoch 4/5\n",
      "218956/218956 [==============================] - 153s - loss: 0.1251 - acc: 0.9648 - val_loss: 0.1481 - val_acc: 0.9621\n",
      "Epoch 5/5\n",
      "218956/218956 [==============================] - 156s - loss: 0.1213 - acc: 0.9651 - val_loss: 0.1531 - val_acc: 0.9622\n",
      "93839/93839 [==============================] - 16s    \n",
      "Test score: 0.15305916457375993\n",
      "Test accuracy: 0.9622225300781125\n"
     ]
    }
   ],
   "source": [
    "print('Build model...')\n",
    "model = Sequential()\n",
    "model.add(Embedding(max_features, 32))\n",
    "model.add(LSTM(30, dropout=0.2, recurrent_dropout=0.2))\n",
    "model.add(Dense(1, activation='sigmoid'))\n",
    "# try using different optimizers and different optimizer configs\n",
    "model.compile(loss='binary_crossentropy',\n",
    "              optimizer='adam',\n",
    "              metrics=['accuracy'])\n",
    "model.summary()\n",
    "print('Train...')\n",
    "model.fit(x_train, y_train,\n",
    "          batch_size=batch_size,\n",
    "          epochs=epochs,\n",
    "          validation_data=(x_test, y_test))\n",
    "score_lstm_sigmoid_FC, acc_lstm_sigmoid_FC = model.evaluate(x_test, y_test,\n",
    "                            batch_size=batch_size)\n",
    "print('Test score:', score_lstm_sigmoid_FC)\n",
    "print('Test accuracy:', acc_lstm_sigmoid_FC)"
   ]
  },
  {
   "cell_type": "code",
   "execution_count": 26,
   "metadata": {},
   "outputs": [
    {
     "name": "stdout",
     "output_type": "stream",
     "text": [
      "Build model...\n",
      "_________________________________________________________________\n",
      "Layer (type)                 Output Shape              Param #   \n",
      "=================================================================\n",
      "embedding_2 (Embedding)      (None, None, 32)          787584    \n",
      "_________________________________________________________________\n",
      "gru_1 (GRU)                  (None, 30)                5670      \n",
      "_________________________________________________________________\n",
      "dense_2 (Dense)              (None, 1)                 31        \n",
      "=================================================================\n",
      "Total params: 793,285\n",
      "Trainable params: 793,285\n",
      "Non-trainable params: 0\n",
      "_________________________________________________________________\n",
      "Train...\n",
      "Train on 218956 samples, validate on 93839 samples\n",
      "Epoch 1/5\n",
      "218956/218956 [==============================] - 127s - loss: 0.2178 - acc: 0.9351 - val_loss: 0.1509 - val_acc: 0.9610\n",
      "Epoch 2/5\n",
      "218956/218956 [==============================] - 130s - loss: 0.1403 - acc: 0.9627 - val_loss: 0.1472 - val_acc: 0.9601\n",
      "Epoch 3/5\n",
      "218956/218956 [==============================] - 132s - loss: 0.1306 - acc: 0.9643 - val_loss: 0.1473 - val_acc: 0.9617\n",
      "Epoch 4/5\n",
      "218956/218956 [==============================] - 131s - loss: 0.1255 - acc: 0.9648 - val_loss: 0.1486 - val_acc: 0.9620\n",
      "Epoch 5/5\n",
      "218956/218956 [==============================] - 134s - loss: 0.1218 - acc: 0.9652 - val_loss: 0.1533 - val_acc: 0.9616\n",
      "93568/93839 [============================>.] - ETA: 0sTest score: 0.15329421910085367\n",
      "Test accuracy: 0.9615618239751063\n"
     ]
    }
   ],
   "source": [
    "print('Build model...')\n",
    "model = Sequential()\n",
    "model.add(Embedding(max_features, 32))\n",
    "model.add(keras.layers.GRU(30, dropout=0.2, recurrent_dropout=0.2))\n",
    "model.add(Dense(1, activation='sigmoid'))\n",
    "# try using different optimizers and different optimizer configs\n",
    "model.compile(loss='binary_crossentropy',\n",
    "              optimizer='adam',\n",
    "              metrics=['accuracy'])\n",
    "model.summary()\n",
    "print('Train...')\n",
    "model.fit(x_train, y_train,\n",
    "          batch_size=batch_size,\n",
    "          epochs=epochs,\n",
    "          validation_data=(x_test, y_test))\n",
    "score_gru_sigmoid_FC, acc_gru_sigmoid_FC = model.evaluate(x_test, y_test,\n",
    "                            batch_size=batch_size)\n",
    "print('Test score:', score_gru_sigmoid_FC)\n",
    "print('Test accuracy:', acc_gru_sigmoid_FC)"
   ]
  },
  {
   "cell_type": "code",
   "execution_count": 28,
   "metadata": {},
   "outputs": [
    {
     "name": "stdout",
     "output_type": "stream",
     "text": [
      "Build model...\n",
      "_________________________________________________________________\n",
      "Layer (type)                 Output Shape              Param #   \n",
      "=================================================================\n",
      "embedding_3 (Embedding)      (None, None, 32)          787584    \n",
      "_________________________________________________________________\n",
      "lstm_2 (LSTM)                (None, 30)                7560      \n",
      "_________________________________________________________________\n",
      "dense_3 (Dense)              (None, 1)                 31        \n",
      "=================================================================\n",
      "Total params: 795,175\n",
      "Trainable params: 795,175\n",
      "Non-trainable params: 0\n",
      "_________________________________________________________________\n",
      "Train...\n",
      "Train on 218956 samples, validate on 93839 samples\n",
      "Epoch 1/5\n",
      "218956/218956 [==============================] - 138s - loss: 0.3509 - acc: 0.8794 - val_loss: 0.2650 - val_acc: 0.9057\n",
      "Epoch 2/5\n",
      "218956/218956 [==============================] - 146s - loss: 0.2559 - acc: 0.9278 - val_loss: 0.2475 - val_acc: 0.9395\n",
      "Epoch 3/5\n",
      "218956/218956 [==============================] - 161s - loss: 0.2174 - acc: 0.9444 - val_loss: 0.2051 - val_acc: 0.9494\n",
      "Epoch 4/5\n",
      "218956/218956 [==============================] - 168s - loss: 0.2070 - acc: 0.9461 - val_loss: 0.2165 - val_acc: 0.9483\n",
      "Epoch 5/5\n",
      "218956/218956 [==============================] - 149s - loss: 0.1822 - acc: 0.9530 - val_loss: 0.2278 - val_acc: 0.9530\n",
      "93824/93839 [============================>.] - ETA: 0sTest score: 0.2277915366927691\n",
      "Test accuracy: 0.952983301186074\n"
     ]
    }
   ],
   "source": [
    "print('Build model...')\n",
    "model = Sequential()\n",
    "model.add(Embedding(max_features, 32))\n",
    "model.add(LSTM(30, dropout=0.2, recurrent_dropout=0.2))\n",
    "model.add(Dense(1, activation='tanh'))\n",
    "# try using different optimizers and different optimizer configs\n",
    "model.compile(loss='binary_crossentropy',\n",
    "              optimizer='adam',\n",
    "              metrics=['accuracy'])\n",
    "model.summary()\n",
    "print('Train...')\n",
    "model.fit(x_train, y_train,\n",
    "          batch_size = batch_size,\n",
    "          epochs = epochs,\n",
    "          validation_data = (x_test, y_test))\n",
    "score_lstm_tanh_FC, acc_lstm_tanh_FC = model.evaluate(x_test, y_test,\n",
    "                            batch_size=batch_size)\n",
    "print('Test score:', score_lstm_tanh_FC)\n",
    "print('Test accuracy:', acc_lstm_tanh_FC)"
   ]
  },
  {
   "cell_type": "code",
   "execution_count": 29,
   "metadata": {},
   "outputs": [
    {
     "name": "stdout",
     "output_type": "stream",
     "text": [
      "Build model...\n",
      "_________________________________________________________________\n",
      "Layer (type)                 Output Shape              Param #   \n",
      "=================================================================\n",
      "embedding_4 (Embedding)      (None, None, 32)          787584    \n",
      "_________________________________________________________________\n",
      "lstm_3 (LSTM)                (None, 30)                7560      \n",
      "_________________________________________________________________\n",
      "dense_4 (Dense)              (None, 1)                 31        \n",
      "=================================================================\n",
      "Total params: 795,175\n",
      "Trainable params: 795,175\n",
      "Non-trainable params: 0\n",
      "_________________________________________________________________\n",
      "Train...\n",
      "Train on 218956 samples, validate on 93839 samples\n",
      "Epoch 1/5\n",
      "218956/218956 [==============================] - 147s - loss: 0.3522 - acc: 0.8615 - val_loss: 0.2771 - val_acc: 0.8566\n",
      "Epoch 2/5\n",
      "218956/218956 [==============================] - 143s - loss: 0.2446 - acc: 0.8729 - val_loss: 0.2034 - val_acc: 0.8544\n",
      "Epoch 3/5\n",
      "218956/218956 [==============================] - 144s - loss: 0.1928 - acc: 0.8477 - val_loss: 0.1909 - val_acc: 0.8320\n",
      "Epoch 4/5\n",
      "218956/218956 [==============================] - 144s - loss: 0.1704 - acc: 0.8310 - val_loss: 0.2064 - val_acc: 0.8265\n",
      "Epoch 5/5\n",
      "218956/218956 [==============================] - 143s - loss: 0.1595 - acc: 0.8256 - val_loss: 0.2221 - val_acc: 0.8101\n",
      "93839/93839 [==============================] - 15s    \n",
      "Test score: 0.2220530925511197\n",
      "Test accuracy: 0.810142904338691\n"
     ]
    }
   ],
   "source": [
    "print('Build model...')\n",
    "model = Sequential()\n",
    "model.add(Embedding(max_features, 32))\n",
    "model.add(LSTM(30, dropout=0.2, recurrent_dropout=0.2))\n",
    "model.add(Dense(1, activation='relu'))\n",
    "# try using different optimizers and different optimizer configs\n",
    "model.compile(loss='binary_crossentropy',\n",
    "              optimizer='adam',\n",
    "              metrics=['accuracy'])\n",
    "model.summary()\n",
    "print('Train...')\n",
    "model.fit(x_train, y_train,\n",
    "          batch_size=batch_size,\n",
    "          epochs=epochs,\n",
    "          validation_data=(x_test, y_test))\n",
    "score_lstm_relu_FC, acc_lstm_relu_FC = model.evaluate(x_test, y_test,\n",
    "                            batch_size=batch_size)\n",
    "print('Test score:', score_lstm_relu_FC)\n",
    "print('Test accuracy:', acc_lstm_relu_FC)"
   ]
  },
  {
   "cell_type": "code",
   "execution_count": 30,
   "metadata": {},
   "outputs": [
    {
     "name": "stdout",
     "output_type": "stream",
     "text": [
      "Build model...\n",
      "_________________________________________________________________\n",
      "Layer (type)                 Output Shape              Param #   \n",
      "=================================================================\n",
      "embedding_5 (Embedding)      (None, None, 32)          787584    \n",
      "_________________________________________________________________\n",
      "lstm_4 (LSTM)                (None, 30)                7560      \n",
      "_________________________________________________________________\n",
      "dense_5 (Dense)              (None, 1)                 31        \n",
      "=================================================================\n",
      "Total params: 795,175\n",
      "Trainable params: 795,175\n",
      "Non-trainable params: 0\n",
      "_________________________________________________________________\n",
      "Train...\n",
      "Train on 218956 samples, validate on 93839 samples\n",
      "Epoch 1/5\n",
      "218956/218956 [==============================] - 146s - loss: 0.3728 - acc: 0.8505 - val_loss: 0.3000 - val_acc: 0.8458\n",
      "Epoch 2/5\n",
      "218956/218956 [==============================] - 144s - loss: 0.2858 - acc: 0.8629 - val_loss: 0.2471 - val_acc: 0.8682\n",
      "Epoch 3/5\n",
      "218956/218956 [==============================] - 145s - loss: 0.2528 - acc: 0.8572 - val_loss: 0.2627 - val_acc: 0.8347\n",
      "Epoch 4/5\n",
      "218956/218956 [==============================] - 144s - loss: 0.2122 - acc: 0.8547 - val_loss: 0.2464 - val_acc: 0.8470\n",
      "Epoch 5/5\n",
      "218956/218956 [==============================] - 143s - loss: 0.1887 - acc: 0.8462 - val_loss: 0.2599 - val_acc: 0.8323\n",
      "93839/93839 [==============================] - 15s    \n",
      "Test score: 0.2599336272873646\n",
      "Test accuracy: 0.8323404980903252\n"
     ]
    }
   ],
   "source": [
    "print('Build model...')\n",
    "model = Sequential()\n",
    "model.add(Embedding(max_features, 32))\n",
    "model.add(LSTM(30, dropout=0.2, recurrent_dropout=0.2))\n",
    "model.add(Dense(1, activation='elu'))\n",
    "# try using different optimizers and different optimizer configs\n",
    "model.compile(loss='binary_crossentropy',\n",
    "              optimizer='adam',\n",
    "              metrics=['accuracy'])\n",
    "model.summary()\n",
    "print('Train...')\n",
    "model.fit(x_train, y_train,\n",
    "          batch_size=batch_size,\n",
    "          epochs=epochs,\n",
    "          validation_data=(x_test, y_test))\n",
    "score_lstm_elu_FC, acc_lstm_elu_FC = model.evaluate(x_test, y_test,\n",
    "                            batch_size=batch_size)\n",
    "print('Test score:', score_lstm_elu_FC)\n",
    "print('Test accuracy:', acc_lstm_elu_FC)"
   ]
  },
  {
   "cell_type": "code",
   "execution_count": 31,
   "metadata": {},
   "outputs": [
    {
     "name": "stdout",
     "output_type": "stream",
     "text": [
      "Build model...\n",
      "_________________________________________________________________\n",
      "Layer (type)                 Output Shape              Param #   \n",
      "=================================================================\n",
      "embedding_6 (Embedding)      (None, None, 32)          787584    \n",
      "_________________________________________________________________\n",
      "lstm_5 (LSTM)                (None, 30)                7560      \n",
      "_________________________________________________________________\n",
      "dense_6 (Dense)              (None, 1)                 31        \n",
      "_________________________________________________________________\n",
      "dense_7 (Dense)              (None, 1)                 2         \n",
      "_________________________________________________________________\n",
      "dense_8 (Dense)              (None, 1)                 2         \n",
      "=================================================================\n",
      "Total params: 795,179\n",
      "Trainable params: 795,179\n",
      "Non-trainable params: 0\n",
      "_________________________________________________________________\n",
      "Train...\n",
      "Train on 218956 samples, validate on 93839 samples\n",
      "Epoch 1/5\n",
      "218956/218956 [==============================] - 147s - loss: 0.5697 - acc: 0.7886 - val_loss: 0.5240 - val_acc: 0.7850\n",
      "Epoch 2/5\n",
      "218956/218956 [==============================] - 144s - loss: 0.5165 - acc: 0.7886 - val_loss: 0.5206 - val_acc: 0.7850\n",
      "Epoch 3/5\n",
      "218956/218956 [==============================] - 145s - loss: 0.5158 - acc: 0.7886 - val_loss: 0.5206 - val_acc: 0.7850\n",
      "Epoch 4/5\n",
      "218956/218956 [==============================] - 145s - loss: 0.5158 - acc: 0.7886 - val_loss: 0.5206 - val_acc: 0.7850\n",
      "Epoch 5/5\n",
      "218956/218956 [==============================] - 144s - loss: 0.5158 - acc: 0.7886 - val_loss: 0.5206 - val_acc: 0.7850\n",
      "93839/93839 [==============================] - 15s    \n",
      "Test score: 0.5205937784398692\n",
      "Test accuracy: 0.7850041027749446\n"
     ]
    }
   ],
   "source": [
    "print('Build model...')\n",
    "model = Sequential()\n",
    "model.add(Embedding(max_features, 32))\n",
    "model.add(LSTM(30, dropout=0.2, recurrent_dropout=0.2))\n",
    "#model.add(LSTM(32, dropout=0.2, recurrent_dropout=0.2))\n",
    "model.add(Dense(1, activation='relu'))\n",
    "model.add(Dense(1, activation='relu'))\n",
    "model.add(Dense(1, activation='sigmoid'))\n",
    "# try using different optimizers and different optimizer configs\n",
    "model.compile(loss='binary_crossentropy',\n",
    "              optimizer='adam',\n",
    "              metrics=['accuracy'])\n",
    "model.summary()\n",
    "print('Train...')\n",
    "model.fit(x_train, y_train,\n",
    "          batch_size=batch_size,\n",
    "          epochs=epochs,\n",
    "          validation_data=(x_test, y_test))\n",
    "score_lstm_3FC_02dropout, acc_lstm_3FC_02dropout = model.evaluate(x_test, y_test,\n",
    "                            batch_size=batch_size)\n",
    "print('Test score:', score_lstm_3FC_02dropout)\n",
    "print('Test accuracy:', acc_lstm_3FC_02dropout)"
   ]
  },
  {
   "cell_type": "code",
   "execution_count": 32,
   "metadata": {},
   "outputs": [
    {
     "name": "stdout",
     "output_type": "stream",
     "text": [
      "Build model...\n",
      "_________________________________________________________________\n",
      "Layer (type)                 Output Shape              Param #   \n",
      "=================================================================\n",
      "embedding_7 (Embedding)      (None, None, 32)          787584    \n",
      "_________________________________________________________________\n",
      "lstm_6 (LSTM)                (None, 30)                7560      \n",
      "_________________________________________________________________\n",
      "dense_9 (Dense)              (None, 1)                 31        \n",
      "_________________________________________________________________\n",
      "dense_10 (Dense)             (None, 1)                 2         \n",
      "_________________________________________________________________\n",
      "dense_11 (Dense)             (None, 1)                 2         \n",
      "=================================================================\n",
      "Total params: 795,179\n",
      "Trainable params: 795,179\n",
      "Non-trainable params: 0\n",
      "_________________________________________________________________\n",
      "Train...\n",
      "Train on 218956 samples, validate on 93839 samples\n",
      "Epoch 1/5\n",
      "218956/218956 [==============================] - 148s - loss: 0.5695 - acc: 0.7881 - val_loss: 0.5240 - val_acc: 0.7850\n",
      "Epoch 2/5\n",
      "218956/218956 [==============================] - 145s - loss: 0.5166 - acc: 0.7886 - val_loss: 0.5205 - val_acc: 0.7850\n",
      "Epoch 3/5\n",
      "218956/218956 [==============================] - 145s - loss: 0.5158 - acc: 0.7886 - val_loss: 0.5206 - val_acc: 0.7850\n",
      "Epoch 4/5\n",
      "218956/218956 [==============================] - 145s - loss: 0.5158 - acc: 0.7886 - val_loss: 0.5205 - val_acc: 0.7850\n",
      "Epoch 5/5\n",
      "218956/218956 [==============================] - 145s - loss: 0.5158 - acc: 0.7886 - val_loss: 0.5205 - val_acc: 0.7850\n",
      "93839/93839 [==============================] - 15s    \n",
      "Test score: 0.5205205857380903\n",
      "Test accuracy: 0.7850041027749446\n"
     ]
    }
   ],
   "source": [
    "print('Build model...')\n",
    "model = Sequential()\n",
    "model.add(Embedding(max_features, 32))\n",
    "model.add(LSTM(30, dropout=0.8, recurrent_dropout=0.2))\n",
    "model.add(Dense(1, activation='relu'))\n",
    "model.add(Dense(1, activation='relu'))\n",
    "model.add(Dense(1, activation='sigmoid'))\n",
    "# try using different optimizers and different optimizer configs\n",
    "model.compile(loss='binary_crossentropy',\n",
    "              optimizer='adam',\n",
    "              metrics=['accuracy'])\n",
    "model.summary()\n",
    "print('Train...')\n",
    "model.fit(x_train, y_train,\n",
    "          batch_size=batch_size,\n",
    "          epochs= epochs,\n",
    "          validation_data=(x_test, y_test))\n",
    "score_lstm_3FC, acc_lstm_3FC = model.evaluate(x_test, y_test,\n",
    "                            batch_size=batch_size)\n",
    "print('Test score:', score_lstm_3FC)\n",
    "print('Test accuracy:', acc_lstm_3FC)"
   ]
  },
  {
   "cell_type": "code",
   "execution_count": 33,
   "metadata": {},
   "outputs": [
    {
     "name": "stdout",
     "output_type": "stream",
     "text": [
      "Build model...\n",
      "_________________________________________________________________\n",
      "Layer (type)                 Output Shape              Param #   \n",
      "=================================================================\n",
      "embedding_8 (Embedding)      (None, None, 32)          787584    \n",
      "_________________________________________________________________\n",
      "lstm_7 (LSTM)                (None, 30)                7560      \n",
      "_________________________________________________________________\n",
      "dense_12 (Dense)             (None, 1)                 31        \n",
      "_________________________________________________________________\n",
      "batch_normalization_1 (Batch (None, 1)                 4         \n",
      "_________________________________________________________________\n",
      "dense_13 (Dense)             (None, 1)                 2         \n",
      "_________________________________________________________________\n",
      "batch_normalization_2 (Batch (None, 1)                 4         \n",
      "_________________________________________________________________\n",
      "dense_14 (Dense)             (None, 1)                 2         \n",
      "_________________________________________________________________\n",
      "batch_normalization_3 (Batch (None, 1)                 4         \n",
      "_________________________________________________________________\n",
      "dense_15 (Dense)             (None, 1)                 2         \n",
      "=================================================================\n",
      "Total params: 795,193\n",
      "Trainable params: 795,187\n",
      "Non-trainable params: 6\n",
      "_________________________________________________________________\n",
      "Train...\n",
      "Train on 218956 samples, validate on 93839 samples\n",
      "Epoch 1/5\n",
      "218956/218956 [==============================] - 154s - loss: 0.4444 - acc: 0.8460 - val_loss: 0.4198 - val_acc: 0.8462\n",
      "Epoch 2/5\n",
      "218956/218956 [==============================] - 151s - loss: 0.4144 - acc: 0.8497 - val_loss: 0.4193 - val_acc: 0.8462\n",
      "Epoch 3/5\n",
      "218956/218956 [==============================] - 151s - loss: 0.4141 - acc: 0.8498 - val_loss: 0.4204 - val_acc: 0.8462\n",
      "Epoch 4/5\n",
      "218956/218956 [==============================] - 152s - loss: 0.4143 - acc: 0.8498 - val_loss: 0.4203 - val_acc: 0.8462\n",
      "Epoch 5/5\n",
      "218956/218956 [==============================] - 153s - loss: 0.4142 - acc: 0.8498 - val_loss: 0.4206 - val_acc: 0.8462\n",
      "93696/93839 [============================>.] - ETA: 0sTest score: 0.42057135488680075\n",
      "Test accuracy: 0.8461727000526265\n"
     ]
    }
   ],
   "source": [
    "print('Build model...')\n",
    "model = Sequential()\n",
    "model.add(Embedding(max_features, 32))\n",
    "model.add(LSTM(30, dropout=0.2, recurrent_dropout=0.2))\n",
    "model.add(Dense(1, activation='relu'))\n",
    "model.add(keras.layers.BatchNormalization())\n",
    "model.add(Dense(1, activation='relu'))\n",
    "model.add(keras.layers.BatchNormalization())\n",
    "model.add(Dense(1, activation='relu'))\n",
    "model.add(keras.layers.BatchNormalization())\n",
    "model.add(Dense(1, activation='sigmoid'))\n",
    "# try using different optimizers and different optimizer configs\n",
    "model.compile(loss='binary_crossentropy',\n",
    "              optimizer='adam',\n",
    "              metrics=['accuracy'])\n",
    "model.summary()\n",
    "print('Train...')\n",
    "model.fit(x_train, y_train,\n",
    "          batch_size=batch_size,\n",
    "          epochs = epochs,\n",
    "          validation_data=(x_test, y_test))\n",
    "score_lstm_3FC_bn, acc_lstm_3FC_bn = model.evaluate(x_test, y_test,\n",
    "                            batch_size=batch_size)\n",
    "print('Test score:', score_lstm_3FC_bn)\n",
    "print('Test accuracy:', acc_lstm_3FC_bn)"
   ]
  },
  {
   "cell_type": "code",
   "execution_count": 34,
   "metadata": {},
   "outputs": [
    {
     "name": "stdout",
     "output_type": "stream",
     "text": [
      "Build model...\n",
      "_________________________________________________________________\n",
      "Layer (type)                 Output Shape              Param #   \n",
      "=================================================================\n",
      "embedding_9 (Embedding)      (None, None, 32)          787584    \n",
      "_________________________________________________________________\n",
      "gru_3 (GRU)                  (None, 30)                5670      \n",
      "_________________________________________________________________\n",
      "dense_16 (Dense)             (None, 1)                 31        \n",
      "_________________________________________________________________\n",
      "batch_normalization_4 (Batch (None, 1)                 4         \n",
      "_________________________________________________________________\n",
      "dense_17 (Dense)             (None, 1)                 2         \n",
      "_________________________________________________________________\n",
      "batch_normalization_5 (Batch (None, 1)                 4         \n",
      "_________________________________________________________________\n",
      "dense_18 (Dense)             (None, 1)                 2         \n",
      "_________________________________________________________________\n",
      "batch_normalization_6 (Batch (None, 1)                 4         \n",
      "_________________________________________________________________\n",
      "dense_19 (Dense)             (None, 1)                 2         \n",
      "=================================================================\n",
      "Total params: 793,303\n",
      "Trainable params: 793,297\n",
      "Non-trainable params: 6\n",
      "_________________________________________________________________\n",
      "Train...\n",
      "Train on 218956 samples, validate on 93839 samples\n",
      "Epoch 1/5\n",
      "218956/218956 [==============================] - 131s - loss: 0.2957 - acc: 0.9071 - val_loss: 0.1736 - val_acc: 0.9539\n",
      "Epoch 2/5\n",
      "218956/218956 [==============================] - 129s - loss: 0.1632 - acc: 0.9588 - val_loss: 0.1590 - val_acc: 0.9604\n",
      "Epoch 3/5\n",
      "218956/218956 [==============================] - 129s - loss: 0.1540 - acc: 0.9620 - val_loss: 0.1562 - val_acc: 0.9611\n",
      "Epoch 4/5\n",
      "218956/218956 [==============================] - 129s - loss: 0.1514 - acc: 0.9630 - val_loss: 0.1550 - val_acc: 0.9617\n",
      "Epoch 5/5\n",
      "218956/218956 [==============================] - 129s - loss: 0.1493 - acc: 0.9637 - val_loss: 0.1534 - val_acc: 0.9622\n",
      "93696/93839 [============================>.] - ETA: 0sTest score: 0.15343637391924858\n",
      "Test accuracy: 0.962190560427967\n"
     ]
    }
   ],
   "source": [
    "print('Build model...')\n",
    "model = Sequential()\n",
    "model.add(Embedding(max_features, 32))\n",
    "model.add(keras.layers.GRU(30, dropout=0.2, recurrent_dropout=0.2))\n",
    "model.add(Dense(1, activation='relu'))\n",
    "model.add(keras.layers.BatchNormalization())\n",
    "model.add(Dense(1, activation='relu'))\n",
    "model.add(keras.layers.BatchNormalization())\n",
    "model.add(Dense(1, activation='relu'))\n",
    "model.add(keras.layers.BatchNormalization())\n",
    "model.add(Dense(1, activation='sigmoid'))\n",
    "model.compile(loss='binary_crossentropy',\n",
    "              optimizer='adam',\n",
    "              metrics=['accuracy'])\n",
    "model.summary()\n",
    "print('Train...')\n",
    "model.fit(x_train, y_train,\n",
    "          batch_size=batch_size,\n",
    "          epochs = epochs,\n",
    "          validation_data=(x_test, y_test))\n",
    "score_gru_3FC_bn, acc_gru_3FC_bn = model.evaluate(x_test, y_test,\n",
    "                            batch_size=batch_size)\n",
    "print('Test score:', score_gru_3FC_bn)\n",
    "print('Test accuracy:', acc_gru_3FC_bn)"
   ]
  },
  {
   "cell_type": "code",
   "execution_count": 35,
   "metadata": {},
   "outputs": [
    {
     "name": "stdout",
     "output_type": "stream",
     "text": [
      "LSTM with sigmoid FC  =  0.9622225300781125 \n",
      "\n",
      "GRU with sigmoid FC  =  0.9615618239751063 \n",
      "\n",
      "LSTM with tanh FC  =  0.952983301186074 \n",
      "\n",
      "LSTM with relu FC  =  0.810142904338691 \n",
      "\n",
      "LSTM with elu FC  =  0.8323404980903252 \n",
      "\n",
      "Denser LSTM with 0.2 dropout  =  0.7850041027749446 \n",
      "\n",
      "Denser LSTM with 0.8 dropout  =  0.7850041027749446 \n",
      "\n",
      "Denser LSTM with 0.2 dropout and batchnorm  =  0.8461727000526265 \n",
      "\n",
      "Denser GRU with 0.2 dropout and batchnorm  =  0.962190560427967 \n",
      "\n"
     ]
    },
    {
     "data": {
      "image/png": "[encoded data removed]",
      "text/plain": [
       "<matplotlib.figure.Figure at 0x190701b8ef0>"
      ]
     },
     "metadata": {},
     "output_type": "display_data"
    },
    {
     "name": "stdout",
     "output_type": "stream",
     "text": [
      "time taken for running the notebook:\n",
      " 1.0 hours, 54.0 minutes and 54.79734396934509 seconds\n"
     ]
    }
   ],
   "source": [
    "#acc_gru_3FC_bn = 0.966\n",
    "names = ['LSTM with sigmoid FC',\n",
    "         'GRU with sigmoid FC',\n",
    "         'LSTM with tanh FC',\n",
    "         'LSTM with relu FC', \n",
    "         'LSTM with elu FC',\n",
    "         'Denser LSTM with 0.2 dropout',\n",
    "         'Denser LSTM with 0.8 dropout',\n",
    "         'Denser LSTM with 0.2 dropout and batchnorm',\n",
    "        'Denser GRU with 0.2 dropout and batchnorm']\n",
    "accs = [acc_lstm_sigmoid_FC,\n",
    "        acc_gru_sigmoid_FC,\n",
    "        acc_lstm_tanh_FC,\n",
    "        acc_lstm_relu_FC,\n",
    "        acc_lstm_elu_FC,\n",
    "        acc_lstm_3FC_02dropout,\n",
    "        acc_lstm_3FC,\n",
    "        acc_lstm_3FC_bn,\n",
    "       acc_gru_3FC_bn]\n",
    "for i in range(len(names)):\n",
    "    print(names[i],\" = \", accs[i],\"\\n\" )\n",
    "x = [i for i in range(len(names))]\n",
    "plt.figure(figsize=(12,8))\n",
    "pl.xticks(x, names)\n",
    "pl.xticks(range(len(names)), names, rotation=60) #writes strings with 45 degree angle\n",
    "pl.plot(x,accs,'*')\n",
    "pl.show()\n",
    "end = time.time()\n",
    "seconds = end - start\n",
    "minutes = seconds//60\n",
    "seconds = seconds % 60\n",
    "hours = 0\n",
    "if minutes > 60:\n",
    "    hours = minutes//60\n",
    "    minutes = minutes%60\n",
    "print(\"time taken for running the notebook:\\n {0} hours, {1} minutes and {2} seconds\".format(hours,minutes,seconds))"
   ]
  },
  {
   "cell_type": "code",
   "execution_count": 36,
   "metadata": {},
   "outputs": [
    {
     "name": "stdout",
     "output_type": "stream",
     "text": [
      "Build model...\n",
      "Train...\n",
      "Train on 218956 samples, validate on 93839 samples\n",
      "Epoch 1/5\n",
      "218956/218956 [==============================] - 148s - loss: 0.2430 - acc: 0.9210 - val_loss: 0.1471 - val_acc: 0.9602\n",
      "Epoch 2/5\n",
      "218956/218956 [==============================] - 146s - loss: 0.1405 - acc: 0.9620 - val_loss: 0.1413 - val_acc: 0.9620\n",
      "Epoch 3/5\n",
      "218956/218956 [==============================] - 144s - loss: 0.1304 - acc: 0.9641 - val_loss: 0.1440 - val_acc: 0.9619\n",
      "Epoch 4/5\n",
      "218956/218956 [==============================] - 144s - loss: 0.1253 - acc: 0.9647 - val_loss: 0.1479 - val_acc: 0.9618\n",
      "Epoch 5/5\n",
      "218956/218956 [==============================] - 145s - loss: 0.1221 - acc: 0.9650 - val_loss: 0.1513 - val_acc: 0.9616\n",
      "93696/93839 [============================>.] - ETA: 0sTest score: 0.15129417664343234\n",
      "Test accuracy: 0.9616044501753003\n",
      "Build model...\n",
      "Train...\n",
      "Train on 218956 samples, validate on 93839 samples\n",
      "Epoch 1/5\n",
      "218956/218956 [==============================] - 147s - loss: 0.3076 - acc: 0.8938 - val_loss: 0.1874 - val_acc: 0.9477\n",
      "Epoch 2/5\n",
      "218956/218956 [==============================] - 144s - loss: 0.1771 - acc: 0.9496 - val_loss: 0.1538 - val_acc: 0.9584\n",
      "Epoch 3/5\n",
      "218956/218956 [==============================] - 144s - loss: 0.1524 - acc: 0.9577 - val_loss: 0.1509 - val_acc: 0.9602\n",
      "Epoch 4/5\n",
      "218956/218956 [==============================] - 144s - loss: 0.1418 - acc: 0.9603 - val_loss: 0.1531 - val_acc: 0.9601\n",
      "Epoch 5/5\n",
      "218956/218956 [==============================] - 145s - loss: 0.1361 - acc: 0.9615 - val_loss: 0.1551 - val_acc: 0.9607\n",
      "93696/93839 [============================>.] - ETA: 0sTest score: 0.1550604185819787\n",
      "Test accuracy: 0.9607199565212758\n"
     ]
    }
   ],
   "source": [
    "### search for hyperparameters ###\n",
    "\n",
    "### IN THIS BLOCK ###\n",
    "\n",
    "## TO CHECK: RECURRENT DROPOUT RATE ##\n",
    "\n",
    "# CHECK 0.2, 0.8 #\n",
    "\n",
    "\n",
    "print('Build model...')\n",
    "model = Sequential()\n",
    "model.add(Embedding(max_features, 32))\n",
    "model.add(LSTM(30, dropout=0.2, recurrent_dropout=0.2))\n",
    "model.add(Dense(1, activation='sigmoid'))\n",
    "model.compile(loss='binary_crossentropy',\n",
    "              optimizer='adam',\n",
    "              metrics=['accuracy'])\n",
    "print('Train...')\n",
    "model.fit(x_train, y_train,\n",
    "          batch_size=batch_size,\n",
    "          epochs=epochs,\n",
    "          validation_data=(x_test, y_test))\n",
    "score_lstm_sigmoid_FC, acc_lstm_sigmoid_FC = model.evaluate(x_test, y_test,\n",
    "                            batch_size=batch_size)\n",
    "print('Test score:', score_lstm_sigmoid_FC)\n",
    "print('Test accuracy:', acc_lstm_sigmoid_FC)\n",
    "print('Build model...')\n",
    "\n",
    "model = Sequential()\n",
    "model.add(Embedding(max_features, 32))\n",
    "model.add(LSTM(30, dropout=0.2, recurrent_dropout=0.8))\n",
    "model.add(Dense(1, activation='sigmoid'))\n",
    "model.compile(loss='binary_crossentropy',\n",
    "              optimizer='adam',\n",
    "              metrics=['accuracy'])\n",
    "print('Train...')\n",
    "model.fit(x_train, y_train,\n",
    "          batch_size=batch_size,\n",
    "          epochs=epochs,\n",
    "          validation_data=(x_test, y_test))\n",
    "score_lstm_sigmoid_FC, acc_lstm_sigmoid_FC = model.evaluate(x_test, y_test,\n",
    "                            batch_size=batch_size)\n",
    "print('Test score:', score_lstm_sigmoid_FC)\n",
    "print('Test accuracy:', acc_lstm_sigmoid_FC)"
   ]
  },
  {
   "cell_type": "code",
   "execution_count": 37,
   "metadata": {},
   "outputs": [
    {
     "name": "stdout",
     "output_type": "stream",
     "text": [
      "Build model...\n",
      "Train...\n",
      "Train on 218956 samples, validate on 93839 samples\n",
      "Epoch 1/5\n",
      "218956/218956 [==============================] - 167s - loss: 0.2306 - acc: 0.9260 - val_loss: 0.1465 - val_acc: 0.9606\n",
      "Epoch 2/5\n",
      "218956/218956 [==============================] - 164s - loss: 0.1375 - acc: 0.9630 - val_loss: 0.1400 - val_acc: 0.9623\n",
      "Epoch 3/5\n",
      "218956/218956 [==============================] - 164s - loss: 0.1290 - acc: 0.9645 - val_loss: 0.1437 - val_acc: 0.9621\n",
      "Epoch 4/5\n",
      "218956/218956 [==============================] - 164s - loss: 0.1240 - acc: 0.9651 - val_loss: 0.1462 - val_acc: 0.9622\n",
      "Epoch 5/5\n",
      "218956/218956 [==============================] - 164s - loss: 0.1203 - acc: 0.9656 - val_loss: 0.1508 - val_acc: 0.9621\n",
      "93839/93839 [==============================] - 17s    \n",
      "Test score: 0.15075726445648502\n",
      "Test accuracy: 0.9621159645776276\n",
      "Build model...\n"
     ]
    }
   ],
   "source": [
    "### search for hyperparameters ###\n",
    "\n",
    "### IN THIS BLOCK ###\n",
    "\n",
    "## TO CHECK: number of LSTM units ##\n",
    "# already have: 128 in github. 30 in this notebook #\n",
    "# CHECK 64 #\n",
    "\n",
    "\n",
    "print('Build model...')\n",
    "model = Sequential()\n",
    "model.add(Embedding(max_features, 32))\n",
    "model.add(LSTM(64, dropout=0.2, recurrent_dropout=0.2))\n",
    "model.add(Dense(1, activation='sigmoid'))\n",
    "model.compile(loss='binary_crossentropy',\n",
    "              optimizer='adam',\n",
    "              metrics=['accuracy'])\n",
    "print('Train...')\n",
    "model.fit(x_train, y_train,\n",
    "          batch_size=batch_size,\n",
    "          epochs=epochs,\n",
    "          validation_data=(x_test, y_test))\n",
    "score_lstm_sigmoid_FC, acc_lstm_sigmoid_FC = model.evaluate(x_test, y_test,\n",
    "                            batch_size=batch_size)\n",
    "print('Test score:', score_lstm_sigmoid_FC)\n",
    "print('Test accuracy:', acc_lstm_sigmoid_FC)\n",
    "print('Build model...')"
   ]
  },
  {
   "cell_type": "code",
   "execution_count": 48,
   "metadata": {},
   "outputs": [
    {
     "name": "stdout",
     "output_type": "stream",
     "text": [
      "<class 'numpy.ndarray'> <class 'dict'> <class 'dict'> <class 'list'>\n"
     ]
    }
   ],
   "source": [
    "if os.name != 'posix':\n",
    "    final_embeddings = pickle.load(open(r'M:\\Course stuff\\ASPRI\\supervised\\loal_FE','rb'))\n",
    "    dictionary = pickle.load(open(r'M:\\Course stuff\\ASPRI\\supervised\\dictionary','rb'))\n",
    "    reverse_dictionary = pickle.load(open(r'M:\\Course stuff\\ASPRI\\supervised\\reverse_dictionary','rb'))\n",
    "    count = pickle.load(open(r'M:\\Course stuff\\ASPRI\\supervised\\count','rb'))\n",
    "else:\n",
    "    final_embeddings = pickle.load(open('loal_FE','rb'))\n",
    "    dictionary = pickle.load(open('dictionary','rb'))\n",
    "    reverse_dictionary = pickle.load(open('reverse_dictionary','rb'))\n",
    "    count = pickle.load(open('count','rb'))\n",
    "print(type(final_embeddings),type(dictionary),type(reverse_dictionary),type(count))"
   ]
  },
  {
   "cell_type": "code",
   "execution_count": 58,
   "metadata": {},
   "outputs": [
    {
     "data": {
      "text/plain": [
       "[6338, 9583, 16843, 16843]"
      ]
     },
     "execution_count": 58,
     "metadata": {},
     "output_type": "execute_result"
    }
   ],
   "source": [
    "encoded_train[0]"
   ]
  },
  {
   "cell_type": "code",
   "execution_count": 52,
   "metadata": {},
   "outputs": [
    {
     "data": {
      "text/plain": [
       "24617"
      ]
     },
     "execution_count": 52,
     "metadata": {},
     "output_type": "execute_result"
    }
   ],
   "source": [
    "len(dictionary)"
   ]
  },
  {
   "cell_type": "code",
   "execution_count": 55,
   "metadata": {},
   "outputs": [],
   "source": [
    "dictionary_ = dictionary.copy()"
   ]
  },
  {
   "cell_type": "code",
   "execution_count": 56,
   "metadata": {},
   "outputs": [],
   "source": [
    "del dictionary['UNK']"
   ]
  },
  {
   "cell_type": "code",
   "execution_count": 57,
   "metadata": {},
   "outputs": [
    {
     "data": {
      "text/plain": [
       "24616"
      ]
     },
     "execution_count": 57,
     "metadata": {},
     "output_type": "execute_result"
    }
   ],
   "source": [
    "len(dictionary)"
   ]
  },
  {
   "cell_type": "code",
   "execution_count": 60,
   "metadata": {},
   "outputs": [
    {
     "data": {
      "text/plain": [
       "'51218'"
      ]
     },
     "execution_count": 60,
     "metadata": {},
     "output_type": "execute_result"
    }
   ],
   "source": [
    "reverse_dictionary[6338]"
   ]
  },
  {
   "cell_type": "code",
   "execution_count": 61,
   "metadata": {},
   "outputs": [],
   "source": [
    "embedding_matrix = {}\n",
    "for i in list(reverse_dictionary.keys()):\n",
    "    embedding_matrix[i] = final_embeddings[i-1]"
   ]
  },
  {
   "cell_type": "code",
   "execution_count": 63,
   "metadata": {},
   "outputs": [
    {
     "data": {
      "text/plain": [
       "(24616, 32)"
      ]
     },
     "execution_count": 63,
     "metadata": {},
     "output_type": "execute_result"
    }
   ],
   "source": [
    "final_embeddings.shape"
   ]
  },
  {
   "cell_type": "code",
   "execution_count": 79,
   "metadata": {},
   "outputs": [],
   "source": [
    "embedding_matrix = np.zeros((len(dictionary), 32))\n",
    "for i in list(reverse_dictionary.keys()):\n",
    "    embedding_vector = final_embeddings[i-1]#.reshape((32,1))\n",
    "    if embedding_vector is not None:\n",
    "        # words not found in embedding index will be all-zeros.\n",
    "        embedding_matrix[i-1] = embedding_vector    "
   ]
  },
  {
   "cell_type": "code",
   "execution_count": 69,
   "metadata": {},
   "outputs": [
    {
     "data": {
      "text/plain": [
       "24616"
      ]
     },
     "execution_count": 69,
     "metadata": {},
     "output_type": "execute_result"
    }
   ],
   "source": [
    "len(embedding_matrix)"
   ]
  },
  {
   "cell_type": "code",
   "execution_count": 70,
   "metadata": {},
   "outputs": [
    {
     "data": {
      "text/plain": [
       "array([-0.00509059, -0.1217261 ,  0.09797727, -0.12125774,  0.12365056,\n",
       "        0.1939962 ,  0.15530343,  0.16010445, -0.05775205,  0.01387483,\n",
       "        0.01254192,  0.13052085, -0.08905942,  0.10333601, -0.2506293 ,\n",
       "        0.26715744,  0.24938019,  0.03133765,  0.30514485, -0.23772131,\n",
       "       -0.03991247,  0.29453826, -0.19590616,  0.33119026,  0.07087544,\n",
       "       -0.28860688,  0.05331763,  0.11969152,  0.21679501, -0.25569105,\n",
       "        0.11104064, -0.07249188], dtype=float32)"
      ]
     },
     "execution_count": 70,
     "metadata": {},
     "output_type": "execute_result"
    }
   ],
   "source": [
    "final_embeddings[6338]"
   ]
  },
  {
   "cell_type": "code",
   "execution_count": 71,
   "metadata": {},
   "outputs": [
    {
     "data": {
      "text/plain": [
       "array([-0.00509059, -0.1217261 ,  0.09797727, -0.12125774,  0.12365056,\n",
       "        0.19399621,  0.15530343,  0.16010445, -0.05775205,  0.01387483,\n",
       "        0.01254192,  0.13052085, -0.08905942,  0.10333601, -0.25062931,\n",
       "        0.26715744,  0.24938019,  0.03133765,  0.30514485, -0.23772131,\n",
       "       -0.03991247,  0.29453826, -0.19590616,  0.33119026,  0.07087544,\n",
       "       -0.28860688,  0.05331763,  0.11969152,  0.21679501, -0.25569105,\n",
       "        0.11104064, -0.07249188])"
      ]
     },
     "execution_count": 71,
     "metadata": {},
     "output_type": "execute_result"
    }
   ],
   "source": [
    "embedding_matrix[6338]"
   ]
  },
  {
   "cell_type": "code",
   "execution_count": 75,
   "metadata": {},
   "outputs": [
    {
     "name": "stdout",
     "output_type": "stream",
     "text": [
      "Build model...\n",
      "_________________________________________________________________\n",
      "Layer (type)                 Output Shape              Param #   \n",
      "=================================================================\n",
      "embedding_23 (Embedding)     (None, None, 32)          787712    \n",
      "_________________________________________________________________\n",
      "lstm_14 (LSTM)               (None, 30)                7560      \n",
      "_________________________________________________________________\n",
      "dense_23 (Dense)             (None, 1)                 31        \n",
      "=================================================================\n",
      "Total params: 795,303\n",
      "Trainable params: 7,591\n",
      "Non-trainable params: 787,712\n",
      "_________________________________________________________________\n",
      "Train...\n",
      "Train on 218956 samples, validate on 93839 samples\n",
      "Epoch 1/5\n",
      "218956/218956 [==============================] - 144s - loss: 0.3975 - acc: 0.8567 - val_loss: 0.3118 - val_acc: 0.8968\n",
      "Epoch 2/5\n",
      "218956/218956 [==============================] - 144s - loss: 0.2899 - acc: 0.9038 - val_loss: 0.2498 - val_acc: 0.9207\n",
      "Epoch 3/5\n",
      "218956/218956 [==============================] - 125s - loss: 0.2546 - acc: 0.9178 - val_loss: 0.2326 - val_acc: 0.9274\n",
      "Epoch 4/5\n",
      "218956/218956 [==============================] - 125s - loss: 0.2375 - acc: 0.9254 - val_loss: 0.2191 - val_acc: 0.9337\n",
      "Epoch 5/5\n",
      "218956/218956 [==============================] - 125s - loss: 0.2272 - acc: 0.9307 - val_loss: 0.2121 - val_acc: 0.9355\n",
      "93824/93839 [============================>.] - ETA: 0sTest score: 0.21212848076096116\n",
      "Test accuracy: 0.9355385287567003\n"
     ]
    }
   ],
   "source": [
    "print('Build model...')\n",
    "model = Sequential()\n",
    "model.add(Embedding(len(embedding_matrix), 32,weights = [embedding_matrix],trainable = False))\n",
    "model.add(LSTM(30, dropout=0.2, recurrent_dropout=0.2))\n",
    "model.add(Dense(1, activation='sigmoid'))\n",
    "# try using different optimizers and different optimizer configs\n",
    "model.compile(loss='binary_crossentropy',\n",
    "              optimizer='adam',\n",
    "              metrics=['accuracy'])\n",
    "model.summary()\n",
    "print('Train...')\n",
    "model.fit(x_train, y_train,\n",
    "          batch_size=batch_size,\n",
    "          epochs=epochs,\n",
    "          validation_data=(x_test, y_test))\n",
    "score_lstm_sigmoid_FC, acc_lstm_sigmoid_FC = model.evaluate(x_test, y_test,\n",
    "                            batch_size=batch_size)\n",
    "print('Test score:', score_lstm_sigmoid_FC)\n",
    "print('Test accuracy:', acc_lstm_sigmoid_FC)"
   ]
  },
  {
   "cell_type": "code",
   "execution_count": 94,
   "metadata": {},
   "outputs": [
    {
     "name": "stdout",
     "output_type": "stream",
     "text": [
      "Building w2v embedding model with denser (16 units) FC layer ...\n",
      "_________________________________________________________________\n",
      "Layer (type)                 Output Shape              Param #   \n",
      "=================================================================\n",
      "embedding_40 (Embedding)     (None, None, 32)          787712    \n",
      "_________________________________________________________________\n",
      "lstm_31 (LSTM)               (None, 30)                7560      \n",
      "_________________________________________________________________\n",
      "dense_39 (Dense)             (None, 16)                496       \n",
      "_________________________________________________________________\n",
      "dense_40 (Dense)             (None, 1)                 17        \n",
      "=================================================================\n",
      "Total params: 795,785\n",
      "Trainable params: 8,073\n",
      "Non-trainable params: 787,712\n",
      "_________________________________________________________________\n",
      "Train...\n",
      "Train on 218956 samples, validate on 93839 samples\n",
      "Epoch 1/5\n",
      "218956/218956 [==============================] - 130s - loss: 0.4587 - acc: 0.8187 - val_loss: 0.3888 - val_acc: 0.8656\n",
      "Epoch 2/5\n",
      "218956/218956 [==============================] - 131s - loss: 0.3855 - acc: 0.8647 - val_loss: 0.3780 - val_acc: 0.8683\n",
      "Epoch 3/5\n",
      "218956/218956 [==============================] - 128s - loss: 0.3665 - acc: 0.8689 - val_loss: 0.3277 - val_acc: 0.8738\n",
      "Epoch 4/5\n",
      "218956/218956 [==============================] - 132s - loss: 0.3057 - acc: 0.8902 - val_loss: 0.2679 - val_acc: 0.9113\n",
      "Epoch 5/5\n",
      "218956/218956 [==============================] - 143s - loss: 0.2763 - acc: 0.9066 - val_loss: 0.2498 - val_acc: 0.9193\n",
      "93824/93839 [============================>.] - ETA: 0sTest score: 0.24983315115868598\n",
      "Test accuracy: 0.9193299161335863\n"
     ]
    }
   ],
   "source": [
    "#from keras.layers import TimeDistributed\n",
    "print('Building w2v embedding model with denser (16 units) FC layer ...')\n",
    "model = Sequential()\n",
    "model.add(Embedding(len(embedding_matrix), 32,weights = [embedding_matrix],trainable = False))\n",
    "model.add(LSTM(30, dropout=0.2, recurrent_dropout=0.2))\n",
    "model.add(Dense(16, activation='sigmoid'))\n",
    "model.add(Dense(1, activation='sigmoid'))\n",
    "model.compile(loss='binary_crossentropy',\n",
    "              optimizer='adam',\n",
    "              metrics=['accuracy'])\n",
    "model.summary()\n",
    "print('Train...')\n",
    "model.fit(x_train, y_train,\n",
    "          batch_size=batch_size,\n",
    "          epochs=epochs,\n",
    "          validation_data=(x_test, y_test))\n",
    "score_lstm_sigmoid_FC, acc_lstm_sigmoid_FC = model.evaluate(x_test, y_test,\n",
    "                            batch_size=batch_size)\n",
    "print('Test score:', score_lstm_sigmoid_FC)\n",
    "print('Test accuracy:', acc_lstm_sigmoid_FC)\n",
    "## Adding a FC layer did not help but hurt both in terms of training and validation accuracies"
   ]
  },
  {
   "cell_type": "code",
   "execution_count": 76,
   "metadata": {},
   "outputs": [
    {
     "name": "stdout",
     "output_type": "stream",
     "text": [
      "Building Trainable w2v embedding model...\n",
      "_________________________________________________________________\n",
      "Layer (type)                 Output Shape              Param #   \n",
      "=================================================================\n",
      "embedding_24 (Embedding)     (None, None, 32)          787712    \n",
      "_________________________________________________________________\n",
      "lstm_15 (LSTM)               (None, 30)                7560      \n",
      "_________________________________________________________________\n",
      "dense_24 (Dense)             (None, 1)                 31        \n",
      "=================================================================\n",
      "Total params: 795,303\n",
      "Trainable params: 795,303\n",
      "Non-trainable params: 0\n",
      "_________________________________________________________________\n",
      "Train...\n",
      "Train on 218956 samples, validate on 93839 samples\n",
      "Epoch 1/5\n",
      "218956/218956 [==============================] - 153s - loss: 0.2384 - acc: 0.9250 - val_loss: 0.1498 - val_acc: 0.9599\n",
      "Epoch 2/5\n",
      "218956/218956 [==============================] - 156s - loss: 0.1427 - acc: 0.9617 - val_loss: 0.1421 - val_acc: 0.9619\n",
      "Epoch 3/5\n",
      "218956/218956 [==============================] - 158s - loss: 0.1329 - acc: 0.9637 - val_loss: 0.1421 - val_acc: 0.9622\n",
      "Epoch 4/5\n",
      "218956/218956 [==============================] - 156s - loss: 0.1276 - acc: 0.9645 - val_loss: 0.1473 - val_acc: 0.9614\n",
      "Epoch 5/5\n",
      "218956/218956 [==============================] - 159s - loss: 0.1235 - acc: 0.9650 - val_loss: 0.1496 - val_acc: 0.9619\n",
      "93839/93839 [==============================] - 16s    \n",
      "Test score: 0.14956105557707242\n",
      "Test accuracy: 0.9619454597768519\n"
     ]
    }
   ],
   "source": [
    "print('Building Trainable w2v embedding model...')\n",
    "model = Sequential()\n",
    "model.add(Embedding(len(embedding_matrix), 32,weights = [embedding_matrix],trainable = True))\n",
    "model.add(LSTM(30, dropout=0.2, recurrent_dropout=0.2))\n",
    "model.add(Dense(1, activation='sigmoid'))\n",
    "# try using different optimizers and different optimizer configs\n",
    "model.compile(loss='binary_crossentropy',\n",
    "              optimizer='adam',\n",
    "              metrics=['accuracy'])\n",
    "model.summary()\n",
    "print('Train...')\n",
    "model.fit(x_train, y_train,\n",
    "          batch_size=batch_size,\n",
    "          epochs=epochs,\n",
    "          validation_data=(x_test, y_test))\n",
    "score_lstm_sigmoid_FC, acc_lstm_sigmoid_FC = model.evaluate(x_test, y_test,\n",
    "                            batch_size=batch_size)\n",
    "print('Test score:', score_lstm_sigmoid_FC)\n",
    "print('Test accuracy:', acc_lstm_sigmoid_FC)"
   ]
  },
  {
   "cell_type": "code",
   "execution_count": 95,
   "metadata": {},
   "outputs": [
    {
     "name": "stdout",
     "output_type": "stream",
     "text": [
      "Building w2v embedding model with denser (16 units) FC layer ...\n",
      "_________________________________________________________________\n",
      "Layer (type)                 Output Shape              Param #   \n",
      "=================================================================\n",
      "embedding_41 (Embedding)     (None, None, 32)          787712    \n",
      "_________________________________________________________________\n",
      "lstm_32 (LSTM)               (None, 30)                7560      \n",
      "_________________________________________________________________\n",
      "dense_41 (Dense)             (None, 32)                992       \n",
      "_________________________________________________________________\n",
      "dense_42 (Dense)             (None, 1)                 33        \n",
      "=================================================================\n",
      "Total params: 796,297\n",
      "Trainable params: 8,585\n",
      "Non-trainable params: 787,712\n",
      "_________________________________________________________________\n",
      "Train...\n",
      "Train on 218956 samples, validate on 93839 samples\n",
      "Epoch 1/5\n",
      "218956/218956 [==============================] - 176s - loss: 0.3905 - acc: 0.8530 - val_loss: 0.2856 - val_acc: 0.9030\n",
      "Epoch 2/5\n",
      "218956/218956 [==============================] - 171s - loss: 0.2766 - acc: 0.9073 - val_loss: 0.2441 - val_acc: 0.9212\n",
      "Epoch 3/5\n",
      "218956/218956 [==============================] - 144s - loss: 0.2481 - acc: 0.9196 - val_loss: 0.2243 - val_acc: 0.9310\n",
      "Epoch 4/5\n",
      "218956/218956 [==============================] - 147s - loss: 0.2306 - acc: 0.9275 - val_loss: 0.2172 - val_acc: 0.9333\n",
      "Epoch 5/5\n",
      "218956/218956 [==============================] - 179s - loss: 0.2205 - acc: 0.9325 - val_loss: 0.2042 - val_acc: 0.9398\n",
      "93839/93839 [==============================] - 20s    \n",
      "Test score: 0.20420227030422147\n",
      "Test accuracy: 0.9397585225759013\n"
     ]
    }
   ],
   "source": [
    "print('Building w2v embedding model with denser (16 units) FC layer ...')\n",
    "model = Sequential()\n",
    "model.add(Embedding(len(embedding_matrix), 32,weights = [embedding_matrix],trainable = False))\n",
    "model.add(LSTM(30, dropout=0.2, recurrent_dropout=0.2))\n",
    "model.add(Dense(32, activation='sigmoid'))\n",
    "model.add(Dense(1, activation='sigmoid'))\n",
    "# try using different optimizers and different optimizer configs\n",
    "model.compile(loss='binary_crossentropy',\n",
    "              optimizer='adam',\n",
    "              metrics=['accuracy'])\n",
    "model.summary()\n",
    "print('Train...')\n",
    "model.fit(x_train, y_train,\n",
    "          batch_size=batch_size,\n",
    "          epochs=epochs,\n",
    "          validation_data=(x_test, y_test))\n",
    "score_lstm_sigmoid_FC, acc_lstm_sigmoid_FC = model.evaluate(x_test, y_test,\n",
    "                            batch_size=batch_size)\n",
    "print('Test score:', score_lstm_sigmoid_FC)\n",
    "print('Test accuracy:', acc_lstm_sigmoid_FC)\n",
    "# increasing number of hidden units in dense layer helped\n",
    "# ==>> extra layer with more hidden units\n",
    "\n",
    "# try lstm : 128 -> Dense : 64 -> Dens: 1"
   ]
  },
  {
   "cell_type": "code",
   "execution_count": 96,
   "metadata": {},
   "outputs": [
    {
     "name": "stdout",
     "output_type": "stream",
     "text": [
      "Building w2v embedding model with denser (16 units) FC layer and 128 hidden units in LSTM ...\n",
      "_________________________________________________________________\n",
      "Layer (type)                 Output Shape              Param #   \n",
      "=================================================================\n",
      "embedding_42 (Embedding)     (None, None, 32)          787712    \n",
      "_________________________________________________________________\n",
      "lstm_33 (LSTM)               (None, 128)               82432     \n",
      "_________________________________________________________________\n",
      "dense_43 (Dense)             (None, 16)                2064      \n",
      "_________________________________________________________________\n",
      "dense_44 (Dense)             (None, 1)                 17        \n",
      "=================================================================\n",
      "Total params: 872,225\n",
      "Trainable params: 84,513\n",
      "Non-trainable params: 787,712\n",
      "_________________________________________________________________\n",
      "Train...\n",
      "Train on 218956 samples, validate on 93839 samples\n",
      "Epoch 1/5\n",
      "218956/218956 [==============================] - 214s - loss: 0.3395 - acc: 0.8821 - val_loss: 0.2509 - val_acc: 0.9187\n",
      "Epoch 2/5\n",
      "218956/218956 [==============================] - 228s - loss: 0.2401 - acc: 0.9229 - val_loss: 0.2173 - val_acc: 0.9335\n",
      "Epoch 3/5\n",
      "218956/218956 [==============================] - 224s - loss: 0.2145 - acc: 0.9342 - val_loss: 0.2038 - val_acc: 0.9385\n",
      "Epoch 4/5\n",
      "218956/218956 [==============================] - 233s - loss: 0.2013 - acc: 0.9398 - val_loss: 0.1911 - val_acc: 0.9439\n",
      "Epoch 5/5\n",
      "218956/218956 [==============================] - 233s - loss: 0.1929 - acc: 0.9430 - val_loss: 0.1920 - val_acc: 0.9442\n",
      "93824/93839 [============================>.] - ETA: 0sTest score: 0.19199804229045042\n",
      "Test accuracy: 0.9442449301463144\n"
     ]
    }
   ],
   "source": [
    "print('Building w2v embedding model with denser (16 units) FC layer and 128 hidden units in LSTM ...')\n",
    "model = Sequential()\n",
    "model.add(Embedding(len(embedding_matrix), 32,weights = [embedding_matrix],trainable = False))\n",
    "model.add(LSTM(128, dropout=0.2, recurrent_dropout=0.2))\n",
    "model.add(Dense(16, activation='sigmoid'))\n",
    "model.add(Dense(1, activation='sigmoid'))\n",
    "model.compile(loss='binary_crossentropy',\n",
    "              optimizer='adam',\n",
    "              metrics=['accuracy'])\n",
    "model.summary()\n",
    "print('Train...')\n",
    "model.fit(x_train, y_train,\n",
    "          batch_size=batch_size,\n",
    "          epochs=epochs,\n",
    "          validation_data=(x_test, y_test))\n",
    "score_lstm_sigmoid_FC, acc_lstm_sigmoid_FC = model.evaluate(x_test, y_test,\n",
    "                            batch_size=batch_size)\n",
    "print('Test score:', score_lstm_sigmoid_FC)\n",
    "print('Test accuracy:', acc_lstm_sigmoid_FC)"
   ]
  },
  {
   "cell_type": "code",
   "execution_count": 97,
   "metadata": {},
   "outputs": [
    {
     "name": "stdout",
     "output_type": "stream",
     "text": [
      "Building w2v embedding model with denser (32 units) FC layer and 128 hidden units in LSTM ...\n",
      "_________________________________________________________________\n",
      "Layer (type)                 Output Shape              Param #   \n",
      "=================================================================\n",
      "embedding_43 (Embedding)     (None, None, 32)          787712    \n",
      "_________________________________________________________________\n",
      "lstm_34 (LSTM)               (None, 128)               82432     \n",
      "_________________________________________________________________\n",
      "dense_45 (Dense)             (None, 32)                4128      \n",
      "_________________________________________________________________\n",
      "dense_46 (Dense)             (None, 1)                 33        \n",
      "=================================================================\n",
      "Total params: 874,305\n",
      "Trainable params: 86,593\n",
      "Non-trainable params: 787,712\n",
      "_________________________________________________________________\n",
      "Train...\n",
      "Train on 218956 samples, validate on 93839 samples\n",
      "Epoch 1/5\n",
      "218956/218956 [==============================] - 234s - loss: 0.3483 - acc: 0.8753 - val_loss: 0.2528 - val_acc: 0.9185\n",
      "Epoch 2/5\n",
      "218956/218956 [==============================] - 189s - loss: 0.2456 - acc: 0.9200 - val_loss: 0.2225 - val_acc: 0.9313\n",
      "Epoch 3/5\n",
      "218956/218956 [==============================] - 186s - loss: 0.2203 - acc: 0.9321 - val_loss: 0.2057 - val_acc: 0.9388\n",
      "Epoch 4/5\n",
      "218956/218956 [==============================] - 185s - loss: 0.2066 - acc: 0.9382 - val_loss: 0.1969 - val_acc: 0.9425\n",
      "Epoch 5/5\n",
      "218956/218956 [==============================] - 185s - loss: 0.1977 - acc: 0.9417 - val_loss: 0.1891 - val_acc: 0.9448\n",
      "93824/93839 [============================>.] - ETA: 0sTest score: 0.18911368829196404\n",
      "Test accuracy: 0.9448097272988842\n"
     ]
    }
   ],
   "source": [
    "print('Building w2v embedding model with denser (32 units) FC layer and 128 hidden units in LSTM ...')\n",
    "model = Sequential()\n",
    "model.add(Embedding(len(embedding_matrix), 32,weights = [embedding_matrix],trainable = False))\n",
    "model.add(LSTM(128, dropout=0.2, recurrent_dropout=0.2))\n",
    "model.add(Dense(32, activation='sigmoid'))\n",
    "model.add(Dense(1, activation='sigmoid'))\n",
    "model.compile(loss='binary_crossentropy',\n",
    "              optimizer='adam',\n",
    "              metrics=['accuracy'])\n",
    "model.summary()\n",
    "print('Train...')\n",
    "model.fit(x_train, y_train,\n",
    "          batch_size=batch_size,\n",
    "          epochs=epochs,\n",
    "          validation_data=(x_test, y_test))\n",
    "score_lstm_sigmoid_FC, acc_lstm_sigmoid_FC = model.evaluate(x_test, y_test,\n",
    "                            batch_size=batch_size)\n",
    "print('Test score:', score_lstm_sigmoid_FC)\n",
    "print('Test accuracy:', acc_lstm_sigmoid_FC)"
   ]
  },
  {
   "cell_type": "code",
   "execution_count": 98,
   "metadata": {},
   "outputs": [],
   "source": [
    "embedding_matrix_ = embedding_matrix"
   ]
  },
  {
   "cell_type": "code",
   "execution_count": 99,
   "metadata": {},
   "outputs": [
    {
     "name": "stdout",
     "output_type": "stream",
     "text": [
      "Building trainable w2v embedding model with denser (32 units) FC layer and 128 hidden units in LSTM ...\n",
      "_________________________________________________________________\n",
      "Layer (type)                 Output Shape              Param #   \n",
      "=================================================================\n",
      "embedding_44 (Embedding)     (None, None, 32)          787712    \n",
      "_________________________________________________________________\n",
      "lstm_35 (LSTM)               (None, 128)               82432     \n",
      "_________________________________________________________________\n",
      "dense_47 (Dense)             (None, 32)                4128      \n",
      "_________________________________________________________________\n",
      "dense_48 (Dense)             (None, 1)                 33        \n",
      "=================================================================\n",
      "Total params: 874,305\n",
      "Trainable params: 874,305\n",
      "Non-trainable params: 0\n",
      "_________________________________________________________________\n",
      "Train...\n",
      "Train on 218956 samples, validate on 93839 samples\n",
      "Epoch 1/5\n",
      "218956/218956 [==============================] - 206s - loss: 0.2278 - acc: 0.9262 - val_loss: 0.1482 - val_acc: 0.9608\n",
      "Epoch 2/5\n",
      "218956/218956 [==============================] - 202s - loss: 0.1409 - acc: 0.9627 - val_loss: 0.1439 - val_acc: 0.9612\n",
      "Epoch 3/5\n",
      "218956/218956 [==============================] - 203s - loss: 0.1330 - acc: 0.9640 - val_loss: 0.1404 - val_acc: 0.9625\n",
      "Epoch 4/5\n",
      "218956/218956 [==============================] - 202s - loss: 0.1274 - acc: 0.9648 - val_loss: 0.1425 - val_acc: 0.9629\n",
      "Epoch 5/5\n",
      "218956/218956 [==============================] - 202s - loss: 0.1231 - acc: 0.9653 - val_loss: 0.1497 - val_acc: 0.9619\n",
      "93824/93839 [============================>.] - ETA: 0sTest score: 0.14974221508381072\n",
      "Test accuracy: 0.9619241466767549\n"
     ]
    }
   ],
   "source": [
    "print('Building trainable w2v embedding model with denser (32 units) FC layer and 128 hidden units in LSTM ...')\n",
    "model = Sequential()\n",
    "model.add(Embedding(len(embedding_matrix), 32,weights = [embedding_matrix],trainable = True))\n",
    "model.add(LSTM(128, dropout=0.2, recurrent_dropout=0.2))\n",
    "model.add(Dense(32, activation='sigmoid'))\n",
    "model.add(Dense(1, activation='sigmoid'))\n",
    "model.compile(loss='binary_crossentropy',\n",
    "              optimizer='adam',\n",
    "              metrics=['accuracy'])\n",
    "model.summary()\n",
    "print('Train...')\n",
    "model.fit(x_train, y_train,\n",
    "          batch_size=batch_size,\n",
    "          epochs=epochs,\n",
    "          validation_data=(x_test, y_test))\n",
    "score_lstm_sigmoid_FC, acc_lstm_sigmoid_FC = model.evaluate(x_test, y_test,\n",
    "                            batch_size=batch_size)\n",
    "print('Test score:', score_lstm_sigmoid_FC)\n",
    "print('Test accuracy:', acc_lstm_sigmoid_FC)"
   ]
  },
  {
   "cell_type": "code",
   "execution_count": 100,
   "metadata": {},
   "outputs": [
    {
     "name": "stdout",
     "output_type": "stream",
     "text": [
      "Building trainable w2v embedding model with denser (64 units) FC layer and 128 hidden units in LSTM ...\n",
      "_________________________________________________________________\n",
      "Layer (type)                 Output Shape              Param #   \n",
      "=================================================================\n",
      "embedding_45 (Embedding)     (None, None, 32)          787712    \n",
      "_________________________________________________________________\n",
      "lstm_36 (LSTM)               (None, 128)               82432     \n",
      "_________________________________________________________________\n",
      "dense_49 (Dense)             (None, 64)                8256      \n",
      "_________________________________________________________________\n",
      "dense_50 (Dense)             (None, 1)                 65        \n",
      "=================================================================\n",
      "Total params: 878,465\n",
      "Trainable params: 878,465\n",
      "Non-trainable params: 0\n",
      "_________________________________________________________________\n",
      "Train...\n",
      "Train on 218956 samples, validate on 93839 samples\n",
      "Epoch 1/5\n",
      "218956/218956 [==============================] - 208s - loss: 0.2066 - acc: 0.9361 - val_loss: 0.1449 - val_acc: 0.9609\n",
      "Epoch 2/5\n",
      "218956/218956 [==============================] - 203s - loss: 0.1385 - acc: 0.9629 - val_loss: 0.1392 - val_acc: 0.9625\n",
      "Epoch 3/5\n",
      "218956/218956 [==============================] - 204s - loss: 0.1307 - acc: 0.9642 - val_loss: 0.1398 - val_acc: 0.9627964\n",
      "Epoch 4/5\n",
      "218956/218956 [==============================] - 203s - loss: 0.1251 - acc: 0.9651 - val_loss: 0.1443 - val_acc: 0.9625\n",
      "Epoch 5/5\n",
      "218956/218956 [==============================] - 203s - loss: 0.1214 - acc: 0.9654 - val_loss: 0.1512 - val_acc: 0.9626\n",
      "93839/93839 [==============================] - 25s    \n",
      "Test score: 0.15116789425131852\n",
      "Test accuracy: 0.962648792080052\n"
     ]
    }
   ],
   "source": [
    "print('Building trainable w2v embedding model with denser (64 units) FC layer and 128 hidden units in LSTM ...')\n",
    "model = Sequential()\n",
    "model.add(Embedding(len(embedding_matrix), 32,weights = [embedding_matrix],trainable = True))\n",
    "model.add(LSTM(128, dropout=0.2, recurrent_dropout=0.2))\n",
    "model.add(Dense(64, activation='sigmoid'))\n",
    "model.add(Dense(1, activation='sigmoid'))\n",
    "model.compile(loss='binary_crossentropy',\n",
    "              optimizer='adam',\n",
    "              metrics=['accuracy'])\n",
    "model.summary()\n",
    "print('Train...')\n",
    "model.fit(x_train, y_train,\n",
    "          batch_size=batch_size,\n",
    "          epochs=epochs,\n",
    "          validation_data=(x_test, y_test))\n",
    "score_lstm_sigmoid_FC, acc_lstm_sigmoid_FC = model.evaluate(x_test, y_test,\n",
    "                            batch_size=batch_size)\n",
    "print('Test score:', score_lstm_sigmoid_FC)\n",
    "print('Test accuracy:', acc_lstm_sigmoid_FC)"
   ]
  },
  {
   "cell_type": "code",
   "execution_count": 101,
   "metadata": {},
   "outputs": [
    {
     "name": "stdout",
     "output_type": "stream",
     "text": [
      "Building trainable w2v embedding model with extra units for last model ...\n",
      "_________________________________________________________________\n",
      "Layer (type)                 Output Shape              Param #   \n",
      "=================================================================\n",
      "embedding_46 (Embedding)     (None, None, 32)          787712    \n",
      "_________________________________________________________________\n",
      "lstm_37 (LSTM)               (None, 128)               82432     \n",
      "_________________________________________________________________\n",
      "dense_51 (Dense)             (None, 64)                8256      \n",
      "_________________________________________________________________\n",
      "dense_52 (Dense)             (None, 32)                2080      \n",
      "_________________________________________________________________\n",
      "dense_53 (Dense)             (None, 1)                 33        \n",
      "=================================================================\n",
      "Total params: 880,513\n",
      "Trainable params: 880,513\n",
      "Non-trainable params: 0\n",
      "_________________________________________________________________\n",
      "Train...\n",
      "Train on 218956 samples, validate on 93839 samples\n",
      "Epoch 1/5\n",
      "218956/218956 [==============================] - 208s - loss: 0.2059 - acc: 0.9376 - val_loss: 0.1478 - val_acc: 0.9610\n",
      "Epoch 2/5\n",
      "218956/218956 [==============================] - 204s - loss: 0.1393 - acc: 0.9628 - val_loss: 0.1393 - val_acc: 0.9623\n",
      "Epoch 3/5\n",
      "218956/218956 [==============================] - 203s - loss: 0.1315 - acc: 0.9644 - val_loss: 0.1399 - val_acc: 0.9629\n",
      "Epoch 4/5\n",
      "218956/218956 [==============================] - 204s - loss: 0.1261 - acc: 0.9651 - val_loss: 0.1422 - val_acc: 0.9628\n",
      "Epoch 5/5\n",
      "218956/218956 [==============================] - 204s - loss: 0.1221 - acc: 0.9654 - val_loss: 0.1448 - val_acc: 0.9631\n",
      "93824/93839 [============================>.] - ETA: 0sTest score: 0.1448456367787643\n",
      "Test accuracy: 0.96308571063204\n"
     ]
    }
   ],
   "source": [
    "print('Building trainable w2v embedding model with extra units for last model ...')\n",
    "model = Sequential()\n",
    "model.add(Embedding(len(embedding_matrix), 32,weights = [embedding_matrix],trainable = True))\n",
    "model.add(LSTM(128, dropout=0.2, recurrent_dropout=0.2))\n",
    "model.add(Dense(64, activation='sigmoid'))\n",
    "model.add(Dense(32, activation='sigmoid'))\n",
    "model.add(Dense(1, activation='sigmoid'))\n",
    "model.compile(loss='binary_crossentropy',\n",
    "              optimizer='adam',\n",
    "              metrics=['accuracy'])\n",
    "model.summary()\n",
    "print('Train...')\n",
    "model.fit(x_train, y_train,\n",
    "          batch_size=batch_size,\n",
    "          epochs=epochs,\n",
    "          validation_data=(x_test, y_test))\n",
    "score_lstm_sigmoid_FC, acc_lstm_sigmoid_FC = model.evaluate(x_test, y_test,\n",
    "                            batch_size=batch_size)\n",
    "print('Test score:', score_lstm_sigmoid_FC)\n",
    "print('Test accuracy:', acc_lstm_sigmoid_FC)"
   ]
  },
  {
   "cell_type": "code",
   "execution_count": null,
   "metadata": {},
   "outputs": [],
   "source": []
  }
 ],
 "metadata": {
  "kernelspec": {
   "display_name": "Python 3",
   "language": "python",
   "name": "python3"
  },
  "language_info": {
   "codemirror_mode": {
    "name": "ipython",
    "version": 3
   },
   "file_extension": ".py",
   "mimetype": "text/x-python",
   "name": "python",
   "nbconvert_exporter": "python",
   "pygments_lexer": "ipython3",
   "version": "3.6.2"
  }
 },
 "nbformat": 4,
 "nbformat_minor": 2
}
