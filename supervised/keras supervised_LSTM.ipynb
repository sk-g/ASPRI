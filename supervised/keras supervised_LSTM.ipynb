{
 "cells": [
  {
   "cell_type": "code",
   "execution_count": 1,
   "metadata": {},
   "outputs": [
    {
     "name": "stderr",
     "output_type": "stream",
     "text": [
      "c:\\program files\\python36\\lib\\site-packages\\h5py\\__init__.py:36: FutureWarning: Conversion of the second argument of issubdtype from `float` to `np.floating` is deprecated. In future, it will be treated as `np.float64 == np.dtype(float).type`.\n",
      "  from ._conv import register_converters as _register_converters\n",
      "Using TensorFlow backend.\n"
     ]
    }
   ],
   "source": [
    "from __future__ import print_function\n",
    "import os,re,time,sys,os,math,random,time,pickle\n",
    "os.environ['TF_CPP_MIN_LOG_LEVEL'] = '3'\n",
    "import tensorflow as tf\n",
    "from tensorflow.contrib import rnn\n",
    "import numpy as np\n",
    "import pandas as pd\n",
    "from keras import backend as K\n",
    "from keras.preprocessing.text import one_hot\n",
    "from keras.preprocessing.sequence import pad_sequences\n",
    "from keras.models import Sequential\n",
    "from keras.layers import LSTM,Flatten,Dense,Embedding\n",
    "from keras.layers.embeddings import Embedding\n",
    "from keras.preprocessing import sequence\n",
    "import matplotlib.pyplot as plt\n",
    "import seaborn as sns\n",
    "%matplotlib inline\n",
    "from sklearn.model_selection import train_test_split as split"
   ]
  },
  {
   "cell_type": "code",
   "execution_count": 2,
   "metadata": {},
   "outputs": [],
   "source": [
    "f = open(r'M:\\Course stuff\\ASPRI\\data\\PCH\\paths\\11012018.txt','r')\n",
    "lines = f.readlines()\n",
    "lines = [i.strip() for i in lines]"
   ]
  },
  {
   "cell_type": "code",
   "execution_count": 3,
   "metadata": {},
   "outputs": [
    {
     "name": "stdout",
     "output_type": "stream",
     "text": [
      "<class 'numpy.ndarray'> <class 'dict'> <class 'dict'> <class 'list'>\n"
     ]
    }
   ],
   "source": [
    "final_embeddings = pickle.load(open(r'M:\\Course stuff\\ASPRI\\supervised\\loal_FE','rb'))\n",
    "dictionary = pickle.load(open(r'M:\\Course stuff\\ASPRI\\supervised\\dictionary','rb'))\n",
    "reverse_dictionary = pickle.load(open(r'M:\\Course stuff\\ASPRI\\supervised\\reverse_dictionary','rb'))\n",
    "count = pickle.load(open(r'M:\\Course stuff\\ASPRI\\supervised\\count','rb'))\n",
    "print(type(final_embeddings),type(dictionary),type(reverse_dictionary),type(count))"
   ]
  },
  {
   "cell_type": "code",
   "execution_count": 4,
   "metadata": {},
   "outputs": [],
   "source": [
    "nd_array = []\n",
    "for i in range(30):\n",
    "    nd_array.append(np.zeros(shape = (32,1)))"
   ]
  },
  {
   "cell_type": "code",
   "execution_count": 5,
   "metadata": {},
   "outputs": [
    {
     "data": {
      "text/plain": [
       "30"
      ]
     },
     "execution_count": 5,
     "metadata": {},
     "output_type": "execute_result"
    }
   ],
   "source": [
    "len(nd_array)"
   ]
  },
  {
   "cell_type": "code",
   "execution_count": 6,
   "metadata": {},
   "outputs": [],
   "source": [
    "new_array = []\n",
    "for i in range(len(lines)):\n",
    "    new_array.append(nd_array)\n",
    "new_array = np.asarray(new_array)"
   ]
  },
  {
   "cell_type": "code",
   "execution_count": 7,
   "metadata": {},
   "outputs": [],
   "source": [
    "for i in range(len(lines)):\n",
    "    splits = lines[i].split(' ')\n",
    "    for j in range(len(splits)):\n",
    "        #print(new_array[i][j])\n",
    "        new_array[i,j] = final_embeddings[dictionary[str(splits[j])]-1].reshape(32,1)"
   ]
  },
  {
   "cell_type": "code",
   "execution_count": 8,
   "metadata": {},
   "outputs": [
    {
     "data": {
      "text/plain": [
       "(32, 1)"
      ]
     },
     "execution_count": 8,
     "metadata": {},
     "output_type": "execute_result"
    }
   ],
   "source": [
    "new_array[0][0].shape"
   ]
  },
  {
   "cell_type": "code",
   "execution_count": 10,
   "metadata": {},
   "outputs": [
    {
     "data": {
      "text/html": [
       "<div>\n",
       "<style>\n",
       "    .dataframe thead tr:only-child th {\n",
       "        text-align: right;\n",
       "    }\n",
       "\n",
       "    .dataframe thead th {\n",
       "        text-align: left;\n",
       "    }\n",
       "\n",
       "    .dataframe tbody tr th {\n",
       "        vertical-align: top;\n",
       "    }\n",
       "</style>\n",
       "<table border=\"1\" class=\"dataframe\">\n",
       "  <thead>\n",
       "    <tr style=\"text-align: right;\">\n",
       "      <th></th>\n",
       "      <th>Paths</th>\n",
       "      <th>Fake</th>\n",
       "    </tr>\n",
       "  </thead>\n",
       "  <tbody>\n",
       "    <tr>\n",
       "      <th>0</th>\n",
       "      <td>6939 4826 38803 56203</td>\n",
       "      <td>0.0</td>\n",
       "    </tr>\n",
       "    <tr>\n",
       "      <th>1</th>\n",
       "      <td>6939 4826 38803 56203</td>\n",
       "      <td>0.0</td>\n",
       "    </tr>\n",
       "    <tr>\n",
       "      <th>2</th>\n",
       "      <td>6939 4826 38803 56203</td>\n",
       "      <td>0.0</td>\n",
       "    </tr>\n",
       "    <tr>\n",
       "      <th>3</th>\n",
       "      <td>6939 4826 38803 56203</td>\n",
       "      <td>0.0</td>\n",
       "    </tr>\n",
       "    <tr>\n",
       "      <th>4</th>\n",
       "      <td>6939 4826 38803 56203</td>\n",
       "      <td>0.0</td>\n",
       "    </tr>\n",
       "  </tbody>\n",
       "</table>\n",
       "</div>"
      ],
      "text/plain": [
       "                   Paths  Fake\n",
       "0  6939 4826 38803 56203   0.0\n",
       "1  6939 4826 38803 56203   0.0\n",
       "2  6939 4826 38803 56203   0.0\n",
       "3  6939 4826 38803 56203   0.0\n",
       "4  6939 4826 38803 56203   0.0"
      ]
     },
     "execution_count": 10,
     "metadata": {},
     "output_type": "execute_result"
    }
   ],
   "source": [
    "if os.name != 'posix':\n",
    "    paths = pd.read_csv(r'M:\\Course stuff\\ASPRI\\supervised\\11012018.csv',sep='\\t',low_memory = False,index_col = False)\n",
    "else:\n",
    "    paths = pd.read_csv('11012018.csv',sep='\\t',low_memory = False,index_col = False)\n",
    "    del paths['Unnamed: 0']\n",
    "paths.head()"
   ]
  },
  {
   "cell_type": "code",
   "execution_count": 11,
   "metadata": {},
   "outputs": [],
   "source": [
    "train,test = split(paths,test_size = 0.3)"
   ]
  },
  {
   "cell_type": "code",
   "execution_count": 12,
   "metadata": {},
   "outputs": [
    {
     "data": {
      "text/plain": [
       "<matplotlib.axes._subplots.AxesSubplot at 0x229781f61d0>"
      ]
     },
     "execution_count": 12,
     "metadata": {},
     "output_type": "execute_result"
    },
    {
     "data": {
      "image/png": "[encoded data removed]",
      "text/plain": [
       "<matplotlib.figure.Figure at 0x229784ad048>"
      ]
     },
     "metadata": {},
     "output_type": "display_data"
    }
   ],
   "source": [
    "sns.countplot(x = 'Fake',data = train)"
   ]
  },
  {
   "cell_type": "code",
   "execution_count": 13,
   "metadata": {},
   "outputs": [
    {
     "data": {
      "text/plain": [
       "0.0    172272\n",
       "1.0     46684\n",
       "Name: Fake, dtype: int64"
      ]
     },
     "execution_count": 13,
     "metadata": {},
     "output_type": "execute_result"
    }
   ],
   "source": [
    "train.Fake.value_counts()"
   ]
  },
  {
   "cell_type": "code",
   "execution_count": 14,
   "metadata": {},
   "outputs": [
    {
     "data": {
      "text/plain": [
       "0.0    74058\n",
       "1.0    19781\n",
       "Name: Fake, dtype: int64"
      ]
     },
     "execution_count": 14,
     "metadata": {},
     "output_type": "execute_result"
    }
   ],
   "source": [
    "test.Fake.value_counts()"
   ]
  },
  {
   "cell_type": "code",
   "execution_count": 15,
   "metadata": {},
   "outputs": [],
   "source": [
    "max_length = 30\n",
    "vocab_size = 24612 #unique tokens for this file\n",
    "#encoded_train = [one_hot(d,vocab_size) for d in train['Paths']]\n",
    "#encoded_test = [one_hot(d,vocab_size) for d in test['Paths']]"
   ]
  },
  {
   "cell_type": "code",
   "execution_count": 16,
   "metadata": {},
   "outputs": [],
   "source": [
    "def encode_lines(arr):\n",
    "    # function works on df\n",
    "    # iterate over lines in df\n",
    "    # iterate over splits of line\n",
    "    # convert split word to embedding vector (32,1)\n",
    "    # pad with (32,1) zeros\n",
    "    \n",
    "    \n",
    "    new_array = []\n",
    "    for i in range(len(arr)):\n",
    "        new_array.append(nd_array)\n",
    "    new_array = np.asarray(new_array)\n",
    "    c = 0\n",
    "    for i in arr['Paths']:\n",
    "        splits = i.split(' ')\n",
    "        for j in range(len(splits)):\n",
    "            #print(new_array[i][j])\n",
    "            new_array[c,j] = final_embeddings[dictionary[str(splits[j])]-1].reshape(32,1)\n",
    "        c += 1\n",
    "    assert(len(new_array) == len(arr))\n",
    "    assert(len(new_array[0]) == 30)\n",
    "    return new_array\n",
    "encoded_train = encode_lines(train)"
   ]
  },
  {
   "cell_type": "code",
   "execution_count": 17,
   "metadata": {},
   "outputs": [
    {
     "data": {
      "text/plain": [
       "218956"
      ]
     },
     "execution_count": 17,
     "metadata": {},
     "output_type": "execute_result"
    }
   ],
   "source": [
    "len(encoded_train)"
   ]
  },
  {
   "cell_type": "code",
   "execution_count": 18,
   "metadata": {},
   "outputs": [],
   "source": [
    "encoded_test = encode_lines(test)"
   ]
  },
  {
   "cell_type": "code",
   "execution_count": 19,
   "metadata": {},
   "outputs": [],
   "source": [
    "train_lengths = [len(t) for t in encoded_train] #array of lengths so we can pad zeros later\n",
    "test_lengths= [len(t) for t in encoded_test] #array of lengths for test set to be padded later"
   ]
  },
  {
   "cell_type": "code",
   "execution_count": 32,
   "metadata": {},
   "outputs": [],
   "source": [
    "y_test,y_train = test['Fake'],train['Fake']"
   ]
  },
  {
   "cell_type": "code",
   "execution_count": 33,
   "metadata": {},
   "outputs": [],
   "source": [
    "x_train = encode_lines(train)#['Paths'])\n",
    "x_test = encode_lines(test)#['Paths'])"
   ]
  },
  {
   "cell_type": "code",
   "execution_count": 37,
   "metadata": {},
   "outputs": [],
   "source": [
    "max_length = 30\n",
    "vocab_size = 24612 #unique tokens for this file\n",
    "encoded_train = [one_hot(d,vocab_size) for d in train['Paths']]\n",
    "encoded_test = [one_hot(d,vocab_size) for d in test['Paths']]\n",
    "train_lengths = [len(t) for t in encoded_train] #array of lengths so we can pad zeros later\n",
    "test_lengths= [len(t) for t in encoded_test] #array of lengths for test set to be padded later"
   ]
  },
  {
   "cell_type": "code",
   "execution_count": 38,
   "metadata": {},
   "outputs": [],
   "source": [
    "labels_train = train['Fake']\n",
    "train_dic={}\n",
    "train_dic[\"data\"] = encoded_train\n",
    "train_dic[\"labels\"] = labels_train#labels_train[0].ravel().tolist()\n",
    "train_dic[\"length\"] = train_lengths\n",
    "train_len = len(train)\n",
    "test_len = len(test)\n",
    "\n",
    "train_ = pd.DataFrame.from_dict(data=train_dic, orient='columns', dtype=None)\n",
    "\n",
    "\n",
    "\n",
    "test_dic={}\n",
    "test_dic[\"data\"] = encoded_test\n",
    "test_dic[\"length\"] = test_lengths\n",
    "test_dic[\"labels\"] = test['Fake']\n",
    "test_ = pd.DataFrame.from_dict(data=test_dic, orient='columns', dtype=None)\n",
    "\n",
    "test_input = test.values"
   ]
  },
  {
   "cell_type": "code",
   "execution_count": 41,
   "metadata": {},
   "outputs": [],
   "source": [
    "x_train, x_test = train_[\"data\"],test_[\"data\"]\n",
    "y_train,y_test = train['Fake'],test['Fake']"
   ]
  },
  {
   "cell_type": "code",
   "execution_count": 42,
   "metadata": {},
   "outputs": [
    {
     "name": "stdout",
     "output_type": "stream",
     "text": [
      "218956 train sequences\n",
      "93839 test sequences\n",
      "Pad sequences (samples x time)\n",
      "x_train shape: (218956, 30)\n",
      "x_test shape: (93839, 30)\n"
     ]
    }
   ],
   "source": [
    "max_features = vocab_size\n",
    "maxlen = 30  # cut texts after this number of words (among top max_features most common words)\n",
    "batch_size = 256\n",
    "#x_train,\n",
    "#print('Loading data...')\n",
    "#(x_train, y_train), (x_test, y_test) = imdb.load_data(num_words=max_features)\n",
    "print(len(x_train), 'train sequences')\n",
    "print(len(x_test), 'test sequences')\n",
    "\n",
    "print('Pad sequences (samples x time)')\n",
    "x_train = sequence.pad_sequences(x_train, maxlen=maxlen)\n",
    "x_test = sequence.pad_sequences(x_test, maxlen=maxlen)\n",
    "print('x_train shape:', x_train.shape)\n",
    "print('x_test shape:', x_test.shape)"
   ]
  },
  {
   "cell_type": "code",
   "execution_count": 44,
   "metadata": {},
   "outputs": [
    {
     "name": "stdout",
     "output_type": "stream",
     "text": [
      "Train...\n",
      "Train on 218956 samples, validate on 93839 samples\n",
      "Epoch 1/15\n",
      "218956/218956 [==============================] - 170s - loss: 0.3057 - acc: 0.8861 - val_loss: 0.2108 - val_acc: 0.9328\n",
      "Epoch 2/15\n",
      "218956/218956 [==============================] - 166s - loss: 0.1898 - acc: 0.9409 - val_loss: 0.1934 - val_acc: 0.9399\n",
      "Epoch 3/15\n",
      "218956/218956 [==============================] - 166s - loss: 0.1718 - acc: 0.9465 - val_loss: 0.1912 - val_acc: 0.9421\n",
      "Epoch 4/15\n",
      "218956/218956 [==============================] - 166s - loss: 0.1630 - acc: 0.9488 - val_loss: 0.1931 - val_acc: 0.9428\n",
      "Epoch 5/15\n",
      "218956/218956 [==============================] - 166s - loss: 0.1568 - acc: 0.9504 - val_loss: 0.1945 - val_acc: 0.9437\n",
      "Epoch 6/15\n",
      "218956/218956 [==============================] - 167s - loss: 0.1524 - acc: 0.9519 - val_loss: 0.1943 - val_acc: 0.9450\n",
      "Epoch 7/15\n",
      "218956/218956 [==============================] - 167s - loss: 0.1489 - acc: 0.9524 - val_loss: 0.1986 - val_acc: 0.9451\n",
      "Epoch 8/15\n",
      "218956/218956 [==============================] - 167s - loss: 0.1481 - acc: 0.9527 - val_loss: 0.1976 - val_acc: 0.9448\n",
      "Epoch 9/15\n",
      "218956/218956 [==============================] - 167s - loss: 0.1459 - acc: 0.9533 - val_loss: 0.1998 - val_acc: 0.9463\n",
      "Epoch 10/15\n",
      "218956/218956 [==============================] - 167s - loss: 0.1437 - acc: 0.9540 - val_loss: 0.1998 - val_acc: 0.9469\n",
      "Epoch 11/15\n",
      "218956/218956 [==============================] - 167s - loss: 0.1449 - acc: 0.9531 - val_loss: 0.2238 - val_acc: 0.9323\n",
      "Epoch 12/15\n",
      "218956/218956 [==============================] - 166s - loss: 0.1525 - acc: 0.9512 - val_loss: 0.2012 - val_acc: 0.9461\n",
      "Epoch 13/15\n",
      "218956/218956 [==============================] - 167s - loss: 0.1436 - acc: 0.9539 - val_loss: 0.2039 - val_acc: 0.9466\n",
      "Epoch 14/15\n",
      "218956/218956 [==============================] - 167s - loss: 0.1419 - acc: 0.9544 - val_loss: 0.2068 - val_acc: 0.9465\n",
      "Epoch 15/15\n",
      "218956/218956 [==============================] - 166s - loss: 0.1406 - acc: 0.9549 - val_loss: 0.2074 - val_acc: 0.9466\n",
      "93696/93839 [============================>.] - ETA: 0sTest score: 0.20741988153120183\n",
      "Test accuracy: 0.9466426539021426\n"
     ]
    }
   ],
   "source": [
    "print('Build model...')\n",
    "model = Sequential()\n",
    "model.add(Embedding(max_features, 128))\n",
    "model.add(LSTM(128, dropout=0.2, recurrent_dropout=0.2))\n",
    "model.add(Dense(1, activation='sigmoid'))\n",
    "# try using different optimizers and different optimizer configs\n",
    "model.compile(loss='binary_crossentropy',\n",
    "              optimizer='adam',\n",
    "              metrics=['accuracy'])\n",
    "\n",
    "print('Train...')\n",
    "model.fit(x_train, y_train,\n",
    "          batch_size=batch_size,\n",
    "          epochs=15,\n",
    "          validation_data=(x_test, y_test))\n",
    "score, acc = model.evaluate(x_test, y_test,\n",
    "                            batch_size=batch_size)\n",
    "print('Test score:', score)\n",
    "print('Test accuracy:', acc)"
   ]
  },
  {
   "cell_type": "code",
   "execution_count": 45,
   "metadata": {},
   "outputs": [
    {
     "name": "stdout",
     "output_type": "stream",
     "text": [
      "Build model...\n",
      "Train...\n",
      "Train on 218956 samples, validate on 93839 samples\n",
      "Epoch 1/15\n",
      "218956/218956 [==============================] - 170s - loss: 0.4385 - acc: 0.8327 - val_loss: 0.5994 - val_acc: 0.7122\n",
      "Epoch 2/15\n",
      "218956/218956 [==============================] - 169s - loss: 0.3407 - acc: 0.8926 - val_loss: 0.3034 - val_acc: 0.9115\n",
      "Epoch 3/15\n",
      "218956/218956 [==============================] - 167s - loss: 0.2861 - acc: 0.9166 - val_loss: 0.2733 - val_acc: 0.9210\n",
      "Epoch 4/15\n",
      "218956/218956 [==============================] - 168s - loss: 0.2410 - acc: 0.9295 - val_loss: 0.2784 - val_acc: 0.9243\n",
      "Epoch 5/15\n",
      "218956/218956 [==============================] - 168s - loss: 0.2229 - acc: 0.9339 - val_loss: 0.2829 - val_acc: 0.9278\n",
      "Epoch 6/15\n",
      "218956/218956 [==============================] - 167s - loss: 0.2294 - acc: 0.9317 - val_loss: 0.2601 - val_acc: 0.9277\n",
      "Epoch 7/15\n",
      "218956/218956 [==============================] - 167s - loss: 0.2176 - acc: 0.9360 - val_loss: 0.2841 - val_acc: 0.9258\n",
      "Epoch 8/15\n",
      "218956/218956 [==============================] - 171s - loss: 0.2054 - acc: 0.9375 - val_loss: 0.2988 - val_acc: 0.9307\n",
      "Epoch 9/15\n",
      "218956/218956 [==============================] - 169s - loss: 0.1966 - acc: 0.9390 - val_loss: 0.2966 - val_acc: 0.9286\n",
      "Epoch 10/15\n",
      "218956/218956 [==============================] - 168s - loss: 0.1928 - acc: 0.9397 - val_loss: 0.3001 - val_acc: 0.9302\n",
      "Epoch 11/15\n",
      "218956/218956 [==============================] - 168s - loss: 0.1930 - acc: 0.9395 - val_loss: 0.3045 - val_acc: 0.9257\n",
      "Epoch 12/15\n",
      "218956/218956 [==============================] - 168s - loss: 0.1874 - acc: 0.9374 - val_loss: 0.3020 - val_acc: 0.9250\n",
      "Epoch 13/15\n",
      "218956/218956 [==============================] - 168s - loss: 0.1865 - acc: 0.9368 - val_loss: 0.2613 - val_acc: 0.9306\n",
      "Epoch 14/15\n",
      "218956/218956 [==============================] - 174s - loss: 0.1922 - acc: 0.9332 - val_loss: 0.2943 - val_acc: 0.9286\n",
      "Epoch 15/15\n",
      "218956/218956 [==============================] - 168s - loss: 0.1831 - acc: 0.9345 - val_loss: 0.3040 - val_acc: 0.9279\n",
      "93696/93839 [============================>.] - ETA: 0sTest score: 0.3040339263687087\n",
      "Test accuracy: 0.9278871257774238\n"
     ]
    }
   ],
   "source": [
    "print('Build model...')\n",
    "model = Sequential()\n",
    "model.add(Embedding(max_features, 128))\n",
    "model.add(LSTM(128, dropout=0.2, recurrent_dropout=0.2))\n",
    "model.add(Dense(1, activation='tanh'))\n",
    "# try using different optimizers and different optimizer configs\n",
    "model.compile(loss='binary_crossentropy',\n",
    "              optimizer='adam',\n",
    "              metrics=['accuracy'])\n",
    "\n",
    "print('Train...')\n",
    "model.fit(x_train, y_train,\n",
    "          batch_size=batch_size,\n",
    "          epochs=15,\n",
    "          validation_data=(x_test, y_test))\n",
    "score, acc = model.evaluate(x_test, y_test,\n",
    "                            batch_size=batch_size)\n",
    "print('Test score:', score)\n",
    "print('Test accuracy:', acc)"
   ]
  },
  {
   "cell_type": "code",
   "execution_count": null,
   "metadata": {},
   "outputs": [],
   "source": [
    "print('Build model...')\n",
    "model = Sequential()\n",
    "model.add(Embedding(max_features, 128))\n",
    "model.add(LSTM(128, dropout=0.2, recurrent_dropout=0.2))\n",
    "model.add(Dense(1, activation='relu'))\n",
    "# try using different optimizers and different optimizer configs\n",
    "model.compile(loss='binary_crossentropy',\n",
    "              optimizer='adam',\n",
    "              metrics=['accuracy'])\n",
    "\n",
    "print('Train...')\n",
    "model.fit(x_train, y_train,\n",
    "          batch_size=batch_size,\n",
    "          epochs=15,\n",
    "          validation_data=(x_test, y_test))\n",
    "score, acc = model.evaluate(x_test, y_test,\n",
    "                            batch_size=batch_size)\n",
    "print('Test score:', score)\n",
    "print('Test accuracy:', acc)"
   ]
  },
  {
   "cell_type": "code",
   "execution_count": null,
   "metadata": {},
   "outputs": [],
   "source": [
    "print('Build model...')\n",
    "model = Sequential()\n",
    "model.add(Embedding(max_features, 128))\n",
    "model.add(LSTM(128, dropout=0.2, recurrent_dropout=0.2))\n",
    "model.add(Dense(1, activation='elu'))\n",
    "# try using different optimizers and different optimizer configs\n",
    "model.compile(loss='binary_crossentropy',\n",
    "              optimizer='adam',\n",
    "              metrics=['accuracy'])\n",
    "\n",
    "print('Train...')\n",
    "model.fit(x_train, y_train,\n",
    "          batch_size=batch_size,\n",
    "          epochs=15,\n",
    "          validation_data=(x_test, y_test))\n",
    "score, acc = model.evaluate(x_test, y_test,\n",
    "                            batch_size=batch_size)\n",
    "print('Test score:', score)\n",
    "print('Test accuracy:', acc)"
   ]
  },
  {
   "cell_type": "code",
   "execution_count": null,
   "metadata": {},
   "outputs": [],
   "source": []
  }
 ],
 "metadata": {
  "kernelspec": {
   "display_name": "Python 3",
   "language": "python",
   "name": "python3"
  },
  "language_info": {
   "codemirror_mode": {
    "name": "ipython",
    "version": 3
   },
   "file_extension": ".py",
   "mimetype": "text/x-python",
   "name": "python",
   "nbconvert_exporter": "python",
   "pygments_lexer": "ipython3",
   "version": "3.6.2"
  }
 },
 "nbformat": 4,
 "nbformat_minor": 2
}
