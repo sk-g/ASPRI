{
 "cells": [
  {
   "cell_type": "markdown",
   "metadata": {},
   "source": [
    "### Sentence to Vector\n",
    "Currently we have the data preprocessed as follows:\n",
    "\n",
    "\n",
    "|  Valid  |  Prefix  | Next Hop  | Path  | Protocol  | Anomaly  |\n",
    "|---|---|---|---|---|\n",
    "| binary  |string   |  string | string  | binary(string)  | binary\n",
    "\n",
    "\n",
    "\n",
    "### Needed soon\n",
    "Need to form sentences first in pure form : prefix, next hop, path.\n",
    "Create a seperate table/data frame in this format:\n",
    "\n",
    "\n",
    "|  Valid  |  sentence  | Anomaly  |\n",
    "|---|---|---|---|---|\n",
    "| binary  |  string    | binary   |\n",
    "\n"
   ]
  },
  {
   "cell_type": "code",
   "execution_count": null,
   "metadata": {
    "collapsed": true
   },
   "outputs": [],
   "source": []
  }
 ],
 "metadata": {
  "kernelspec": {
   "display_name": "Python 3",
   "language": "python",
   "name": "python3"
  },
  "language_info": {
   "codemirror_mode": {
    "name": "ipython",
    "version": 3
   },
   "file_extension": ".py",
   "mimetype": "text/x-python",
   "name": "python",
   "nbconvert_exporter": "python",
   "pygments_lexer": "ipython3",
   "version": "3.6.0"
  }
 },
 "nbformat": 4,
 "nbformat_minor": 2
}
