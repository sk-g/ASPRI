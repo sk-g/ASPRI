{
 "cells": [
  {
   "cell_type": "markdown",
   "metadata": {},
   "source": [
    "### Sentence to Vector\n",
    "Currently we have the data preprocessed as follows:\n",
    "\n",
    "\n",
    "|  Valid  |  Prefix  | Next Hop  | Path  | Protocol  | Anomaly  |\n",
    "|---|---|---|---|---|\n",
    "| binary  |string   |  string | string  | binary(string)  | binary\n",
    "\n",
    "\n",
    "\n",
    "### Needed soon\n",
    "Need to form sentences first in pure form : prefix, next hop, path.\n",
    "Create a seperate table/data frame in this format:\n",
    "\n",
    "\n",
    "|  Valid  |  sentence  | Anomaly  |\n",
    "|---|---|---|---|---|\n",
    "| binary  |  string    | binary   |\n",
    "\n"
   ]
  },
  {
   "cell_type": "code",
   "execution_count": 1,
   "metadata": {},
   "outputs": [
    {
     "name": "stderr",
     "output_type": "stream",
     "text": [
      "c:\\program files\\python36\\lib\\site-packages\\h5py\\__init__.py:36: FutureWarning: Conversion of the second argument of issubdtype from `float` to `np.floating` is deprecated. In future, it will be treated as `np.float64 == np.dtype(float).type`.\n",
      "  from ._conv import register_converters as _register_converters\n"
     ]
    }
   ],
   "source": [
    "from __future__ import absolute_import\n",
    "from __future__ import division\n",
    "from __future__ import print_function\n",
    "\n",
    "import collections\n",
    "import math\n",
    "import os\n",
    "import random\n",
    "from tempfile import gettempdir\n",
    "import zipfile\n",
    "\n",
    "import numpy as np\n",
    "from six.moves import urllib\n",
    "from six.moves import xrange  # pylint: disable=redefined-builtin\n",
    "import tensorflow as tf\n",
    "os.environ['TF_CPP_MIN_LOG_LEVEL'] = '3'\n",
    "# Step 1: Download the data.\n",
    "os.chdir(r'M:\\Course stuff\\ASPRI\\data\\PCH\\paths')"
   ]
  },
  {
   "cell_type": "code",
   "execution_count": 2,
   "metadata": {},
   "outputs": [
    {
     "data": {
      "text/plain": [
       "['11012018.txt',\n",
       " '11012018.txt_f.txt',\n",
       " '11012018_f.txt',\n",
       " '24012018.txt',\n",
       " '24012018.txt_f.txt',\n",
       " '24012018_f.txt',\n",
       " 'ReadMe',\n",
       " 'route-collector.vie.pch.net-ipv4_bgp_routes.2018.01.11.txt',\n",
       " 'route-collector.vie.pch.net-ipv4_bgp_routes.2018.01.24.txt',\n",
       " 'table_to_paths.py']"
      ]
     },
     "execution_count": 2,
     "metadata": {},
     "output_type": "execute_result"
    }
   ],
   "source": [
    "os.listdir()"
   ]
  },
  {
   "cell_type": "code",
   "execution_count": 3,
   "metadata": {},
   "outputs": [],
   "source": [
    "import pandas as pd\n",
    "import numpy as np"
   ]
  },
  {
   "cell_type": "code",
   "execution_count": 4,
   "metadata": {},
   "outputs": [],
   "source": [
    "f = open('11012018.txt')\n",
    "vocabulary = f.readlines()\n",
    "vocabulary = [i.strip() for i in vocabulary]"
   ]
  },
  {
   "cell_type": "code",
   "execution_count": 5,
   "metadata": {},
   "outputs": [
    {
     "data": {
      "text/plain": [
       "(24616, 926786)"
      ]
     },
     "execution_count": 5,
     "metadata": {},
     "output_type": "execute_result"
    }
   ],
   "source": [
    "tokens = []\n",
    "for i in range(len(vocabulary)):\n",
    "    splits = vocabulary[i].split(' ')\n",
    "    for j in range(len(splits)):\n",
    "        tokens.append(splits[j])\n",
    "unique_tokens = set(tokens)\n",
    "vocabulary_size = len(unique_tokens)\n",
    "len(unique_tokens),len(tokens) # unique ASes, total ASes in all paths"
   ]
  },
  {
   "cell_type": "code",
   "execution_count": 6,
   "metadata": {},
   "outputs": [
    {
     "data": {
      "text/plain": [
       "(246330, 36868)"
      ]
     },
     "execution_count": 6,
     "metadata": {},
     "output_type": "execute_result"
    }
   ],
   "source": [
    "len(vocabulary),len(list(set(vocabulary))) # total paths, unique paths"
   ]
  },
  {
   "cell_type": "code",
   "execution_count": 7,
   "metadata": {},
   "outputs": [],
   "source": [
    "def build_dataset(words, n_words):\n",
    "    \"\"\"Process raw inputs into a dataset.\"\"\"\n",
    "    count = [['UNK', -1]]\n",
    "    #count = [[]]\n",
    "    count.extend(collections.Counter(words).most_common(n_words - 1))\n",
    "    dictionary = dict()\n",
    "    #print(count)\n",
    "    for word, _ in count:\n",
    "        dictionary[word] = len(dictionary)\n",
    "    data = list()\n",
    "    unk_count = 0\n",
    "    for word in words:\n",
    "        index = dictionary.get(word, 0)\n",
    "        #print(word,index)\n",
    "        if index == 0:  # dictionary['UNK']\n",
    "            unk_count += 1\n",
    "        data.append(index)\n",
    "    count[0][1] = unk_count\n",
    "    reversed_dictionary = dict(zip(dictionary.values(), dictionary.keys()))\n",
    "    return data, count, dictionary, reversed_dictionary"
   ]
  },
  {
   "cell_type": "code",
   "execution_count": 8,
   "metadata": {},
   "outputs": [
    {
     "name": "stdout",
     "output_type": "stream",
     "text": [
      "Most common words (+UNK) [['UNK', 0], ('6939', 107961), ('9002', 28904), ('6830', 21032), ('7545', 14248)]\n",
      "Least common words (+UNK) [('38822', 1), ('56206', 1), ('9635', 1), ('55382', 1), ('132281', 1)]\n",
      "Sample data [1, 21, 1760, 6024, 1, 21, 1760, 6024, 1, 21] ['6939', '4826', '38803', '56203', '6939', '4826', '38803', '56203', '6939', '4826']\n"
     ]
    }
   ],
   "source": [
    "# Filling 4 global variables:\n",
    "# data - list of codes (integers from 0 to vocabulary_size-1).\n",
    "#   This is the original text but words are replaced by their codes\n",
    "# count - map of words(strings) to count of occurrences\n",
    "# dictionary - map of words(strings) to their codes(integers)\n",
    "# reverse_dictionary - maps codes(integers) to words(strings)\n",
    "data, count, dictionary, reverse_dictionary = build_dataset(tokens,len(tokens))#vocabulary,vocabulary_size)\n",
    "#del vocabulary  # Hint to reduce memory.\n",
    "print('Most common words (+UNK)', count[:5])\n",
    "print('Least common words (+UNK)',count[-5:])\n",
    "print('Sample data', data[:10], [reverse_dictionary[i] for i in data[:10]])"
   ]
  },
  {
   "cell_type": "code",
   "execution_count": 9,
   "metadata": {},
   "outputs": [
    {
     "data": {
      "text/plain": [
       "926786"
      ]
     },
     "execution_count": 9,
     "metadata": {},
     "output_type": "execute_result"
    }
   ],
   "source": [
    "len(data) #same as total ASes in paths"
   ]
  },
  {
   "cell_type": "code",
   "execution_count": 10,
   "metadata": {},
   "outputs": [
    {
     "data": {
      "text/plain": [
       "24617"
      ]
     },
     "execution_count": 10,
     "metadata": {},
     "output_type": "execute_result"
    }
   ],
   "source": [
    "len(count) #unique +1 for UNK"
   ]
  },
  {
   "cell_type": "code",
   "execution_count": 11,
   "metadata": {},
   "outputs": [
    {
     "data": {
      "text/plain": [
       "(24617, 24617)"
      ]
     },
     "execution_count": 11,
     "metadata": {},
     "output_type": "execute_result"
    }
   ],
   "source": [
    "len(dictionary), len(reverse_dictionary) #same size, maps every AS to uniue id == len(count)"
   ]
  },
  {
   "cell_type": "code",
   "execution_count": 12,
   "metadata": {},
   "outputs": [],
   "source": [
    "data_index = 0\n",
    "\n",
    "# Step 3: Function to generate a training batch for the skip-gram model.\n",
    "def generate_batch(batch_size, num_skips, skip_window):\n",
    "    global data_index\n",
    "    assert batch_size % num_skips == 0\n",
    "    assert num_skips <= 2 * skip_window\n",
    "    batch = np.ndarray(shape=(batch_size), dtype=np.int32)\n",
    "    labels = np.ndarray(shape=(batch_size, 1), dtype=np.int32)\n",
    "    span = 2 * skip_window + 1  # [ skip_window target skip_window ]\n",
    "    buffer = collections.deque(maxlen=span)\n",
    "    if data_index + span > len(data):\n",
    "        data_index = 0\n",
    "    buffer.extend(data[data_index:data_index + span])\n",
    "    data_index += span\n",
    "    for i in range(batch_size // num_skips):\n",
    "        context_words = [w for w in range(span) if w != skip_window]\n",
    "        words_to_use = random.sample(context_words, num_skips)\n",
    "        for j, context_word in enumerate(words_to_use):\n",
    "            batch[i * num_skips + j] = buffer[skip_window]\n",
    "            labels[i * num_skips + j, 0] = buffer[context_word]\n",
    "        if data_index == len(data):\n",
    "            #buffer[:] = data[:span]\n",
    "            for word in data[:span]:\n",
    "                buffer.append(word)\n",
    "            data_index = span\n",
    "        else:\n",
    "            buffer.append(data[data_index])\n",
    "            data_index += 1\n",
    "    # Backtrack a little bit to avoid skipping words in the end of a batch\n",
    "    data_index = (data_index + len(data) - span) % len(data)\n",
    "    return batch, labels"
   ]
  },
  {
   "cell_type": "code",
   "execution_count": 13,
   "metadata": {},
   "outputs": [
    {
     "name": "stdout",
     "output_type": "stream",
     "text": [
      "1760 38803 -> 1 6939\n",
      "1760 38803 -> 1 6939\n",
      "6024 56203 -> 1 6939\n",
      "6024 56203 -> 21 4826\n",
      "1 6939 -> 1760 38803\n",
      "1 6939 -> 21 4826\n",
      "21 4826 -> 1 6939\n",
      "21 4826 -> 1760 38803\n",
      "1760 38803 -> 21 4826\n",
      "1760 38803 -> 1 6939\n",
      "6024 56203 -> 21 4826\n",
      "6024 56203 -> 21 4826\n",
      "1 6939 -> 1760 38803\n",
      "1 6939 -> 1760 38803\n",
      "21 4826 -> 6024 56203\n",
      "21 4826 -> 1 6939\n"
     ]
    }
   ],
   "source": [
    "batch, labels = generate_batch(batch_size=16, num_skips=2, skip_window=2)\n",
    "for i in range(16):\n",
    "    print(batch[i], reverse_dictionary[batch[i]],\n",
    "                '->', labels[i, 0], reverse_dictionary[labels[i, 0]])"
   ]
  },
  {
   "cell_type": "code",
   "execution_count": 14,
   "metadata": {},
   "outputs": [
    {
     "data": {
      "text/plain": [
       "'10026'"
      ]
     },
     "execution_count": 14,
     "metadata": {},
     "output_type": "execute_result"
    }
   ],
   "source": [
    "reverse_dictionary[29]"
   ]
  },
  {
   "cell_type": "code",
   "execution_count": 15,
   "metadata": {},
   "outputs": [],
   "source": [
    "# Step 4: Build and train a skip-gram model.\n",
    "\n",
    "batch_size = 256\n",
    "embedding_size = 32  # Dimension of the embedding vector.\n",
    "skip_window = 2       # How many words to consider left and right.\n",
    "num_skips = 2         # How many times to reuse an input to generate a label.\n",
    "num_sampled = 64      # Number of negative examples to sample."
   ]
  },
  {
   "cell_type": "code",
   "execution_count": 16,
   "metadata": {},
   "outputs": [],
   "source": [
    "# We pick a random validation set to sample nearest neighbors. Here we limit the\n",
    "# validation samples to the words that have a low numeric ID, which by\n",
    "# construction are also the most frequent. These 3 variables are used only for\n",
    "# displaying model accuracy, they don't affect calculation.\n",
    "valid_size = 16     # Random set of words to evaluate similarity on.\n",
    "valid_window = 100  # Only pick dev samples in the head of the distribution.\n",
    "valid_examples = np.random.choice(valid_window, valid_size, replace=False)"
   ]
  },
  {
   "cell_type": "code",
   "execution_count": 58,
   "metadata": {},
   "outputs": [],
   "source": [
    "graph = tf.Graph()\n",
    "\n",
    "with graph.as_default():\n",
    "\n",
    "    # Input data.\n",
    "    train_inputs = tf.placeholder(tf.int32, shape=[batch_size])\n",
    "    train_labels = tf.placeholder(tf.int32, shape=[batch_size, 1])\n",
    "    valid_dataset = tf.constant(valid_examples, dtype=tf.int32)\n",
    "\n",
    "    # Ops and variables pinned to the CPU because of missing GPU implementation\n",
    "    with tf.device('/gpu:0'):\n",
    "        # Look up embeddings for inputs.\n",
    "        embeddings = tf.Variable(\n",
    "                tf.random_uniform([vocabulary_size, embedding_size], -1.0, 1.0))\n",
    "        embed = tf.nn.embedding_lookup(embeddings, train_inputs)\n",
    "\n",
    "        # Construct the variables for the NCE loss\n",
    "        nce_weights = tf.Variable(\n",
    "                tf.truncated_normal([vocabulary_size, embedding_size],\n",
    "                                                        stddev=1.0 / math.sqrt(embedding_size)))\n",
    "        nce_biases = tf.Variable(tf.zeros([vocabulary_size]))\n",
    "    \n",
    "    global_step = tf.Variable(0, trainable=False)\n",
    "    starter_learning_rate = 0.009\n",
    "    learning_rate = tf.train.natural_exp_decay(starter_learning_rate, global_step,2500, 0.56, staircase=False)\n",
    "    # Passing global_step to minimize() will increment it at each step.\n",
    "    #learning_step = (tf.train.GradientDescentOptimizer(learning_rate).minimize(...my loss..., global_step=global_step))\n",
    "    # Compute the average NCE loss for the batch.\n",
    "    # tf.nce_loss automatically draws a new sample of the negative labels each\n",
    "    # time we evaluate the loss.\n",
    "    # Explanation of the meaning of NCE loss:\n",
    "    #   http://mccormickml.com/2016/04/19/word2vec-tutorial-the-skip-gram-model/\n",
    "    loss = tf.reduce_mean(\n",
    "            tf.nn.nce_loss(weights=nce_weights,\n",
    "                                         biases=nce_biases,\n",
    "                                         labels=train_labels,\n",
    "                                         inputs=embed,\n",
    "                                         num_sampled=num_sampled,\n",
    "                                         num_classes=vocabulary_size))\n",
    "\n",
    "    # Construct the SGD optimizer using a learning rate of 1.0.\n",
    "    #optimizer = tf.train.GradientDescentOptimizer(1.0).minimize(loss)\n",
    "\n",
    "    # What if we use AdamOptimizer\n",
    "    optimizer = (tf.train.AdamOptimizer(learning_rate).minimize(loss,global_step = global_step))\n",
    "    \n",
    "    # Compute the cosine similarity between minibatch examples and all embeddings.\n",
    "    norm = tf.sqrt(tf.reduce_sum(tf.square(embeddings),\n",
    "     1, keepdims=True)) #keep_dims is deprecated use keepdims instead\n",
    "    normalized_embeddings = embeddings / norm\n",
    "    valid_embeddings = tf.nn.embedding_lookup(\n",
    "            normalized_embeddings, valid_dataset)\n",
    "    similarity = tf.matmul(\n",
    "            valid_embeddings, normalized_embeddings, transpose_b=True)\n",
    "    lr_print = tf.Print(learning_rate,[learning_rate])\n",
    "    # Add variable initializer.\n",
    "    init = tf.global_variables_initializer()"
   ]
  },
  {
   "cell_type": "code",
   "execution_count": 59,
   "metadata": {},
   "outputs": [],
   "source": [
    "# Step 5: Begin training.\n",
    "num_steps = 20001"
   ]
  },
  {
   "cell_type": "code",
   "execution_count": 60,
   "metadata": {},
   "outputs": [
    {
     "name": "stdout",
     "output_type": "stream",
     "text": [
      "Initialized\n",
      "Average loss at step  0 :  252.064697265625 learning rate:  0.009\n",
      "Average loss at step  250 :  228.3384051513672 learning rate:  0.008509852\n",
      "Average loss at step  500 :  169.77141720581054 learning rate:  0.008046398\n",
      "Average loss at step  750 :  159.86314419555663 learning rate:  0.0076081837\n",
      "Average loss at step  1000 :  125.26792109680176 learning rate:  0.007193836\n",
      "Average loss at step  1250 :  118.27906364440918 learning rate:  0.006802053\n",
      "Average loss at step  1500 :  97.93184477233886 learning rate:  0.0064316075\n",
      "Average loss at step  1750 :  106.1583726348877 learning rate:  0.0060813366\n",
      "Average loss at step  2000 :  98.81370176696777 learning rate:  0.005750142\n",
      "Average loss at step  2250 :  78.91350198364258 learning rate:  0.005436984\n",
      "Average loss at step  2500 :  66.02452368164063 learning rate:  0.0051408815\n",
      "Average loss at step  2750 :  79.82804012298584 learning rate:  0.0048609045\n",
      "Average loss at step  3000 :  78.59286647796631 learning rate:  0.0045961756\n",
      "Average loss at step  3250 :  77.92294459533692 learning rate:  0.004345864\n",
      "Average loss at step  3500 :  64.27094542694091 learning rate:  0.0041091843\n",
      "Average loss at step  3750 :  51.55477652168274 learning rate:  0.0038853942\n",
      "Average loss at step  4000 :  54.15855713272095 learning rate:  0.0036737926\n",
      "Average loss at step  4250 :  50.75746192169189 learning rate:  0.0034737145\n",
      "Average loss at step  4500 :  50.730404312133786 learning rate:  0.003284533\n",
      "Average loss at step  4750 :  42.69477321434021 learning rate:  0.0031056546\n",
      "Average loss at step  5000 :  50.08416749763489 learning rate:  0.002936518\n",
      "Average loss at step  5250 :  39.49082749557495 learning rate:  0.0027765925\n",
      "Average loss at step  5500 :  43.65937704849243 learning rate:  0.002625377\n",
      "Average loss at step  5750 :  42.53729926109314 learning rate:  0.002482397\n",
      "Average loss at step  6000 :  43.01277674007416 learning rate:  0.0023472034\n",
      "Average loss at step  6250 :  39.83401376390457 learning rate:  0.0022193727\n",
      "Average loss at step  6500 :  52.5607453918457 learning rate:  0.0020985038\n",
      "Average loss at step  6750 :  51.600747049331666 learning rate:  0.001984217\n",
      "Average loss at step  7000 :  34.779515842437746 learning rate:  0.0018761551\n",
      "Average loss at step  7250 :  40.57120212364197 learning rate:  0.0017739781\n",
      "Average loss at step  7500 :  27.206536103248595 learning rate:  0.0016773655\n",
      "Average loss at step  7750 :  24.98545991230011 learning rate:  0.001586015\n",
      "Average loss at step  8000 :  31.780770238876343 learning rate:  0.0014996392\n",
      "Average loss at step  8250 :  28.138208660125734 learning rate:  0.0014179676\n",
      "Average loss at step  8500 :  26.842208521842956 learning rate:  0.0013407439\n",
      "Average loss at step  8750 :  23.254334201812743 learning rate:  0.0012677258\n",
      "Average loss at step  9000 :  29.72139929962158 learning rate:  0.0011986842\n",
      "Average loss at step  9250 :  31.310050832748413 learning rate:  0.0011334032\n",
      "Average loss at step  9500 :  26.301264812469483 learning rate:  0.0010716767\n",
      "Average loss at step  9750 :  20.186607941627503 learning rate:  0.0010133124\n",
      "Average loss at step  10000 :  30.365113243579863 learning rate:  0.00095812645\n",
      "Average loss at step  10250 :  31.95533317756653 learning rate:  0.0009059461\n",
      "Average loss at step  10500 :  34.40760461616516 learning rate:  0.0008566075\n",
      "Average loss at step  10750 :  27.059411951065062 learning rate:  0.00080995617\n",
      "Average loss at step  11000 :  21.669397698402406 learning rate:  0.000765845\n",
      "Average loss at step  11250 :  25.142310390472414 learning rate:  0.0007241365\n",
      "Average loss at step  11500 :  22.29601929664612 learning rate:  0.00068469933\n",
      "Average loss at step  11750 :  24.50142666912079 learning rate:  0.00064741005\n",
      "Average loss at step  12000 :  20.49760166978836 learning rate:  0.0006121516\n",
      "Average loss at step  12250 :  26.448137129783632 learning rate:  0.00057881325\n",
      "Average loss at step  12500 :  20.190034750461578 learning rate:  0.00054729055\n",
      "Average loss at step  12750 :  24.35439097595215 learning rate:  0.0005174846\n",
      "Average loss at step  13000 :  24.57429624223709 learning rate:  0.000489302\n",
      "Average loss at step  13250 :  26.19165488576889 learning rate:  0.0004626542\n",
      "Average loss at step  13500 :  25.042952913284303 learning rate:  0.00043745755\n",
      "Average loss at step  13750 :  36.84075710868836 learning rate:  0.00041363333\n",
      "Average loss at step  14000 :  34.603559844970704 learning rate:  0.00039110647\n",
      "Average loss at step  14250 :  23.17282420063019 learning rate:  0.0003698065\n",
      "Average loss at step  14500 :  27.652835057258606 learning rate:  0.00034966654\n",
      "Average loss at step  14750 :  17.70226150894165 learning rate:  0.00033062336\n",
      "Average loss at step  15000 :  17.408294805049895 learning rate:  0.00031261728\n",
      "Average loss at step  15250 :  22.00105736064911 learning rate:  0.00029559192\n",
      "Average loss at step  15500 :  20.800077149391175 learning rate:  0.00027949375\n",
      "Average loss at step  15750 :  18.41417375802994 learning rate:  0.00026427227\n",
      "Average loss at step  16000 :  15.209144651412965 learning rate:  0.00024987978\n",
      "Average loss at step  16250 :  23.30276240634918 learning rate:  0.00023627105\n",
      "Average loss at step  16500 :  25.096206743240355 learning rate:  0.00022340358\n",
      "Average loss at step  16750 :  19.678930218696593 learning rate:  0.00021123684\n",
      "Average loss at step  17000 :  15.352335790634156 learning rate:  0.00019973269\n",
      "Average loss at step  17250 :  24.795196194648742 learning rate:  0.00018885508\n",
      "Average loss at step  17500 :  26.36465311527252 learning rate:  0.00017856981\n",
      "Average loss at step  17750 :  29.224769128799437 learning rate:  0.00016884477\n",
      "Average loss at step  18000 :  22.126599098205567 learning rate:  0.00015964934\n",
      "Average loss at step  18250 :  18.147256240844726 learning rate:  0.00015095473\n",
      "Average loss at step  18500 :  20.443564868927 learning rate:  0.00014273364\n",
      "Average loss at step  18750 :  18.69297586584091 learning rate:  0.00013496022\n",
      "Average loss at step  19000 :  20.831004867553713 learning rate:  0.00012761012\n",
      "Average loss at step  19250 :  18.73097984981537 learning rate:  0.0001206604\n",
      "Average loss at step  19500 :  22.901879086494446 learning rate:  0.00011408911\n",
      "Average loss at step  19750 :  16.556771832942964 learning rate:  0.00010787574\n",
      "Average loss at step  20000 :  21.98641973209381 learning rate:  0.00010200071\n",
      "Time Taken: 322.29864478111267\n"
     ]
    }
   ],
   "source": [
    "\n",
    "import time\n",
    "start = time.time()\n",
    "with tf.Session(graph=graph) as session:\n",
    "    # We must initialize all variables before we use them.\n",
    "    init.run()\n",
    "    print('Initialized')\n",
    "\n",
    "    average_loss = 0\n",
    "    for step in xrange(num_steps):\n",
    "        batch_inputs, batch_labels = generate_batch(\n",
    "                batch_size, num_skips, skip_window)\n",
    "        feed_dict = {train_inputs: batch_inputs, train_labels: batch_labels}\n",
    "\n",
    "        # We perform one update step by evaluating the optimizer op (including it\n",
    "        # in the list of returned values for session.run()\n",
    "        _, loss_val,__ = session.run([optimizer, loss,lr_print], feed_dict=feed_dict)\n",
    "        average_loss += loss_val\n",
    "        if step % 250 == 0:\n",
    "            if step > 0:\n",
    "                average_loss /= 250\n",
    "            # The average loss is an estimate of the loss over the last 2000 batches.\n",
    "            print('Average loss at step ', step, ': ', average_loss,'learning rate: ',__)\n",
    "            average_loss = 0\n",
    "    final_embeddings = normalized_embeddings.eval()\n",
    "end = time.time()\n",
    "print(\"Time Taken: {}\".format(end-start))"
   ]
  },
  {
   "cell_type": "code",
   "execution_count": 61,
   "metadata": {},
   "outputs": [
    {
     "data": {
      "text/plain": [
       "(24616, 32)"
      ]
     },
     "execution_count": 61,
     "metadata": {},
     "output_type": "execute_result"
    }
   ],
   "source": [
    "final_embeddings.shape"
   ]
  },
  {
   "cell_type": "code",
   "execution_count": 62,
   "metadata": {},
   "outputs": [],
   "source": [
    "s2v = vocabulary.copy()\n",
    "for i in range(len(vocabulary)):\n",
    "    splits = vocabulary[i].split(' ')\n",
    "    splits2 = splits\n",
    "    t= []\n",
    "    for j in range(len(splits)):\n",
    "        #print(type(j))\n",
    "        splits2[j]= final_embeddings[dictionary[splits[j]]-1]\n",
    "    s2v[i] = splits"
   ]
  },
  {
   "cell_type": "code",
   "execution_count": 63,
   "metadata": {},
   "outputs": [],
   "source": [
    "unique_tokens = list(set(tokens))"
   ]
  },
  {
   "cell_type": "code",
   "execution_count": 64,
   "metadata": {},
   "outputs": [],
   "source": [
    "bigram_dict = {}\n",
    "bigrams = [b for l in vocabulary for b in zip(l.split(' ')[:-1],l.split(' ')[1:])]"
   ]
  },
  {
   "cell_type": "code",
   "execution_count": 65,
   "metadata": {},
   "outputs": [],
   "source": [
    "for i in range(len(bigrams)):\n",
    "    a,b = bigrams[i][0],bigrams[i][1]\n",
    "    bigram_dict[bigrams[i]] = np.dot(final_embeddings[dictionary[a]-1],final_embeddings[dictionary[b]-1]) "
   ]
  },
  {
   "cell_type": "code",
   "execution_count": 66,
   "metadata": {},
   "outputs": [],
   "source": [
    "def find_ngrams(strx,n):\n",
    "    return list(zip(*[strx.split(' ')[i:] for i in range(n)]))\n",
    "t = find_ngrams(vocabulary[0],2)"
   ]
  },
  {
   "cell_type": "code",
   "execution_count": 67,
   "metadata": {},
   "outputs": [
    {
     "data": {
      "text/plain": [
       "('6939 4826 38803 56203',\n",
       " [('6939', '4826'), ('4826', '38803'), ('38803', '56203')])"
      ]
     },
     "execution_count": 67,
     "metadata": {},
     "output_type": "execute_result"
    }
   ],
   "source": [
    "vocabulary[0],(t)"
   ]
  },
  {
   "cell_type": "code",
   "execution_count": 68,
   "metadata": {},
   "outputs": [],
   "source": [
    "r_s = 0\n",
    "for i in t:\n",
    "    r_s += bigram_dict[i]"
   ]
  },
  {
   "cell_type": "code",
   "execution_count": 69,
   "metadata": {},
   "outputs": [
    {
     "data": {
      "text/plain": [
       "0.3489672839641571"
      ]
     },
     "execution_count": 69,
     "metadata": {},
     "output_type": "execute_result"
    }
   ],
   "source": [
    "r_s"
   ]
  },
  {
   "cell_type": "code",
   "execution_count": 70,
   "metadata": {},
   "outputs": [],
   "source": [
    "def sbs(arr): #sum of bigrams in each sentence\n",
    "    sbs = []\n",
    "    for i in range(len(arr)):\n",
    "        t = list(find_ngrams(vocabulary[i],2))\n",
    "        t = [bigram_dict[i] for i in t]\n",
    "        sbs.append(sum(t))\n",
    "    return sbs\n",
    "array_of_bigram_sums = sbs(vocabulary)"
   ]
  },
  {
   "cell_type": "code",
   "execution_count": 71,
   "metadata": {},
   "outputs": [],
   "source": [
    "total_sum = sum(array_of_bigram_sums)"
   ]
  },
  {
   "cell_type": "code",
   "execution_count": 72,
   "metadata": {},
   "outputs": [
    {
     "data": {
      "text/plain": [
       "433846.876114944"
      ]
     },
     "execution_count": 72,
     "metadata": {},
     "output_type": "execute_result"
    }
   ],
   "source": [
    "total_sum"
   ]
  },
  {
   "cell_type": "code",
   "execution_count": 73,
   "metadata": {},
   "outputs": [
    {
     "data": {
      "text/plain": [
       "1.7612425450206795"
      ]
     },
     "execution_count": 73,
     "metadata": {},
     "output_type": "execute_result"
    }
   ],
   "source": [
    "avg = total_sum/len(vocabulary)\n",
    "avg"
   ]
  },
  {
   "cell_type": "code",
   "execution_count": 74,
   "metadata": {},
   "outputs": [
    {
     "data": {
      "text/plain": [
       "(-0.5612563937902451, 27.71648621559143)"
      ]
     },
     "execution_count": 74,
     "metadata": {},
     "output_type": "execute_result"
    }
   ],
   "source": [
    "min(array_of_bigram_sums),max(array_of_bigram_sums)"
   ]
  },
  {
   "cell_type": "code",
   "execution_count": 75,
   "metadata": {},
   "outputs": [
    {
     "data": {
      "text/plain": [
       "2.1347853364292146"
      ]
     },
     "execution_count": 75,
     "metadata": {},
     "output_type": "execute_result"
    }
   ],
   "source": [
    "np.std(array_of_bigram_sums)"
   ]
  },
  {
   "cell_type": "code",
   "execution_count": 76,
   "metadata": {},
   "outputs": [],
   "source": [
    "import matplotlib.pyplot as plt\n",
    "import seaborn as sns\n",
    "%matplotlib inline\n"
   ]
  },
  {
   "cell_type": "code",
   "execution_count": 77,
   "metadata": {},
   "outputs": [
    {
     "data": {
      "text/plain": [
       "(array([1.8532e+05, 4.3210e+04, 1.1427e+04, 4.1580e+03, 1.7970e+03,\n",
       "        1.5600e+02, 1.7600e+02, 7.3000e+01, 6.0000e+00, 7.0000e+00]),\n",
       " array([-0.56125639,  2.26651787,  5.09429213,  7.92206639, 10.74984065,\n",
       "        13.57761491, 16.40538917, 19.23316343, 22.06093769, 24.88871195,\n",
       "        27.71648622]),\n",
       " <a list of 10 Patch objects>)"
      ]
     },
     "execution_count": 77,
     "metadata": {},
     "output_type": "execute_result"
    },
    {
     "data": {
      "image/png": "[encoded data removed]",
      "text/plain": [
       "<matplotlib.figure.Figure at 0x208337c1d30>"
      ]
     },
     "metadata": {},
     "output_type": "display_data"
    }
   ],
   "source": [
    "plt.hist(array_of_bigram_sums)"
   ]
  },
  {
   "cell_type": "code",
   "execution_count": 78,
   "metadata": {},
   "outputs": [
    {
     "data": {
      "text/plain": [
       "<matplotlib.axes._subplots.AxesSubplot at 0x2083bc9f0b8>"
      ]
     },
     "execution_count": 78,
     "metadata": {},
     "output_type": "execute_result"
    },
    {
     "data": {
      "image/png": "[encoded data removed]",
      "text/plain": [
       "<matplotlib.figure.Figure at 0x20918be4438>"
      ]
     },
     "metadata": {},
     "output_type": "display_data"
    }
   ],
   "source": [
    "sns.distplot(array_of_bigram_sums[:10000])"
   ]
  },
  {
   "cell_type": "code",
   "execution_count": 79,
   "metadata": {},
   "outputs": [
    {
     "data": {
      "text/plain": [
       "<matplotlib.axes._subplots.AxesSubplot at 0x209071924e0>"
      ]
     },
     "execution_count": 79,
     "metadata": {},
     "output_type": "execute_result"
    },
    {
     "data": {
      "image/png": "[encoded data removed]",
      "text/plain": [
       "<matplotlib.figure.Figure at 0x2090dec80f0>"
      ]
     },
     "metadata": {},
     "output_type": "display_data"
    }
   ],
   "source": [
    "sns.distplot(array_of_bigram_sums)"
   ]
  },
  {
   "cell_type": "code",
   "execution_count": 80,
   "metadata": {},
   "outputs": [
    {
     "data": {
      "text/plain": [
       "ModeResult(mode=array([0.]), count=array([9272]))"
      ]
     },
     "execution_count": 80,
     "metadata": {},
     "output_type": "execute_result"
    }
   ],
   "source": [
    "from scipy import stats\n",
    "stats.mode(array_of_bigram_sums)"
   ]
  },
  {
   "cell_type": "code",
   "execution_count": 82,
   "metadata": {},
   "outputs": [],
   "source": [
    "random_path = \"6939 4826 4770 4770 4770 4770 4770 4770 24074 4651\"\n",
    "rpb = find_ngrams(random_path,2)\n",
    "arr = sbs(rpb)"
   ]
  },
  {
   "cell_type": "code",
   "execution_count": 84,
   "metadata": {},
   "outputs": [
    {
     "data": {
      "text/plain": [
       "4.588510937988758"
      ]
     },
     "execution_count": 84,
     "metadata": {},
     "output_type": "execute_result"
    }
   ],
   "source": [
    "sum(arr)"
   ]
  },
  {
   "cell_type": "code",
   "execution_count": 85,
   "metadata": {},
   "outputs": [
    {
     "data": {
      "text/plain": [
       "[('6939', '4826'),\n",
       " ('4826', '4770'),\n",
       " ('4770', '4770'),\n",
       " ('4770', '4770'),\n",
       " ('4770', '4770'),\n",
       " ('4770', '4770'),\n",
       " ('4770', '4770'),\n",
       " ('4770', '24074'),\n",
       " ('24074', '4651')]"
      ]
     },
     "execution_count": 85,
     "metadata": {},
     "output_type": "execute_result"
    }
   ],
   "source": [
    "rpb"
   ]
  },
  {
   "cell_type": "code",
   "execution_count": 87,
   "metadata": {},
   "outputs": [
    {
     "data": {
      "text/plain": [
       "0.99999994"
      ]
     },
     "execution_count": 87,
     "metadata": {},
     "output_type": "execute_result"
    }
   ],
   "source": [
    "bigram_dict[('4770','4770')]"
   ]
  },
  {
   "cell_type": "code",
   "execution_count": 93,
   "metadata": {},
   "outputs": [
    {
     "data": {
      "text/plain": [
       "0.21759763"
      ]
     },
     "execution_count": 93,
     "metadata": {},
     "output_type": "execute_result"
    }
   ],
   "source": [
    "bigram_dict[('6939','4826')]"
   ]
  },
  {
   "cell_type": "code",
   "execution_count": 95,
   "metadata": {},
   "outputs": [
    {
     "data": {
      "text/plain": [
       "0.0712905"
      ]
     },
     "execution_count": 95,
     "metadata": {},
     "output_type": "execute_result"
    }
   ],
   "source": [
    "np.dot(final_embeddings[dictionary['6939']],final_embeddings[dictionary['24074']])"
   ]
  },
  {
   "cell_type": "code",
   "execution_count": 100,
   "metadata": {},
   "outputs": [
    {
     "data": {
      "text/plain": [
       "0.422816"
      ]
     },
     "execution_count": 100,
     "metadata": {},
     "output_type": "execute_result"
    }
   ],
   "source": [
    "np.dot(final_embeddings[dictionary['4770']],final_embeddings[dictionary['6939']])"
   ]
  },
  {
   "cell_type": "code",
   "execution_count": null,
   "metadata": {},
   "outputs": [],
   "source": []
  }
 ],
 "metadata": {
  "kernelspec": {
   "display_name": "Python 3",
   "language": "python",
   "name": "python3"
  },
  "language_info": {
   "codemirror_mode": {
    "name": "ipython",
    "version": 3
   },
   "file_extension": ".py",
   "mimetype": "text/x-python",
   "name": "python",
   "nbconvert_exporter": "python",
   "pygments_lexer": "ipython3",
   "version": "3.6.2"
  }
 },
 "nbformat": 4,
 "nbformat_minor": 2
}
