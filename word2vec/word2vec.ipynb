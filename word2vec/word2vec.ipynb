{
 "cells": [
  {
   "cell_type": "code",
   "execution_count": 1,
   "metadata": {},
   "outputs": [],
   "source": [
    "from __future__ import absolute_import\n",
    "from __future__ import division\n",
    "from __future__ import print_function\n",
    "\n",
    "import collections\n",
    "import math\n",
    "import os\n",
    "import random\n",
    "from tempfile import gettempdir\n",
    "import zipfile\n",
    "\n",
    "import numpy as np\n",
    "from six.moves import urllib\n",
    "from six.moves import xrange  # pylint: disable=redefined-builtin\n",
    "import tensorflow as tf\n",
    "os.environ['TF_CPP_MIN_LOG_LEVEL'] = '3'"
   ]
  },
  {
   "cell_type": "code",
   "execution_count": 135,
   "metadata": {},
   "outputs": [],
   "source": [
    "#vocabulary = read_data(filename)\n",
    "#print('Data size', len(vocabulary))\n",
    "f = open('only_paths.txt')\n",
    "vocabulary = f.readlines()\n",
    "vocabulary = [i.strip() for i in vocabulary]\n",
    "# Step 2: Build the dictionary and replace rare words with UNK token.\n",
    "#vocabulary_size = 100000"
   ]
  },
  {
   "cell_type": "code",
   "execution_count": 3,
   "metadata": {},
   "outputs": [
    {
     "data": {
      "text/plain": [
       "24612"
      ]
     },
     "execution_count": 3,
     "metadata": {},
     "output_type": "execute_result"
    }
   ],
   "source": [
    "tokens = []\n",
    "for i in range(len(vocabulary)):\n",
    "    splits = vocabulary[i].split(' ')\n",
    "    for j in range(len(splits)):\n",
    "        tokens.append(splits[j])\n",
    "unique_tokens = set(tokens)\n",
    "vocabulary_size = len(unique_tokens)\n",
    "len(unique_tokens)"
   ]
  },
  {
   "cell_type": "code",
   "execution_count": 4,
   "metadata": {},
   "outputs": [],
   "source": [
    "def build_dataset(words, n_words):\n",
    "    \"\"\"Process raw inputs into a dataset.\"\"\"\n",
    "    count = [['UNK', -1]]\n",
    "    #count = [[]]\n",
    "    count.extend(collections.Counter(words).most_common(n_words - 1))\n",
    "    dictionary = dict()\n",
    "    #print(count)\n",
    "    for word, _ in count:\n",
    "        dictionary[word] = len(dictionary)\n",
    "    data = list()\n",
    "    unk_count = 0\n",
    "    for word in words:\n",
    "        index = dictionary.get(word, 0)\n",
    "        #print(word,index)\n",
    "        if index == 0:  # dictionary['UNK']\n",
    "            unk_count += 1\n",
    "        data.append(index)\n",
    "    count[0][1] = unk_count\n",
    "    reversed_dictionary = dict(zip(dictionary.values(), dictionary.keys()))\n",
    "    return data, count, dictionary, reversed_dictionary"
   ]
  },
  {
   "cell_type": "code",
   "execution_count": 5,
   "metadata": {},
   "outputs": [
    {
     "data": {
      "text/plain": [
       "(925915, 246129)"
      ]
     },
     "execution_count": 5,
     "metadata": {},
     "output_type": "execute_result"
    }
   ],
   "source": [
    "len(tokens),len(vocabulary)"
   ]
  },
  {
   "cell_type": "code",
   "execution_count": 6,
   "metadata": {},
   "outputs": [
    {
     "name": "stdout",
     "output_type": "stream",
     "text": [
      "Most common words (+UNK) [['UNK', 0], ('6939', 107760), ('9002', 28904), ('6830', 21032), ('7545', 14248)]\n",
      "Least common words (+UNK) [('62968', 1), ('49916', 1), ('23710', 1), ('15559', 1), ('262552', 1)]\n",
      "Sample data [1, 21, 1810, 6093, 1, 21, 1810, 6093, 1, 21] ['6939', '4826', '38803', '56203', '6939', '4826', '38803', '56203', '6939', '4826']\n"
     ]
    }
   ],
   "source": [
    "# Filling 4 global variables:\n",
    "# data - list of codes (integers from 0 to vocabulary_size-1).\n",
    "#   This is the original text but words are replaced by their codes\n",
    "# count - map of words(strings) to count of occurrences\n",
    "# dictionary - map of words(strings) to their codes(integers)\n",
    "# reverse_dictionary - maps codes(integers) to words(strings)\n",
    "data, count, dictionary, reverse_dictionary = build_dataset(tokens,len(tokens))#vocabulary,vocabulary_size)\n",
    "#del vocabulary  # Hint to reduce memory.\n",
    "print('Most common words (+UNK)', count[:5])\n",
    "print('Least common words (+UNK)',count[-5:])\n",
    "print('Sample data', data[:10], [reverse_dictionary[i] for i in data[:10]])"
   ]
  },
  {
   "cell_type": "code",
   "execution_count": 7,
   "metadata": {},
   "outputs": [
    {
     "data": {
      "text/plain": [
       "246129"
      ]
     },
     "execution_count": 7,
     "metadata": {},
     "output_type": "execute_result"
    }
   ],
   "source": [
    "len(vocabulary)"
   ]
  },
  {
   "cell_type": "code",
   "execution_count": 8,
   "metadata": {},
   "outputs": [],
   "source": [
    "data_index = 0\n",
    "\n",
    "# Step 3: Function to generate a training batch for the skip-gram model.\n",
    "def generate_batch(batch_size, num_skips, skip_window):\n",
    "    global data_index\n",
    "    assert batch_size % num_skips == 0\n",
    "    assert num_skips <= 2 * skip_window\n",
    "    batch = np.ndarray(shape=(batch_size), dtype=np.int32)\n",
    "    labels = np.ndarray(shape=(batch_size, 1), dtype=np.int32)\n",
    "    span = 2 * skip_window + 1  # [ skip_window target skip_window ]\n",
    "    buffer = collections.deque(maxlen=span)\n",
    "    if data_index + span > len(data):\n",
    "        data_index = 0\n",
    "    buffer.extend(data[data_index:data_index + span])\n",
    "    data_index += span\n",
    "    for i in range(batch_size // num_skips):\n",
    "        context_words = [w for w in range(span) if w != skip_window]\n",
    "        words_to_use = random.sample(context_words, num_skips)\n",
    "        for j, context_word in enumerate(words_to_use):\n",
    "            batch[i * num_skips + j] = buffer[skip_window]\n",
    "            labels[i * num_skips + j, 0] = buffer[context_word]\n",
    "        if data_index == len(data):\n",
    "            #buffer[:] = data[:span]\n",
    "            for word in data[:span]:\n",
    "                buffer.append(word)\n",
    "            data_index = span\n",
    "        else:\n",
    "            buffer.append(data[data_index])\n",
    "            data_index += 1\n",
    "    # Backtrack a little bit to avoid skipping words in the end of a batch\n",
    "    data_index = (data_index + len(data) - span) % len(data)\n",
    "    return batch, labels"
   ]
  },
  {
   "cell_type": "code",
   "execution_count": 9,
   "metadata": {},
   "outputs": [
    {
     "name": "stdout",
     "output_type": "stream",
     "text": [
      "21 4826 -> 1 6939\n",
      "21 4826 -> 1810 38803\n",
      "1810 38803 -> 6093 56203\n",
      "1810 38803 -> 21 4826\n",
      "6093 56203 -> 1 6939\n",
      "6093 56203 -> 1810 38803\n",
      "1 6939 -> 6093 56203\n",
      "1 6939 -> 21 4826\n",
      "21 4826 -> 1 6939\n",
      "21 4826 -> 1810 38803\n",
      "1810 38803 -> 21 4826\n",
      "1810 38803 -> 6093 56203\n",
      "6093 56203 -> 1810 38803\n",
      "6093 56203 -> 1 6939\n",
      "1 6939 -> 21 4826\n",
      "1 6939 -> 6093 56203\n"
     ]
    }
   ],
   "source": [
    "batch, labels = generate_batch(batch_size=16, num_skips=2, skip_window=1)\n",
    "for i in range(16):\n",
    "    print(batch[i], reverse_dictionary[batch[i]],\n",
    "                '->', labels[i, 0], reverse_dictionary[labels[i, 0]])"
   ]
  },
  {
   "cell_type": "code",
   "execution_count": 10,
   "metadata": {},
   "outputs": [],
   "source": [
    "# Step 4: Build and train a skip-gram model.\n",
    "\n",
    "batch_size = 256\n",
    "embedding_size = 128  # Dimension of the embedding vector. 32. lets try higher dims\n",
    "skip_window = 4       # How many words to consider left and right.\n",
    "num_skips = 2         # How many times to reuse an input to generate a label.\n",
    "num_sampled = 64      # Number of negative examples to sample."
   ]
  },
  {
   "cell_type": "code",
   "execution_count": 11,
   "metadata": {},
   "outputs": [],
   "source": [
    "# We pick a random validation set to sample nearest neighbors. Here we limit the\n",
    "# validation samples to the words that have a low numeric ID, which by\n",
    "# construction are also the most frequent. These 3 variables are used only for\n",
    "# displaying model accuracy, they don't affect calculation.\n",
    "valid_size = 16     # Random set of words to evaluate similarity on.\n",
    "valid_window = 100  # Only pick dev samples in the head of the distribution.\n",
    "valid_examples = np.random.choice(valid_window, valid_size, replace=False)"
   ]
  },
  {
   "cell_type": "code",
   "execution_count": 43,
   "metadata": {},
   "outputs": [],
   "source": [
    "graph = tf.Graph()\n",
    "\n",
    "with graph.as_default():\n",
    "\n",
    "    # Input data.\n",
    "    train_inputs = tf.placeholder(tf.int32, shape=[batch_size])\n",
    "    train_labels = tf.placeholder(tf.int32, shape=[batch_size, 1])\n",
    "    valid_dataset = tf.constant(valid_examples, dtype=tf.int32)\n",
    "\n",
    "    # Ops and variables pinned to the CPU because of missing GPU implementation\n",
    "    with tf.device('/gpu:0'):\n",
    "        # Look up embeddings for inputs.\n",
    "        embeddings = tf.Variable(\n",
    "                tf.random_uniform([vocabulary_size, embedding_size], -1.0, 1.0))\n",
    "        embed = tf.nn.embedding_lookup(embeddings, train_inputs)\n",
    "\n",
    "        # Construct the variables for the NCE loss\n",
    "        nce_weights = tf.Variable(\n",
    "                tf.truncated_normal([vocabulary_size, embedding_size],\n",
    "                                                        stddev=1.0 / math.sqrt(embedding_size)))\n",
    "        nce_biases = tf.Variable(tf.zeros([vocabulary_size]))\n",
    "    \n",
    "    global_step = tf.Variable(0, trainable=False)\n",
    "    starter_learning_rate = 0.1\n",
    "    learning_rate = tf.train.natural_exp_decay(starter_learning_rate, global_step,2500, 0.63, staircase=False)\n",
    "    # Passing global_step to minimize() will increment it at each step.\n",
    "    #learning_step = (tf.train.GradientDescentOptimizer(learning_rate).minimize(...my loss..., global_step=global_step))\n",
    "    # Compute the average NCE loss for the batch.\n",
    "    # tf.nce_loss automatically draws a new sample of the negative labels each\n",
    "    # time we evaluate the loss.\n",
    "    # Explanation of the meaning of NCE loss:\n",
    "    #   http://mccormickml.com/2016/04/19/word2vec-tutorial-the-skip-gram-model/\n",
    "    loss = tf.reduce_mean(\n",
    "            tf.nn.nce_loss(weights=nce_weights,\n",
    "                                         biases=nce_biases,\n",
    "                                         labels=train_labels,\n",
    "                                         inputs=embed,\n",
    "                                         num_sampled=num_sampled,\n",
    "                                         num_classes=vocabulary_size))\n",
    "\n",
    "    # Construct the SGD optimizer using a learning rate of 1.0.\n",
    "    #optimizer = tf.train.GradientDescentOptimizer(1.0).minimize(loss)\n",
    "\n",
    "    # What if we use AdamOptimizer\n",
    "    optimizer = (tf.train.AdamOptimizer(learning_rate).minimize(loss,global_step = global_step))\n",
    "    \n",
    "    # Compute the cosine similarity between minibatch examples and all embeddings.\n",
    "    norm = tf.sqrt(tf.reduce_sum(tf.square(embeddings),\n",
    "     1, keepdims=True)) #keep_dims is deprecated use keepdims instead\n",
    "    normalized_embeddings = embeddings / norm\n",
    "    valid_embeddings = tf.nn.embedding_lookup(\n",
    "            normalized_embeddings, valid_dataset)\n",
    "    similarity = tf.matmul(\n",
    "            valid_embeddings, normalized_embeddings, transpose_b=True)\n",
    "    lr_print = tf.Print(learning_rate,[learning_rate])\n",
    "    # Add variable initializer.\n",
    "    init = tf.global_variables_initializer()"
   ]
  },
  {
   "cell_type": "code",
   "execution_count": 44,
   "metadata": {},
   "outputs": [],
   "source": [
    "# Step 5: Begin training.\n",
    "num_steps = 25001"
   ]
  },
  {
   "cell_type": "code",
   "execution_count": 45,
   "metadata": {},
   "outputs": [
    {
     "name": "stdout",
     "output_type": "stream",
     "text": [
      "Initialized\n",
      "Average loss at step  0 :  216.59146118164062 learning rate:  0.1\n",
      "Average loss at step  1000 :  183.80479620742798 learning rate:  0.07772448\n",
      "Average loss at step  2000 :  158.65861807513238 learning rate:  0.060410943\n",
      "Average loss at step  3000 :  128.2463497815132 learning rate:  0.046954088\n",
      "Average loss at step  4000 :  96.96140673065186 learning rate:  0.036494818\n",
      "Average loss at step  5000 :  76.84534278440475 learning rate:  0.028365402\n",
      "Average loss at step  6000 :  60.47421453356743 learning rate:  0.022046862\n",
      "Average loss at step  7000 :  52.12795135521889 learning rate:  0.017135806\n",
      "Average loss at step  8000 :  34.214306683778766 learning rate:  0.0133187175\n",
      "Average loss at step  9000 :  31.905944965362547 learning rate:  0.010351903\n",
      "Average loss at step  10000 :  33.260116083800796 learning rate:  0.008045961\n",
      "Average loss at step  11000 :  23.981742898762228 learning rate:  0.0062536797\n",
      "Average loss at step  12000 :  19.768877621799707 learning rate:  0.004860642\n",
      "Average loss at step  13000 :  18.404700240969657 learning rate:  0.003777908\n",
      "Average loss at step  14000 :  17.479827823221683 learning rate:  0.0029363588\n",
      "Average loss at step  15000 :  12.857721020400524 learning rate:  0.002282269\n",
      "Average loss at step  16000 :  13.657506422162056 learning rate:  0.0017738823\n",
      "Average loss at step  17000 :  16.180563438117503 learning rate:  0.0013787403\n",
      "Average loss at step  18000 :  12.489045266926288 learning rate:  0.0010716188\n",
      "Average loss at step  19000 :  12.369692604899406 learning rate:  0.00083290983\n",
      "Average loss at step  20000 :  12.66623011881113 learning rate:  0.00064737484\n",
      "Average loss at step  21000 :  13.523772668659687 learning rate:  0.00050316885\n",
      "Average loss at step  22000 :  10.12599792522192 learning rate:  0.00039108514\n",
      "Average loss at step  23000 :  10.947936393022538 learning rate:  0.00030396893\n",
      "Average loss at step  24000 :  11.787951246231794 learning rate:  0.00023625838\n",
      "Average loss at step  25000 :  13.797451891601085 learning rate:  0.00018363044\n",
      "Time Taken: 101.08748984336853\n"
     ]
    }
   ],
   "source": [
    "import time\n",
    "start = time.time()\n",
    "with tf.Session(graph=graph) as session:\n",
    "    # We must initialize all variables before we use them.\n",
    "    init.run()\n",
    "    print('Initialized')\n",
    "\n",
    "    average_loss = 0\n",
    "    for step in xrange(num_steps):\n",
    "        batch_inputs, batch_labels = generate_batch(\n",
    "                batch_size, num_skips, skip_window)\n",
    "        feed_dict = {train_inputs: batch_inputs, train_labels: batch_labels}\n",
    "\n",
    "        # We perform one update step by evaluating the optimizer op (including it\n",
    "        # in the list of returned values for session.run()\n",
    "        _, loss_val,__ = session.run([optimizer, loss,lr_print], feed_dict=feed_dict)\n",
    "        average_loss += loss_val\n",
    "        if step % 1000 == 0:\n",
    "            if step > 0:\n",
    "                average_loss /= 1000\n",
    "            # The average loss is an estimate of the loss over the last 2000 batches.\n",
    "            print('Average loss at step ', step, ': ', average_loss,'learning rate: ',__)\n",
    "            average_loss = 0\n",
    "\n",
    "        # Note that this is expensive (~20% slowdown if computed every 500 steps)\n",
    "        #if step % 10000 == 0: #500 == 0:#\n",
    "        #\tsim = similarity.eval()\n",
    "        #\tfor i in xrange(valid_size):\n",
    "        #\t\tvalid_word = reverse_dictionary[valid_examples[i]]\n",
    "        #\t\ttop_k = 4#8  # number of nearest neighbors\n",
    "        #\t\tnearest = (-sim[i, :]).argsort()[1:top_k + 1]\n",
    "        #\t\tlog_str = 'Nearest to %s:' % valid_word\n",
    "        #\t\tfor k in xrange(top_k):\n",
    "        #\t\t\tclose_word = reverse_dictionary[nearest[k]]\n",
    "        #\t\t\tlog_str = '%s %s,' % (log_str, close_word)\n",
    "        #\t\tprint(log_str)\n",
    "    final_embeddings = normalized_embeddings.eval()\n",
    "end = time.time()\n",
    "print(\"Time Taken: {}\".format(end-start))"
   ]
  },
  {
   "cell_type": "code",
   "execution_count": 46,
   "metadata": {},
   "outputs": [
    {
     "data": {
      "text/plain": [
       "(24612, 128)"
      ]
     },
     "execution_count": 46,
     "metadata": {},
     "output_type": "execute_result"
    }
   ],
   "source": [
    "final_embeddings.shape"
   ]
  },
  {
   "cell_type": "code",
   "execution_count": 47,
   "metadata": {},
   "outputs": [],
   "source": [
    "def plot_with_labels(low_dim_embs, labels, filename):\n",
    "    assert low_dim_embs.shape[0] >= len(labels), 'More labels than embeddings'\n",
    "    plt.figure(figsize=(20,20))  # in inches\n",
    "    for i, label in enumerate(labels):\n",
    "        x, y = low_dim_embs[i, :]\n",
    "        plt.scatter(x, y)\n",
    "        plt.annotate(label,\n",
    "                                 xy=(x, y),\n",
    "                                 xytext=(5, 2),\n",
    "                                 textcoords='offset points',\n",
    "                                 ha='right',\n",
    "                                 va='bottom')\n",
    "\n",
    "    plt.show()\n",
    "    #plt.savefig(filename)try:\n",
    "    # pylint: disable=g-import-not-at-top\n"
   ]
  },
  {
   "cell_type": "code",
   "execution_count": 48,
   "metadata": {},
   "outputs": [
    {
     "name": "stdout",
     "output_type": "stream",
     "text": [
      "final_embeddings size (24612, 128)\n"
     ]
    },
    {
     "data": {
      "image/png": "[encoded data removed]",
      "text/plain": [
       "<matplotlib.figure.Figure at 0x7f2e9dbb20b8>"
      ]
     },
     "metadata": {},
     "output_type": "display_data"
    }
   ],
   "source": [
    "try:\n",
    "    # pylint: disable=g-import-not-at-top\n",
    "    from sklearn.manifold import TSNE\n",
    "    import matplotlib.pyplot as plt\n",
    "    %matplotlib inline\n",
    "    print(\"final_embeddings size\",final_embeddings.shape)\n",
    "    tsne = TSNE(perplexity=30, n_components=2, init='pca', n_iter=5000, method='exact')\n",
    "    plot_only = 50\n",
    "    low_dim_embs = tsne.fit_transform(final_embeddings[:plot_only, :])\n",
    "    labels = [reverse_dictionary[i] for i in xrange(plot_only)]\n",
    "    plot_with_labels(low_dim_embs, labels, os.path.join(os.getcwd(), str(\"_\"+str(num_steps)+\".png\")))\n",
    "\n",
    "except ImportError as ex:\n",
    "    print('Please install sklearn, matplotlib, and scipy to show embeddings.')\n",
    "    print(ex)"
   ]
  },
  {
   "cell_type": "code",
   "execution_count": 57,
   "metadata": {},
   "outputs": [
    {
     "data": {
      "text/plain": [
       "(128,)"
      ]
     },
     "execution_count": 57,
     "metadata": {},
     "output_type": "execute_result"
    }
   ],
   "source": [
    "final_embeddings[0].shape"
   ]
  },
  {
   "cell_type": "code",
   "execution_count": 58,
   "metadata": {},
   "outputs": [
    {
     "data": {
      "text/plain": [
       "array([ 0.02697013,  0.07171221,  0.08862047,  0.04657944,  0.15781397,\n",
       "        0.04654428, -0.10133949, -0.11268003,  0.13293481, -0.07338777,\n",
       "        0.03635913, -0.02910779,  0.03096073,  0.03404583, -0.10927113,\n",
       "       -0.00074254, -0.07924861, -0.02790568, -0.04137498,  0.1886842 ,\n",
       "       -0.14115225,  0.02015739,  0.1693138 , -0.01243462,  0.0636761 ,\n",
       "        0.04007901, -0.1377249 ,  0.02684655,  0.18150191,  0.09880619,\n",
       "        0.08792193, -0.11720697,  0.12413216, -0.04077939,  0.02411468,\n",
       "        0.05086817, -0.12901837, -0.02134698,  0.1516013 , -0.09623143,\n",
       "       -0.11497542,  0.01955473,  0.06056236,  0.01004932,  0.07076985,\n",
       "       -0.09025636,  0.11986969,  0.05747686,  0.02505987,  0.2207363 ,\n",
       "       -0.0205533 , -0.08485885, -0.05864777, -0.03445367,  0.01445611,\n",
       "        0.05710248, -0.11332061, -0.21372412,  0.02442995, -0.01418591,\n",
       "       -0.14099899, -0.00730709, -0.03843945,  0.11368905,  0.00460796,\n",
       "       -0.1237213 , -0.12904488,  0.03751214, -0.03750096,  0.02998919,\n",
       "       -0.17456485, -0.10981144, -0.03926573,  0.07447913,  0.12610821,\n",
       "        0.01068221,  0.04777887, -0.02479057, -0.05275895, -0.08642662,\n",
       "       -0.08936741, -0.01782836,  0.04933549, -0.10107715,  0.02147287,\n",
       "       -0.03922968,  0.17067558, -0.12549001,  0.04443633, -0.13722426,\n",
       "        0.04237498, -0.00725048,  0.08063652,  0.00737112, -0.13542917,\n",
       "        0.02150731,  0.12348993,  0.01191831,  0.07907069, -0.00538345,\n",
       "       -0.03295882,  0.08733428, -0.09030302,  0.03817648,  0.01287919,\n",
       "        0.15822013,  0.01768803,  0.0162268 ,  0.1292187 , -0.0866277 ,\n",
       "       -0.15633288, -0.0398302 , -0.00116715,  0.18775792, -0.03865818,\n",
       "       -0.04231667,  0.06923147,  0.09856264,  0.04703844, -0.00073062,\n",
       "        0.06950702,  0.02179308,  0.03349563, -0.09963482,  0.04633903,\n",
       "       -0.10370188,  0.0512378 , -0.04186536], dtype=float32)"
      ]
     },
     "execution_count": 58,
     "metadata": {},
     "output_type": "execute_result"
    }
   ],
   "source": [
    "final_embeddings[dictionary['8551']]"
   ]
  },
  {
   "cell_type": "code",
   "execution_count": 65,
   "metadata": {},
   "outputs": [
    {
     "data": {
      "text/plain": [
       "0.001964876"
      ]
     },
     "execution_count": 65,
     "metadata": {},
     "output_type": "execute_result"
    }
   ],
   "source": [
    "from functools import reduce\n",
    "final_embeddings[dictionary['24724']]*final_embeddings[dictionary['50153']]@final_embeddings[dictionary['201793']]"
   ]
  },
  {
   "cell_type": "code",
   "execution_count": 153,
   "metadata": {},
   "outputs": [],
   "source": [
    "s2v = vocabulary.copy()\n",
    "for i in range(len(vocabulary)):\n",
    "    splits = vocabulary[i].split(' ')\n",
    "    splits2 = splits\n",
    "    t= []\n",
    "    for j in range(len(splits)):\n",
    "        #print(type(j))\n",
    "        splits2[j]= final_embeddings[dictionary[splits[j]]-1]\n",
    "    s2v[i] = splits"
   ]
  },
  {
   "cell_type": "code",
   "execution_count": 154,
   "metadata": {},
   "outputs": [
    {
     "data": {
      "text/plain": [
       "246129"
      ]
     },
     "execution_count": 154,
     "metadata": {},
     "output_type": "execute_result"
    }
   ],
   "source": [
    "len(s2v)"
   ]
  },
  {
   "cell_type": "code",
   "execution_count": 156,
   "metadata": {},
   "outputs": [
    {
     "data": {
      "text/plain": [
       "(list, 246129)"
      ]
     },
     "execution_count": 156,
     "metadata": {},
     "output_type": "execute_result"
    }
   ],
   "source": [
    "type(s2v),len(s2v)"
   ]
  },
  {
   "cell_type": "code",
   "execution_count": 157,
   "metadata": {},
   "outputs": [
    {
     "data": {
      "text/plain": [
       "4"
      ]
     },
     "execution_count": 157,
     "metadata": {},
     "output_type": "execute_result"
    }
   ],
   "source": [
    "len(s2v[0])"
   ]
  },
  {
   "cell_type": "code",
   "execution_count": 172,
   "metadata": {},
   "outputs": [],
   "source": [
    "dot_ps = []\n",
    "for i in range(len(s2v)):\n",
    "    t = s2v[i][0]\n",
    "    for j in range(1,len(s2v[i])):\n",
    "        t = np.dot(t,s2v[i][j])\n",
    "    dot_ps.append(t)#np.linalg.multi_dot(t))"
   ]
  },
  {
   "cell_type": "code",
   "execution_count": 174,
   "metadata": {},
   "outputs": [
    {
     "data": {
      "text/plain": [
       "array([-0.02453607, -0.00799831, -0.06028452,  0.05601731,  0.09379228,\n",
       "        0.02011571, -0.00527191, -0.01286072,  0.00063158,  0.02768514,\n",
       "        0.03668053,  0.04386897,  0.03519263,  0.09022239, -0.02263038,\n",
       "       -0.00596799, -0.03521589, -0.00295212,  0.01663888,  0.03191068,\n",
       "       -0.02104064, -0.00648364,  0.04573116, -0.01157171,  0.02260975,\n",
       "        0.01827063,  0.02871667,  0.05709418,  0.03109433, -0.02544893,\n",
       "       -0.00191923, -0.01369349,  0.07508046, -0.02948481, -0.04438886,\n",
       "        0.02611078, -0.00266394,  0.03449088, -0.0400134 ,  0.03663201,\n",
       "        0.02576745, -0.00528802,  0.0225292 , -0.01757775, -0.00863098,\n",
       "       -0.03789524,  0.03382809,  0.03143022,  0.07046959,  0.0806049 ,\n",
       "        0.10344738, -0.04887927, -0.03799899, -0.03027533,  0.02122912,\n",
       "        0.05780128, -0.00198185, -0.03433081,  0.05667878,  0.05523428,\n",
       "       -0.04690744,  0.01090518,  0.03287309, -0.00508859,  0.0292271 ,\n",
       "        0.07413746,  0.01009611,  0.04670562, -0.0908218 ,  0.02803388,\n",
       "       -0.04610436, -0.01450353,  0.01705719, -0.03145437,  0.02967162,\n",
       "        0.03799113, -0.07177483, -0.05500797,  0.00156357, -0.00572903,\n",
       "        0.02896078,  0.03019551, -0.02268878, -0.06534436,  0.01663951,\n",
       "       -0.018941  , -0.02240976,  0.03019828,  0.09966804, -0.03019794,\n",
       "        0.003545  , -0.02647095, -0.01474129,  0.05114943,  0.00172824,\n",
       "       -0.05278598,  0.01482163,  0.04368695, -0.00208033, -0.02256047,\n",
       "        0.01549086,  0.03093646, -0.02530151, -0.06291949,  0.06262594,\n",
       "       -0.0005289 ,  0.00758448, -0.00786429, -0.03534373, -0.04751725,\n",
       "       -0.01465645, -0.02809035, -0.03868084,  0.01694364,  0.0458261 ,\n",
       "       -0.01167468,  0.04428913,  0.03131847, -0.01265506, -0.00992826,\n",
       "       -0.01222375, -0.03051117,  0.0381082 , -0.01404725,  0.00482811,\n",
       "       -0.0030838 ,  0.00519388,  0.05459467], dtype=float32)"
      ]
     },
     "execution_count": 174,
     "metadata": {},
     "output_type": "execute_result"
    }
   ],
   "source": [
    "dot_ps[1230]"
   ]
  },
  {
   "cell_type": "code",
   "execution_count": 168,
   "metadata": {},
   "outputs": [
    {
     "data": {
      "text/plain": [
       "246129"
      ]
     },
     "execution_count": 168,
     "metadata": {},
     "output_type": "execute_result"
    }
   ],
   "source": [
    "len(dot_ps)"
   ]
  },
  {
   "cell_type": "code",
   "execution_count": 169,
   "metadata": {},
   "outputs": [
    {
     "data": {
      "text/plain": [
       "246129"
      ]
     },
     "execution_count": 169,
     "metadata": {},
     "output_type": "execute_result"
    }
   ],
   "source": [
    "len(vocabulary)"
   ]
  },
  {
   "cell_type": "code",
   "execution_count": null,
   "metadata": {},
   "outputs": [],
   "source": []
  }
 ],
 "metadata": {
  "kernelspec": {
   "display_name": "Python 3",
   "language": "python",
   "name": "python3"
  },
  "language_info": {
   "codemirror_mode": {
    "name": "ipython",
    "version": 3
   },
   "file_extension": ".py",
   "mimetype": "text/x-python",
   "name": "python",
   "nbconvert_exporter": "python",
   "pygments_lexer": "ipython3",
   "version": "3.5.2"
  }
 },
 "nbformat": 4,
 "nbformat_minor": 2
}
