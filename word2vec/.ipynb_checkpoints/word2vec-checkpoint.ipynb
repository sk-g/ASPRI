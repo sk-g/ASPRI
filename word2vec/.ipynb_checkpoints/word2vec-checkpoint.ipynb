{
 "cells": [
  {
   "cell_type": "code",
   "execution_count": 1,
   "metadata": {},
   "outputs": [],
   "source": [
    "from __future__ import absolute_import\n",
    "from __future__ import division\n",
    "from __future__ import print_function\n",
    "\n",
    "import collections\n",
    "import math\n",
    "import os\n",
    "import random\n",
    "from tempfile import gettempdir\n",
    "import zipfile\n",
    "\n",
    "import numpy as np\n",
    "from six.moves import urllib\n",
    "from six.moves import xrange  # pylint: disable=redefined-builtin\n",
    "import tensorflow as tf\n",
    "os.environ['TF_CPP_MIN_LOG_LEVEL'] = '3'"
   ]
  },
  {
   "cell_type": "code",
   "execution_count": 2,
   "metadata": {},
   "outputs": [],
   "source": [
    "#vocabulary = read_data(filename)\n",
    "#print('Data size', len(vocabulary))\n",
    "f = open('only_paths.txt')\n",
    "vocabulary = f.readlines()\n",
    "vocabulary = [i.strip() for i in vocabulary]\n",
    "# Step 2: Build the dictionary and replace rare words with UNK token.\n",
    "#vocabulary_size = 100000"
   ]
  },
  {
   "cell_type": "code",
   "execution_count": 3,
   "metadata": {},
   "outputs": [
    {
     "data": {
      "text/plain": [
       "24612"
      ]
     },
     "execution_count": 3,
     "metadata": {},
     "output_type": "execute_result"
    }
   ],
   "source": [
    "tokens = []\n",
    "for i in range(len(vocabulary)):\n",
    "    splits = vocabulary[i].split(' ')\n",
    "    for j in range(len(splits)):\n",
    "        tokens.append(splits[j])\n",
    "unique_tokens = set(tokens)\n",
    "vocabulary_size = len(unique_tokens)\n",
    "len(unique_tokens)"
   ]
  },
  {
   "cell_type": "code",
   "execution_count": 4,
   "metadata": {},
   "outputs": [],
   "source": [
    "def build_dataset(words, n_words):\n",
    "    \"\"\"Process raw inputs into a dataset.\"\"\"\n",
    "    count = [['UNK', -1]]\n",
    "    #count = [[]]\n",
    "    count.extend(collections.Counter(words).most_common(n_words - 1))\n",
    "    dictionary = dict()\n",
    "    #print(count)\n",
    "    for word, _ in count:\n",
    "        dictionary[word] = len(dictionary)\n",
    "    data = list()\n",
    "    unk_count = 0\n",
    "    for word in words:\n",
    "        index = dictionary.get(word, 0)\n",
    "        #print(word,index)\n",
    "        if index == 0:  # dictionary['UNK']\n",
    "            unk_count += 1\n",
    "        data.append(index)\n",
    "    count[0][1] = unk_count\n",
    "    reversed_dictionary = dict(zip(dictionary.values(), dictionary.keys()))\n",
    "    return data, count, dictionary, reversed_dictionary"
   ]
  },
  {
   "cell_type": "code",
   "execution_count": 5,
   "metadata": {},
   "outputs": [
    {
     "data": {
      "text/plain": [
       "(925915, 246129)"
      ]
     },
     "execution_count": 5,
     "metadata": {},
     "output_type": "execute_result"
    }
   ],
   "source": [
    "len(tokens),len(vocabulary)"
   ]
  },
  {
   "cell_type": "code",
   "execution_count": 6,
   "metadata": {},
   "outputs": [
    {
     "name": "stdout",
     "output_type": "stream",
     "text": [
      "Most common words (+UNK) [['UNK', 0], ('6939', 107760), ('9002', 28904), ('6830', 21032), ('7545', 14248)]\n",
      "Least common words (+UNK) [('2345', 1), ('30905', 1), ('202217', 1), ('3319', 1), ('201297', 1)]\n",
      "Sample data [1, 21, 1777, 6040, 1, 21, 1777, 6040, 1, 21] ['6939', '4826', '38803', '56203', '6939', '4826', '38803', '56203', '6939', '4826']\n"
     ]
    }
   ],
   "source": [
    "# Filling 4 global variables:\n",
    "# data - list of codes (integers from 0 to vocabulary_size-1).\n",
    "#   This is the original text but words are replaced by their codes\n",
    "# count - map of words(strings) to count of occurrences\n",
    "# dictionary - map of words(strings) to their codes(integers)\n",
    "# reverse_dictionary - maps codes(integers) to words(strings)\n",
    "data, count, dictionary, reverse_dictionary = build_dataset(tokens,len(tokens))#vocabulary,vocabulary_size\n",
    "#del vocabulary  # Hint to reduce memory.\n",
    "print('Most common words (+UNK)', count[:5])\n",
    "print('Least common words (+UNK)',count[-5:])\n",
    "print('Sample data', data[:10], [reverse_dictionary[i] for i in data[:10]])"
   ]
  },
  {
   "cell_type": "code",
   "execution_count": 7,
   "metadata": {},
   "outputs": [
    {
     "data": {
      "text/plain": [
       "246129"
      ]
     },
     "execution_count": 7,
     "metadata": {},
     "output_type": "execute_result"
    }
   ],
   "source": [
    "len(vocabulary)"
   ]
  },
  {
   "cell_type": "code",
   "execution_count": 8,
   "metadata": {},
   "outputs": [],
   "source": [
    "data_index = 0\n",
    "\n",
    "# Step 3: Function to generate a training batch for the skip-gram model.\n",
    "def generate_batch(batch_size, num_skips, skip_window):\n",
    "    global data_index\n",
    "    assert batch_size % num_skips == 0\n",
    "    assert num_skips <= 2 * skip_window\n",
    "    batch = np.ndarray(shape=(batch_size), dtype=np.int32)\n",
    "    labels = np.ndarray(shape=(batch_size, 1), dtype=np.int32)\n",
    "    span = 2 * skip_window + 1  # [ skip_window target skip_window ]\n",
    "    buffer = collections.deque(maxlen=span)\n",
    "    if data_index + span > len(data):\n",
    "        data_index = 0\n",
    "    buffer.extend(data[data_index:data_index + span])\n",
    "    data_index += span\n",
    "    for i in range(batch_size // num_skips):\n",
    "        context_words = [w for w in range(span) if w != skip_window]\n",
    "        words_to_use = random.sample(context_words, num_skips)\n",
    "        for j, context_word in enumerate(words_to_use):\n",
    "            batch[i * num_skips + j] = buffer[skip_window]\n",
    "            labels[i * num_skips + j, 0] = buffer[context_word]\n",
    "        if data_index == len(data):\n",
    "            #buffer[:] = data[:span]\n",
    "            for word in data[:span]:\n",
    "                buffer.append(word)\n",
    "            data_index = span\n",
    "        else:\n",
    "            buffer.append(data[data_index])\n",
    "            data_index += 1\n",
    "    # Backtrack a little bit to avoid skipping words in the end of a batch\n",
    "    data_index = (data_index + len(data) - span) % len(data)\n",
    "    return batch, labels"
   ]
  },
  {
   "cell_type": "code",
   "execution_count": 9,
   "metadata": {},
   "outputs": [
    {
     "name": "stdout",
     "output_type": "stream",
     "text": [
      "21 4826 -> 1 6939\n",
      "21 4826 -> 1777 38803\n",
      "1777 38803 -> 6040 56203\n",
      "1777 38803 -> 21 4826\n",
      "6040 56203 -> 1777 38803\n",
      "6040 56203 -> 1 6939\n",
      "1 6939 -> 21 4826\n",
      "1 6939 -> 6040 56203\n",
      "21 4826 -> 1 6939\n",
      "21 4826 -> 1777 38803\n",
      "1777 38803 -> 6040 56203\n",
      "1777 38803 -> 21 4826\n",
      "6040 56203 -> 1777 38803\n",
      "6040 56203 -> 1 6939\n",
      "1 6939 -> 21 4826\n",
      "1 6939 -> 6040 56203\n"
     ]
    }
   ],
   "source": [
    "batch, labels = generate_batch(batch_size=16, num_skips=2, skip_window=1)\n",
    "for i in range(16):\n",
    "    print(batch[i], reverse_dictionary[batch[i]],\n",
    "                '->', labels[i, 0], reverse_dictionary[labels[i, 0]])"
   ]
  },
  {
   "cell_type": "code",
   "execution_count": 10,
   "metadata": {},
   "outputs": [],
   "source": [
    "# Step 4: Build and train a skip-gram model.\n",
    "\n",
    "batch_size = 1024\n",
    "embedding_size = 32  # Dimension of the embedding vector. 32. lets try higher dims\n",
    "skip_window = 8       # How many words to consider left and right.\n",
    "num_skips = 2         # How many times to reuse an input to generate a label.\n",
    "num_sampled = 64      # Number of negative examples to sample."
   ]
  },
  {
   "cell_type": "code",
   "execution_count": 11,
   "metadata": {},
   "outputs": [],
   "source": [
    "# We pick a random validation set to sample nearest neighbors. Here we limit the\n",
    "# validation samples to the words that have a low numeric ID, which by\n",
    "# construction are also the most frequent. These 3 variables are used only for\n",
    "# displaying model accuracy, they don't affect calculation.\n",
    "valid_size = 16     # Random set of words to evaluate similarity on.\n",
    "valid_window = 100  # Only pick dev samples in the head of the distribution.\n",
    "valid_examples = np.random.choice(valid_window, valid_size, replace=False)"
   ]
  },
  {
   "cell_type": "code",
   "execution_count": 29,
   "metadata": {},
   "outputs": [],
   "source": [
    "graph = tf.Graph()\n",
    "\n",
    "with graph.as_default():\n",
    "\n",
    "    # Input data.\n",
    "    train_inputs = tf.placeholder(tf.int32, shape=[batch_size])\n",
    "    train_labels = tf.placeholder(tf.int32, shape=[batch_size, 1])\n",
    "    valid_dataset = tf.constant(valid_examples, dtype=tf.int32)\n",
    "\n",
    "    # Ops and variables pinned to the CPU because of missing GPU implementation\n",
    "    with tf.device('/gpu:0'):\n",
    "        # Look up embeddings for inputs.\n",
    "        embeddings = tf.Variable(\n",
    "                tf.random_uniform([vocabulary_size, embedding_size], -1.0, 1.0))\n",
    "        embed = tf.nn.embedding_lookup(embeddings, train_inputs)\n",
    "\n",
    "        # Construct the variables for the NCE loss\n",
    "        nce_weights = tf.Variable(\n",
    "                tf.truncated_normal([vocabulary_size, embedding_size],\n",
    "                                                        stddev=1.0 / math.sqrt(embedding_size)))\n",
    "        nce_biases = tf.Variable(tf.zeros([vocabulary_size]))\n",
    "    \n",
    "    global_step = tf.Variable(0, trainable=False)\n",
    "    starter_learning_rate = 1.0\n",
    "    learning_rate = tf.train.natural_exp_decay(starter_learning_rate, global_step,15000, 0.99, staircase= False)\n",
    "\n",
    "    loss = tf.reduce_mean(\n",
    "            tf.nn.nce_loss(weights=nce_weights,\n",
    "                                         biases=nce_biases,\n",
    "                                         labels=train_labels,\n",
    "                                         inputs=embed,\n",
    "                                         num_sampled=num_sampled,\n",
    "                                         num_classes=vocabulary_size))\n",
    "\n",
    "    # Construct the SGD optimizer using a learning rate of 1.0.\n",
    "    optimizer = (tf.train.GradientDescentOptimizer(learning_rate).minimize(loss,global_step = global_step))\n",
    "\n",
    "    # What if we use AdamOptimizer\n",
    "    #optimizer = (tf.train.AdamOptimizer(learning_rate).minimize(loss,global_step = global_step))\n",
    "    \n",
    "    # Compute the cosine similarity between minibatch examples and all embeddings.\n",
    "    norm = tf.sqrt(tf.reduce_sum(tf.square(embeddings),\n",
    "     1, keepdims=True)) #keep_dims is deprecated use keepdims instead\n",
    "    normalized_embeddings = embeddings / norm\n",
    "    valid_embeddings = tf.nn.embedding_lookup(\n",
    "            normalized_embeddings, valid_dataset)\n",
    "    similarity = tf.matmul(\n",
    "            valid_embeddings, normalized_embeddings, transpose_b=True)\n",
    "    lr_print = tf.Print(learning_rate,[learning_rate])\n",
    "    # Add variable initializer.\n",
    "    init = tf.global_variables_initializer()"
   ]
  },
  {
   "cell_type": "code",
   "execution_count": 30,
   "metadata": {},
   "outputs": [],
   "source": [
    "# Step 5: Begin training.\n",
    "num_steps = 25001"
   ]
  },
  {
   "cell_type": "code",
   "execution_count": 31,
   "metadata": {},
   "outputs": [
    {
     "name": "stdout",
     "output_type": "stream",
     "text": [
      "Initialized\n",
      "Average loss at step  0 :  238.64320373535156 learning rate:  1.0\n",
      "Average loss at step  1000 :  113.33941247940064 learning rate:  0.9361308\n",
      "Average loss at step  2000 :  53.023948479175566 learning rate:  0.8763409\n",
      "Average loss at step  3000 :  31.849218672275544 learning rate:  0.82036984\n",
      "Average loss at step  4000 :  20.632206284821034 learning rate:  0.7679735\n",
      "Average loss at step  5000 :  15.659380349874496 learning rate:  0.71892375\n",
      "Average loss at step  6000 :  11.973916989564895 learning rate:  0.6730067\n",
      "Average loss at step  7000 :  10.297059417247771 learning rate:  0.6300223\n",
      "Average loss at step  8000 :  8.199894056916238 learning rate:  0.5897833\n",
      "Average loss at step  9000 :  7.643312360852957 learning rate:  0.55211437\n",
      "Average loss at step  10000 :  6.444615033984184 learning rate:  0.5168513\n",
      "Average loss at step  11000 :  6.1539366735816 learning rate:  0.48384047\n",
      "Average loss at step  12000 :  5.930811198830605 learning rate:  0.45293802\n",
      "Average loss at step  13000 :  5.381000298917294 learning rate:  0.42400923\n",
      "Average loss at step  14000 :  5.4493866374492645 learning rate:  0.39692813\n",
      "Average loss at step  15000 :  4.755508037269116 learning rate:  0.37157667\n",
      "Average loss at step  16000 :  5.055499836683273 learning rate:  0.34784433\n",
      "Average loss at step  17000 :  4.622115472733975 learning rate:  0.3256279\n",
      "Average loss at step  18000 :  4.750973177313805 learning rate:  0.30483028\n",
      "Average loss at step  19000 :  4.54731289589405 learning rate:  0.28536108\n",
      "Average loss at step  20000 :  4.441729752361774 learning rate:  0.2671353\n",
      "Average loss at step  21000 :  4.514172611474991 learning rate:  0.25007358\n",
      "Average loss at step  22000 :  4.390156767904759 learning rate:  0.2341016\n",
      "Average loss at step  23000 :  4.449853973686695 learning rate:  0.21914974\n",
      "Average loss at step  24000 :  4.0972341590523715 learning rate:  0.20515285\n",
      "Average loss at step  25000 :  4.477488783597946 learning rate:  0.19204992\n",
      "Time Taken: 161.16871118545532\n"
     ]
    }
   ],
   "source": [
    "## SGD ##\n",
    "\n",
    "import time\n",
    "start = time.time()\n",
    "with tf.Session(graph=graph) as session:\n",
    "    # We must initialize all variables before we use them.\n",
    "    init.run()\n",
    "    print('Initialized')\n",
    "\n",
    "    average_loss = 0\n",
    "    for step in xrange(num_steps):\n",
    "        batch_inputs, batch_labels = generate_batch(\n",
    "                batch_size, num_skips, skip_window)\n",
    "        feed_dict = {train_inputs: batch_inputs, train_labels: batch_labels}\n",
    "\n",
    "        # We perform one update step by evaluating the optimizer op (including it\n",
    "        # in the list of returned values for session.run()\n",
    "        _, loss_val,__ = session.run([optimizer, loss,lr_print], feed_dict=feed_dict)\n",
    "        average_loss += loss_val\n",
    "        if step % 1000 == 0:\n",
    "            if step > 0:\n",
    "                average_loss /= 1000\n",
    "            print('Average loss at step ', step, ': ', average_loss,'learning rate: ',__)\n",
    "            average_loss = 0\n",
    "    final_embeddings = normalized_embeddings.eval()\n",
    "end = time.time()\n",
    "print(\"Time Taken: {}\".format(end-start))"
   ]
  },
  {
   "cell_type": "code",
   "execution_count": 38,
   "metadata": {},
   "outputs": [],
   "source": [
    "import pickle\n",
    "if os.name != 'posix':\n",
    "    pickle.dump(final_embeddings,open(r'M:\\Course stuff\\ASPRI\\supervised\\gcp_fe','wb'))\n",
    "    pickle.dump(dictionary,open(r'M:\\Course stuff\\ASPRI\\supervised\\gcp_dictionary','wb'))\n",
    "    pickle.dump(reverse_dictionary,open(r'M:\\Course stuff\\ASPRI\\supervised\\gcp_reverse_dictionary','wb'))\n",
    "    pickle.dump(count,open(r'M:\\Course stuff\\ASPRI\\supervised\\gcp_count','wb'))\n",
    "else:\n",
    "    pickle.dump(final_embeddings,open('../supervised/gcp_fe','wb'))\n",
    "    pickle.dump(dictionary,open('../supervised/gcp_dictionary','wb'))\n",
    "    pickle.dump(reverse_dictionary,open('../supervised/gcp_reverse_dictionary','wb'))\n",
    "    pickle.dump(count,open('../supervised/gcp_count','wb'))"
   ]
  },
  {
   "cell_type": "code",
   "execution_count": 22,
   "metadata": {},
   "outputs": [
    {
     "name": "stdout",
     "output_type": "stream",
     "text": [
      "Initialized\n",
      "Average loss at step  0 :  239.35374450683594 learning rate:  0.3\n",
      "Average loss at step  1000 :  354.6954771118164 learning rate:  0.15818773\n",
      "Average loss at step  2000 :  299.98757736206056 learning rate:  0.083411194\n",
      "Average loss at step  3000 :  210.07967912101745 learning rate:  0.043982092\n",
      "Average loss at step  4000 :  119.77814964580536 learning rate:  0.023191424\n",
      "Average loss at step  5000 :  96.2158209285736 learning rate:  0.012228664\n",
      "Average loss at step  6000 :  76.0393486995697 learning rate:  0.006448081\n",
      "Average loss at step  7000 :  74.58763418102265 learning rate:  0.0034000257\n",
      "Average loss at step  8000 :  70.31025193095208 learning rate:  0.0017928071\n",
      "Average loss at step  9000 :  67.43666778588295 learning rate:  0.0009453337\n",
      "Average loss at step  10000 :  71.29255172586441 learning rate:  0.0004984674\n",
      "Average loss at step  11000 :  60.87468455958366 learning rate:  0.00026283797\n",
      "Average loss at step  12000 :  72.74854782295228 learning rate:  0.0001385925\n",
      "Average loss at step  13000 :  58.65602460694313 learning rate:  7.307878e-05\n",
      "Average loss at step  14000 :  68.51147059392929 learning rate:  3.853391e-05\n",
      "Average loss at step  15000 :  62.23639975762367 learning rate:  2.0318634e-05\n",
      "Average loss at step  16000 :  68.4259562318325 learning rate:  1.0713857e-05\n",
      "Average loss at step  17000 :  62.67426591205597 learning rate:  5.649339e-06\n",
      "Average loss at step  18000 :  64.32804232192039 learning rate:  2.978853e-06\n",
      "Average loss at step  19000 :  68.33770013475419 learning rate:  1.570726e-06\n",
      "Average loss at step  20000 :  61.83637559080124 learning rate:  8.2823243e-07\n",
      "Average loss at step  21000 :  68.36403580975532 learning rate:  4.3672054e-07\n",
      "Average loss at step  22000 :  59.57639042520523 learning rate:  2.3027934e-07\n",
      "Average loss at step  23000 :  69.33086984014511 learning rate:  1.2142463e-07\n",
      "Average loss at step  24000 :  60.775703595399854 learning rate:  6.402627e-08\n",
      "Average loss at step  25000 :  67.93260390543938 learning rate:  3.3760585e-08\n",
      "Time Taken: 179.2339005470276\n"
     ]
    }
   ],
   "source": [
    "## ADAM ##\n",
    "import time\n",
    "start = time.time()\n",
    "with tf.Session(graph=graph) as session:\n",
    "    # We must initialize all variables before we use them.\n",
    "    init.run()\n",
    "    print('Initialized')\n",
    "\n",
    "    average_loss = 0\n",
    "    for step in xrange(num_steps):\n",
    "        batch_inputs, batch_labels = generate_batch(\n",
    "                batch_size, num_skips, skip_window)\n",
    "        feed_dict = {train_inputs: batch_inputs, train_labels: batch_labels}\n",
    "\n",
    "        # We perform one update step by evaluating the optimizer op (including it\n",
    "        # in the list of returned values for session.run()\n",
    "        _, loss_val,__ = session.run([optimizer, loss,lr_print], feed_dict=feed_dict)\n",
    "        average_loss += loss_val\n",
    "        if step % 1000 == 0:\n",
    "            if step > 0:\n",
    "                average_loss /= 1000\n",
    "            print('Average loss at step ', step, ': ', average_loss,'learning rate: ',__)\n",
    "            average_loss = 0\n",
    "    final_embeddings = normalized_embeddings.eval()\n",
    "end = time.time()\n",
    "print(\"Time Taken: {}\".format(end-start))"
   ]
  },
  {
   "cell_type": "code",
   "execution_count": 39,
   "metadata": {},
   "outputs": [
    {
     "data": {
      "text/plain": [
       "(24612, 32)"
      ]
     },
     "execution_count": 39,
     "metadata": {},
     "output_type": "execute_result"
    }
   ],
   "source": [
    "final_embeddings.shape"
   ]
  },
  {
   "cell_type": "code",
   "execution_count": 40,
   "metadata": {},
   "outputs": [],
   "source": [
    "def plot_with_labels(low_dim_embs, labels, filename):\n",
    "    assert low_dim_embs.shape[0] >= len(labels), 'More labels than embeddings'\n",
    "    plt.figure(figsize=(20,20))  # in inches\n",
    "    for i, label in enumerate(labels):\n",
    "        x, y = low_dim_embs[i, :]\n",
    "        plt.scatter(x, y)\n",
    "        plt.annotate(label,\n",
    "                                 xy=(x, y),\n",
    "                                 xytext=(5, 2),\n",
    "                                 textcoords='offset points',\n",
    "                                 ha='right',\n",
    "                                 va='bottom')\n",
    "\n",
    "    plt.show()\n",
    "    #plt.savefig(filename)try:\n",
    "    # pylint: disable=g-import-not-at-top\n"
   ]
  },
  {
   "cell_type": "code",
   "execution_count": 41,
   "metadata": {},
   "outputs": [
    {
     "name": "stdout",
     "output_type": "stream",
     "text": [
      "final_embeddings size (24612, 32)\n"
     ]
    },
    {
     "data": {
      "image/png": "[encoded data removed]",
      "text/plain": [
       "<matplotlib.figure.Figure at 0x7f230f3386a0>"
      ]
     },
     "metadata": {},
     "output_type": "display_data"
    }
   ],
   "source": [
    "try:\n",
    "    # pylint: disable=g-import-not-at-top\n",
    "    from sklearn.manifold import TSNE\n",
    "    import matplotlib.pyplot as plt\n",
    "    %matplotlib inline\n",
    "    print(\"final_embeddings size\",final_embeddings.shape)\n",
    "    tsne = TSNE(perplexity=30, n_components=2, init='pca', n_iter=5000, method='exact')\n",
    "    plot_only = 50\n",
    "    low_dim_embs = tsne.fit_transform(final_embeddings[:plot_only, :])\n",
    "    labels = [reverse_dictionary[i] for i in xrange(plot_only)]\n",
    "    plot_with_labels(low_dim_embs, labels, os.path.join(os.getcwd(), str(\"_\"+str(num_steps)+\".png\")))\n",
    "\n",
    "except ImportError as ex:\n",
    "    print('Please install sklearn, matplotlib, and scipy to show embeddings.')\n",
    "    print(ex)"
   ]
  },
  {
   "cell_type": "code",
   "execution_count": null,
   "metadata": {},
   "outputs": [],
   "source": []
  }
 ],
 "metadata": {
  "kernelspec": {
   "display_name": "Python 3",
   "language": "python",
   "name": "python3"
  },
  "language_info": {
   "codemirror_mode": {
    "name": "ipython",
    "version": 3
   },
   "file_extension": ".py",
   "mimetype": "text/x-python",
   "name": "python",
   "nbconvert_exporter": "python",
   "pygments_lexer": "ipython3",
   "version": "3.5.2"
  }
 },
 "nbformat": 4,
 "nbformat_minor": 2
}
